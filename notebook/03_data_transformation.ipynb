{
 "cells": [
  {
   "cell_type": "code",
   "execution_count": 1,
   "metadata": {},
   "outputs": [],
   "source": [
    "import os\n",
    "import sys"
   ]
  },
  {
   "cell_type": "code",
   "execution_count": 2,
   "metadata": {},
   "outputs": [
    {
     "data": {
      "text/plain": [
       "'d:\\\\collab_projects\\\\South_German_Credit_Risk\\\\notebook'"
      ]
     },
     "execution_count": 2,
     "metadata": {},
     "output_type": "execute_result"
    }
   ],
   "source": [
    "%pwd"
   ]
  },
  {
   "cell_type": "code",
   "execution_count": 3,
   "metadata": {},
   "outputs": [],
   "source": [
    "os.chdir(\"../\")"
   ]
  },
  {
   "cell_type": "code",
   "execution_count": 4,
   "metadata": {},
   "outputs": [
    {
     "data": {
      "text/plain": [
       "'d:\\\\collab_projects\\\\South_German_Credit_Risk'"
      ]
     },
     "execution_count": 4,
     "metadata": {},
     "output_type": "execute_result"
    }
   ],
   "source": [
    "%pwd"
   ]
  },
  {
   "cell_type": "markdown",
   "metadata": {},
   "source": [
    "### Create the Entity"
   ]
  },
  {
   "cell_type": "code",
   "execution_count": 5,
   "metadata": {},
   "outputs": [],
   "source": [
    "from dataclasses import dataclass\n",
    "from pathlib import Path \n",
    "\n",
    "\n",
    "@dataclass(frozen=True)\n",
    "class DataTransformationConfig:\n",
    "    root_dir: Path \n",
    "    data_path: Path"
   ]
  },
  {
   "cell_type": "markdown",
   "metadata": {},
   "source": [
    "### Create ConfigurationManager"
   ]
  },
  {
   "cell_type": "code",
   "execution_count": 6,
   "metadata": {},
   "outputs": [],
   "source": [
    "from South_German_Bank.constants import *\n",
    "from South_German_Bank.utils.common import read_yaml, create_directories"
   ]
  },
  {
   "cell_type": "code",
   "execution_count": 7,
   "metadata": {},
   "outputs": [],
   "source": [
    "class ConfigurationManager:\n",
    "    def __init__(\n",
    "            self,\n",
    "            config_filepath = CONFIG_FILE_PATH,\n",
    "            params_filepath = PARAMS_FILE_PATH,\n",
    "            schema_filepath = SCHEMA_FILE_PATH):\n",
    "        \n",
    "        self.config = read_yaml(config_filepath)\n",
    "        self.params = read_yaml(params_filepath)\n",
    "        self.schema = read_yaml(schema_filepath)\n",
    "\n",
    "        create_directories([self.config.artifacts_root])\n",
    "\n",
    "\n",
    "    def get_data_transformation_config(self)->DataTransformationConfig:\n",
    "        config = self.config.data_transformation\n",
    "\n",
    "        create_directories([config.root_dir])\n",
    "\n",
    "        data_transformation_config = DataTransformationConfig(\n",
    "            root_dir=config.root_dir,\n",
    "            data_path=config.data_path\n",
    "        )\n",
    "\n",
    "        return data_transformation_config"
   ]
  },
  {
   "cell_type": "markdown",
   "metadata": {},
   "source": [
    "### Create Components"
   ]
  },
  {
   "cell_type": "code",
   "execution_count": 21,
   "metadata": {},
   "outputs": [],
   "source": [
    "import os\n",
    "from South_German_Bank.logging import logger\n",
    "from sklearn.model_selection import train_test_split\n",
    "import pandas as pd\n",
    "import numpy as np\n",
    "from sklearn.compose import ColumnTransformer\n",
    "from sklearn.impute import SimpleImputer\n",
    "from sklearn.pipeline import Pipeline\n",
    "from sklearn.preprocessing import OrdinalEncoder, RobustScaler"
   ]
  },
  {
   "cell_type": "code",
   "execution_count": 19,
   "metadata": {},
   "outputs": [],
   "source": [
    "\n",
    "class DataTransformation:\n",
    "    def __init__(self, config: DataTransformationConfig):\n",
    "        self.config = config\n",
    "        self.preprocessor = None  # Initialize preprocessor as None\n",
    "\n",
    "    def get_data_transformation(self):\n",
    "        try:\n",
    "            # Load the data\n",
    "            df = pd.read_csv(self.config.data_path)\n",
    "\n",
    "            numerical_features = df.select_dtypes(exclude=\"object\").columns\n",
    "            categorical_features = df.select_dtypes(include=\"object\").columns\n",
    "\n",
    "            num_pipeline = Pipeline(\n",
    "                steps=[\n",
    "                    (\"imputer\", SimpleImputer(strategy=\"median\")),\n",
    "                    (\"robustscaler\", RobustScaler())\n",
    "                ]\n",
    "            )\n",
    "\n",
    "            cat_pipeline = Pipeline(\n",
    "                steps=[\n",
    "                    (\"imputer\", SimpleImputer(strategy=\"most_frequent\")),\n",
    "                    (\"ordinalEncoder\", OrdinalEncoder()),\n",
    "                    (\"robustscaler\", RobustScaler())\n",
    "                ]\n",
    "            )\n",
    "\n",
    "            logger.info(f\"Categorical columns: {categorical_features}\")\n",
    "            logger.info(f\"Numerical columns: {numerical_features}\")\n",
    "\n",
    "            preprocessor = ColumnTransformer(\n",
    "                transformers=[\n",
    "                    (\"num_pipeline\", num_pipeline, numerical_features),\n",
    "                    (\"cat_pipeline\", cat_pipeline, categorical_features)\n",
    "                ]\n",
    "            )\n",
    "\n",
    "            self.preprocessor = preprocessor  # Store the preprocessor for later use\n",
    "            logger.info(\"Data preprocessing done\")\n",
    "\n",
    "        except Exception as e:\n",
    "            raise e\n",
    "\n",
    "    def train_test_split(self):\n",
    "        if self.preprocessor is None:\n",
    "            raise ValueError(\"Preprocessor is not available. Please call get_data_transformation first.\")\n",
    "\n",
    "        data = pd.read_csv(self.config.data_path)\n",
    "\n",
    "        # Transform the data using the preprocessor\n",
    "        transformed_data = self.preprocessor.fit_transform(data)\n",
    "\n",
    "        # Convert the transformed data back to a DataFrame\n",
    "        transformed_df = pd.DataFrame(transformed_data, columns=data.columns)\n",
    "\n",
    "        # Split the data into train and test sets\n",
    "        train, test = train_test_split(transformed_df)\n",
    "\n",
    "        # Save the encoded train and test sets to CSV files\n",
    "        train.to_csv(os.path.join(self.config.root_dir, \"train.csv\"), index=False)\n",
    "        test.to_csv(os.path.join(self.config.root_dir, \"test.csv\"), index=False)\n",
    "\n",
    "        logger.info(\"Splited data into training and test sets\")\n",
    "        logger.info(train.shape)\n",
    "        logger.info(test.shape)\n"
   ]
  },
  {
   "cell_type": "markdown",
   "metadata": {},
   "source": [
    "### Create Pipeline"
   ]
  },
  {
   "cell_type": "code",
   "execution_count": 20,
   "metadata": {},
   "outputs": [
    {
     "name": "stdout",
     "output_type": "stream",
     "text": [
      "[{asctime}s: INFO: common: yaml file: config\\config.yaml loaded successfully]\n",
      "[{asctime}s: INFO: common: yaml file: params.yaml loaded successfully]\n",
      "[{asctime}s: INFO: common: yaml file: schema.yaml loaded successfully]\n",
      "[{asctime}s: INFO: common: created directory at: artifacts]\n",
      "[{asctime}s: INFO: common: created directory at: artifacts/data_transformation]\n"
     ]
    },
    {
     "name": "stdout",
     "output_type": "stream",
     "text": [
      "[{asctime}s: INFO: 1679601004: Categorical columns: Index(['status', 'credit_history', 'purpose', 'savings', 'employment_duration',\n",
      "       'installment_rate', 'personal_status_sex', 'other_debtors',\n",
      "       'present_residence', 'property', 'other_installment_plans', 'housing',\n",
      "       'number_credits', 'job', 'people_liable', 'telephone', 'foreign_worker',\n",
      "       'credit_risk'],\n",
      "      dtype='object')]\n",
      "[{asctime}s: INFO: 1679601004: Numerical columns: Index(['duration', 'amount', 'age'], dtype='object')]\n",
      "[{asctime}s: INFO: 1679601004: Data preprocessing done]\n",
      "[{asctime}s: INFO: 1679601004: Splited data into training and test sets]\n",
      "[{asctime}s: INFO: 1679601004: (750, 21)]\n",
      "[{asctime}s: INFO: 1679601004: (250, 21)]\n"
     ]
    }
   ],
   "source": [
    "try:\n",
    "    config = ConfigurationManager()\n",
    "    data_transformation_config = config.get_data_transformation_config()\n",
    "    data_transformation = DataTransformation(config=data_transformation_config)\n",
    "    data_transformation.get_data_transformation()\n",
    "    data_transformation.train_test_split()\n",
    "except Exception as e:\n",
    "    raise e\n"
   ]
  },
  {
   "cell_type": "code",
   "execution_count": null,
   "metadata": {},
   "outputs": [],
   "source": []
  }
 ],
 "metadata": {
  "kernelspec": {
   "display_name": "Python 3",
   "language": "python",
   "name": "python3"
  },
  "language_info": {
   "codemirror_mode": {
    "name": "ipython",
    "version": 3
   },
   "file_extension": ".py",
   "mimetype": "text/x-python",
   "name": "python",
   "nbconvert_exporter": "python",
   "pygments_lexer": "ipython3",
   "version": "3.8.17"
  },
  "orig_nbformat": 4
 },
 "nbformat": 4,
 "nbformat_minor": 2
}
