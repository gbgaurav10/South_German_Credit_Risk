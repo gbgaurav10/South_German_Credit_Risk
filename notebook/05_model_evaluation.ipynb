{
 "cells": [
  {
   "cell_type": "code",
   "execution_count": 1,
   "metadata": {},
   "outputs": [],
   "source": [
    "import os \n",
    "import sys"
   ]
  },
  {
   "cell_type": "code",
   "execution_count": 2,
   "metadata": {},
   "outputs": [
    {
     "data": {
      "text/plain": [
       "'/config/workspace/notebook'"
      ]
     },
     "execution_count": 2,
     "metadata": {},
     "output_type": "execute_result"
    }
   ],
   "source": [
    "%pwd"
   ]
  },
  {
   "cell_type": "code",
   "execution_count": 3,
   "metadata": {},
   "outputs": [],
   "source": [
    "os.chdir(\"../\")"
   ]
  },
  {
   "cell_type": "code",
   "execution_count": 4,
   "metadata": {},
   "outputs": [
    {
     "data": {
      "text/plain": [
       "'/config/workspace'"
      ]
     },
     "execution_count": 4,
     "metadata": {},
     "output_type": "execute_result"
    }
   ],
   "source": [
    "%pwd"
   ]
  },
  {
   "cell_type": "code",
   "execution_count": 5,
   "metadata": {},
   "outputs": [
    {
     "data": {
      "text/plain": [
       "' os.environ[\"MLFLOW_TRACKING_URI\"]=\"https://dagshub.com/gbiamgaurav/South_German_Credit_Risk.mlflow\"\\nos.environ[\"MLFLOW_TRACKING_USERNAME\"]=\"gbiamgaurav\" \\nos.environ[\"MLFLOW_TRACKING_PASSWORD\"]=\"352861024ebede76aa75cf4ea021ee1f74b0e39f\" '"
      ]
     },
     "execution_count": 5,
     "metadata": {},
     "output_type": "execute_result"
    }
   ],
   "source": [
    "\"\"\" os.environ[\"MLFLOW_TRACKING_URI\"]=\"https://dagshub.com/gbiamgaurav/South_German_Credit_Risk.mlflow\"\n",
    "os.environ[\"MLFLOW_TRACKING_USERNAME\"]=\"gbiamgaurav\" \n",
    "os.environ[\"MLFLOW_TRACKING_PASSWORD\"]=\"352861024ebede76aa75cf4ea021ee1f74b0e39f\" \"\"\""
   ]
  },
  {
   "cell_type": "markdown",
   "metadata": {},
   "source": [
    "### Create Entity"
   ]
  },
  {
   "cell_type": "code",
   "execution_count": 6,
   "metadata": {},
   "outputs": [],
   "source": [
    "from dataclasses import dataclass\n",
    "from pathlib import Path \n",
    "\n",
    "\n",
    "@dataclass(frozen=True)\n",
    "class ModelEvaluationConfig:\n",
    "    root_dir: Path \n",
    "    test_data_path: Path \n",
    "    model_path: Path \n",
    "    all_params: dict \n",
    "    metric_file_name: Path \n",
    "    target_column: str "
   ]
  },
  {
   "cell_type": "markdown",
   "metadata": {},
   "source": [
    "### Create ConfigurationManager"
   ]
  },
  {
   "cell_type": "code",
   "execution_count": 7,
   "metadata": {},
   "outputs": [],
   "source": [
    "from South_German_Bank.constants import * \n",
    "from South_German_Bank.utils.common import read_yaml, create_directories, save_json"
   ]
  },
  {
   "cell_type": "code",
   "execution_count": 8,
   "metadata": {},
   "outputs": [],
   "source": [
    "class ConfigurationManager:\n",
    "    def __init__(\n",
    "            self,\n",
    "            config_filepath = CONFIG_FILE_PATH,\n",
    "            params_filepath = PARAMS_FILE_PATH,\n",
    "            schema_filepath = SCHEMA_FILE_PATH):\n",
    "        \n",
    "        self.config = read_yaml(config_filepath)\n",
    "        self.params = read_yaml(params_filepath)\n",
    "        self.schema = read_yaml(schema_filepath)\n",
    "\n",
    "        create_directories([self.config.artifacts_root])\n",
    "\n",
    "    def get_model_evaluation_config(self)->ModelEvaluationConfig:\n",
    "        config = self.config.model_evaluation\n",
    "        params = self.params.XGBClassifier\n",
    "        schema = self.schema.TARGET_COLUMN \n",
    "\n",
    "        create_directories([config.root_dir])\n",
    "\n",
    "        model_evaluation_config = ModelEvaluationConfig(\n",
    "            root_dir=config.root_dir,\n",
    "            test_data_path=config.test_data_path,\n",
    "            model_path=config.model_path,\n",
    "            all_params=params,\n",
    "            metric_file_name=config.metric_file_name,\n",
    "            target_column=schema.name,\n",
    "            \n",
    "        )\n",
    "\n",
    "        return model_evaluation_config"
   ]
  },
  {
   "cell_type": "markdown",
   "metadata": {},
   "source": [
    "### Create Components"
   ]
  },
  {
   "cell_type": "code",
   "execution_count": 9,
   "metadata": {},
   "outputs": [],
   "source": [
    "import os \n",
    "import pandas as pd\n",
    "from sklearn.metrics import accuracy_score, f1_score, precision_score, recall_score, roc_auc_score\n",
    "from urllib.parse import urlparse\n",
    "import json\n",
    "import numpy as np \n",
    "import joblib\n",
    "from South_German_Bank.constants import * \n",
    "from South_German_Bank.utils.common import read_yaml, create_directories, save_json"
   ]
  },
  {
   "cell_type": "code",
   "execution_count": 10,
   "metadata": {},
   "outputs": [],
   "source": [
    "class ModelEvaluation:\n",
    "    def __init__(self, config: ModelEvaluationConfig):\n",
    "        self.config = config\n",
    "\n",
    "    def eval_metrics(self, actual, pred):\n",
    "        acc = accuracy_score(actual, pred)\n",
    "        f1 = f1_score(actual, pred)\n",
    "        p_score = precision_score(actual, pred)\n",
    "        r_score = recall_score(actual, pred)\n",
    "        ras = roc_auc_score(actual, pred)\n",
    "        return acc, f1, p_score, r_score, ras\n",
    "\n",
    "    def log_metrics_locally(self, acc, f1, p_score, r_score, ras):\n",
    "        scores = {\n",
    "            \"accuracy_score\": acc,\n",
    "            \"f1_score\": f1,\n",
    "            \"precision_score\": p_score,\n",
    "            \"recall_score\": r_score,\n",
    "            \"roc_auc_score\": ras\n",
    "        }\n",
    "        with open(self.config.metric_file_name, \"w\") as f:\n",
    "            json.dump(scores, f)\n",
    "\n",
    "    def evaluate_model(self):\n",
    "        test_data = pd.read_csv(self.config.test_data_path)\n",
    "        model = joblib.load(self.config.model_path)\n",
    "\n",
    "        X_test = test_data.drop(self.config.target_column, axis=1)\n",
    "        y_test = test_data[[self.config.target_column]]\n",
    "\n",
    "        predicted_qualities = model.predict(X_test)\n",
    "\n",
    "        acc, f1, p_score, r_score, ras = self.eval_metrics(y_test, predicted_qualities)\n",
    "\n",
    "        self.log_metrics_locally(acc, f1, p_score, r_score, ras)"
   ]
  },
  {
   "cell_type": "markdown",
   "metadata": {},
   "source": [
    "### Create Pipeline"
   ]
  },
  {
   "cell_type": "code",
   "execution_count": 11,
   "metadata": {},
   "outputs": [
    {
     "name": "stdout",
     "output_type": "stream",
     "text": [
      "[{asctime}s: INFO: common: yaml file: config/config.yaml loaded successfully]\n",
      "[{asctime}s: INFO: common: yaml file: params.yaml loaded successfully]\n",
      "[{asctime}s: INFO: common: yaml file: schema.yaml loaded successfully]\n",
      "[{asctime}s: INFO: common: created directory at: artifacts]\n",
      "[{asctime}s: INFO: common: created directory at: artifacts/model_evaluation]\n"
     ]
    }
   ],
   "source": [
    "try:\n",
    "    config = ConfigurationManager()\n",
    "    model_evaluation_config = config.get_model_evaluation_config()\n",
    "    model_evaluation = ModelEvaluation(config=model_evaluation_config)\n",
    "    model_evaluation.evaluate_model()\n",
    "except Exception as e:\n",
    "    raise e"
   ]
  },
  {
   "cell_type": "code",
   "execution_count": null,
   "metadata": {},
   "outputs": [],
   "source": []
  }
 ],
 "metadata": {
  "kernelspec": {
   "display_name": "Python 3.8.17 (conda)",
   "language": "python",
   "name": "python3"
  },
  "language_info": {
   "codemirror_mode": {
    "name": "ipython",
    "version": 3
   },
   "file_extension": ".py",
   "mimetype": "text/x-python",
   "name": "python",
   "nbconvert_exporter": "python",
   "pygments_lexer": "ipython3",
   "version": "3.8.17"
  },
  "orig_nbformat": 4,
  "vscode": {
   "interpreter": {
    "hash": "1455ae3dd1a44ef23f022f1258a92d28873138f5fe3844289f46e5c390a5d260"
   }
  }
 },
 "nbformat": 4,
 "nbformat_minor": 2
}
