{
  "cells": [
    {
      "cell_type": "markdown",
      "metadata": {
        "id": "1_FXkjLJOZE1"
      },
      "source": [
        "### South German Credit Risk"
      ]
    },
    {
      "cell_type": "markdown",
      "metadata": {
        "id": "f5ptro5lO5ul"
      },
      "source": [
        "### Load the data from github url and unzip the csv file"
      ]
    },
    {
      "cell_type": "code",
      "execution_count": 4,
      "metadata": {
        "colab": {
          "base_uri": "https://localhost:8080/"
        },
        "id": "zTvC-QD2O47e",
        "outputId": "1507c574-bd75-4731-ad69-1c8e7d95e8d3"
      },
      "outputs": [
        {
          "name": "stdout",
          "output_type": "stream",
          "text": [
            "--2023-07-31 06:46:05--  https://github.com/gbiamgaurav/South_German_Credit_Risk/raw/main/notebook/data/dataset.csv\n",
            "Resolving github.com (github.com)... 140.82.114.4\n",
            "Connecting to github.com (github.com)|140.82.114.4|:443... connected.\n",
            "HTTP request sent, awaiting response... 302 Found\n",
            "Location: https://raw.githubusercontent.com/gbiamgaurav/South_German_Credit_Risk/main/notebook/data/dataset.csv [following]\n",
            "--2023-07-31 06:46:05--  https://raw.githubusercontent.com/gbiamgaurav/South_German_Credit_Risk/main/notebook/data/dataset.csv\n",
            "Resolving raw.githubusercontent.com (raw.githubusercontent.com)... 185.199.108.133, 185.199.110.133, 185.199.109.133, ...\n",
            "Connecting to raw.githubusercontent.com (raw.githubusercontent.com)|185.199.108.133|:443... connected.\n",
            "HTTP request sent, awaiting response... 200 OK\n",
            "Length: 275923 (269K) [text/plain]\n",
            "Saving to: ‘dataset.csv.1’\n",
            "\n",
            "dataset.csv.1       100%[===================>] 269.46K  --.-KB/s    in 0.02s   \n",
            "\n",
            "2023-07-31 06:46:06 (13.6 MB/s) - ‘dataset.csv.1’ saved [275923/275923]\n",
            "\n",
            "Archive:  /content/dataset.csv\n",
            "  End-of-central-directory signature not found.  Either this file is not\n",
            "  a zipfile, or it constitutes one disk of a multi-part archive.  In the\n",
            "  latter case the central directory and zipfile comment will be found on\n",
            "  the last disk(s) of this archive.\n",
            "unzip:  cannot find zipfile directory in one of /content/dataset.csv or\n",
            "        /content/dataset.csv.zip, and cannot find /content/dataset.csv.ZIP, period.\n"
          ]
        }
      ],
      "source": [
        "!wget https://github.com/gbiamgaurav/South_German_Credit_Risk/raw/main/notebook/data/dataset.csv\n",
        "!unzip /content/dataset.csv"
      ]
    },
    {
      "cell_type": "code",
      "execution_count": 5,
      "metadata": {
        "id": "39Cs78oiOTkS"
      },
      "outputs": [],
      "source": [
        "### Import libraries\n",
        "\n",
        "import pandas as pd\n",
        "import numpy as np\n",
        "import matplotlib.pyplot as plt\n",
        "import seaborn as sns\n",
        "%matplotlib inline\n",
        "import warnings\n",
        "warnings.filterwarnings(\"ignore\")"
      ]
    },
    {
      "cell_type": "code",
      "execution_count": 6,
      "metadata": {
        "colab": {
          "base_uri": "https://localhost:8080/",
          "height": 472
        },
        "id": "eViL7tx6PKNG",
        "outputId": "14530592-6738-4e0e-e412-3bff444759fb"
      },
      "outputs": [
        {
          "data": {
            "text/html": [
              "\n",
              "\n",
              "  <div id=\"df-386942a5-df66-414f-8c94-25b8e832e425\">\n",
              "    <div class=\"colab-df-container\">\n",
              "      <div>\n",
              "<style scoped>\n",
              "    .dataframe tbody tr th:only-of-type {\n",
              "        vertical-align: middle;\n",
              "    }\n",
              "\n",
              "    .dataframe tbody tr th {\n",
              "        vertical-align: top;\n",
              "    }\n",
              "\n",
              "    .dataframe thead th {\n",
              "        text-align: right;\n",
              "    }\n",
              "</style>\n",
              "<table border=\"1\" class=\"dataframe\">\n",
              "  <thead>\n",
              "    <tr style=\"text-align: right;\">\n",
              "      <th></th>\n",
              "      <th>status</th>\n",
              "      <th>duration</th>\n",
              "      <th>credit_history</th>\n",
              "      <th>purpose</th>\n",
              "      <th>amount</th>\n",
              "      <th>savings</th>\n",
              "      <th>employment_duration</th>\n",
              "      <th>installment_rate</th>\n",
              "      <th>personal_status_sex</th>\n",
              "      <th>other_debtors</th>\n",
              "      <th>...</th>\n",
              "      <th>property</th>\n",
              "      <th>age</th>\n",
              "      <th>other_installment_plans</th>\n",
              "      <th>housing</th>\n",
              "      <th>number_credits</th>\n",
              "      <th>job</th>\n",
              "      <th>people_liable</th>\n",
              "      <th>telephone</th>\n",
              "      <th>foreign_worker</th>\n",
              "      <th>credit_risk</th>\n",
              "    </tr>\n",
              "  </thead>\n",
              "  <tbody>\n",
              "    <tr>\n",
              "      <th>0</th>\n",
              "      <td>no checking account</td>\n",
              "      <td>18</td>\n",
              "      <td>all credits at this bank paid back duly</td>\n",
              "      <td>car (used)</td>\n",
              "      <td>1049</td>\n",
              "      <td>unknown/no savings account</td>\n",
              "      <td>&lt; 1 yr</td>\n",
              "      <td>&lt; 20</td>\n",
              "      <td>female : non-single or male : single</td>\n",
              "      <td>none</td>\n",
              "      <td>...</td>\n",
              "      <td>car or other</td>\n",
              "      <td>21</td>\n",
              "      <td>none</td>\n",
              "      <td>for free</td>\n",
              "      <td>1</td>\n",
              "      <td>skilled employee/official</td>\n",
              "      <td>0 to 2</td>\n",
              "      <td>no</td>\n",
              "      <td>no</td>\n",
              "      <td>good</td>\n",
              "    </tr>\n",
              "    <tr>\n",
              "      <th>1</th>\n",
              "      <td>no checking account</td>\n",
              "      <td>9</td>\n",
              "      <td>all credits at this bank paid back duly</td>\n",
              "      <td>others</td>\n",
              "      <td>2799</td>\n",
              "      <td>unknown/no savings account</td>\n",
              "      <td>1 &lt;= ... &lt; 4 yrs</td>\n",
              "      <td>25 &lt;= ... &lt; 35</td>\n",
              "      <td>male : married/widowed</td>\n",
              "      <td>none</td>\n",
              "      <td>...</td>\n",
              "      <td>unknown / no property</td>\n",
              "      <td>36</td>\n",
              "      <td>none</td>\n",
              "      <td>for free</td>\n",
              "      <td>3-Feb</td>\n",
              "      <td>skilled employee/official</td>\n",
              "      <td>3 or more</td>\n",
              "      <td>no</td>\n",
              "      <td>no</td>\n",
              "      <td>good</td>\n",
              "    </tr>\n",
              "    <tr>\n",
              "      <th>2</th>\n",
              "      <td>... &lt; 0 DM</td>\n",
              "      <td>12</td>\n",
              "      <td>no credits taken/all credits paid back duly</td>\n",
              "      <td>retraining</td>\n",
              "      <td>841</td>\n",
              "      <td>... &lt;  100 DM</td>\n",
              "      <td>4 &lt;= ... &lt; 7 yrs</td>\n",
              "      <td>25 &lt;= ... &lt; 35</td>\n",
              "      <td>female : non-single or male : single</td>\n",
              "      <td>none</td>\n",
              "      <td>...</td>\n",
              "      <td>unknown / no property</td>\n",
              "      <td>23</td>\n",
              "      <td>none</td>\n",
              "      <td>for free</td>\n",
              "      <td>1</td>\n",
              "      <td>unskilled - resident</td>\n",
              "      <td>0 to 2</td>\n",
              "      <td>no</td>\n",
              "      <td>no</td>\n",
              "      <td>good</td>\n",
              "    </tr>\n",
              "    <tr>\n",
              "      <th>3</th>\n",
              "      <td>no checking account</td>\n",
              "      <td>12</td>\n",
              "      <td>all credits at this bank paid back duly</td>\n",
              "      <td>others</td>\n",
              "      <td>2122</td>\n",
              "      <td>unknown/no savings account</td>\n",
              "      <td>1 &lt;= ... &lt; 4 yrs</td>\n",
              "      <td>20 &lt;= ... &lt; 25</td>\n",
              "      <td>male : married/widowed</td>\n",
              "      <td>none</td>\n",
              "      <td>...</td>\n",
              "      <td>unknown / no property</td>\n",
              "      <td>39</td>\n",
              "      <td>none</td>\n",
              "      <td>for free</td>\n",
              "      <td>3-Feb</td>\n",
              "      <td>unskilled - resident</td>\n",
              "      <td>3 or more</td>\n",
              "      <td>no</td>\n",
              "      <td>yes</td>\n",
              "      <td>good</td>\n",
              "    </tr>\n",
              "    <tr>\n",
              "      <th>4</th>\n",
              "      <td>no checking account</td>\n",
              "      <td>12</td>\n",
              "      <td>all credits at this bank paid back duly</td>\n",
              "      <td>others</td>\n",
              "      <td>2171</td>\n",
              "      <td>unknown/no savings account</td>\n",
              "      <td>1 &lt;= ... &lt; 4 yrs</td>\n",
              "      <td>&lt; 20</td>\n",
              "      <td>male : married/widowed</td>\n",
              "      <td>none</td>\n",
              "      <td>...</td>\n",
              "      <td>car or other</td>\n",
              "      <td>38</td>\n",
              "      <td>bank</td>\n",
              "      <td>rent</td>\n",
              "      <td>3-Feb</td>\n",
              "      <td>unskilled - resident</td>\n",
              "      <td>0 to 2</td>\n",
              "      <td>no</td>\n",
              "      <td>yes</td>\n",
              "      <td>good</td>\n",
              "    </tr>\n",
              "  </tbody>\n",
              "</table>\n",
              "<p>5 rows × 21 columns</p>\n",
              "</div>\n",
              "      <button class=\"colab-df-convert\" onclick=\"convertToInteractive('df-386942a5-df66-414f-8c94-25b8e832e425')\"\n",
              "              title=\"Convert this dataframe to an interactive table.\"\n",
              "              style=\"display:none;\">\n",
              "\n",
              "  <svg xmlns=\"http://www.w3.org/2000/svg\" height=\"24px\"viewBox=\"0 0 24 24\"\n",
              "       width=\"24px\">\n",
              "    <path d=\"M0 0h24v24H0V0z\" fill=\"none\"/>\n",
              "    <path d=\"M18.56 5.44l.94 2.06.94-2.06 2.06-.94-2.06-.94-.94-2.06-.94 2.06-2.06.94zm-11 1L8.5 8.5l.94-2.06 2.06-.94-2.06-.94L8.5 2.5l-.94 2.06-2.06.94zm10 10l.94 2.06.94-2.06 2.06-.94-2.06-.94-.94-2.06-.94 2.06-2.06.94z\"/><path d=\"M17.41 7.96l-1.37-1.37c-.4-.4-.92-.59-1.43-.59-.52 0-1.04.2-1.43.59L10.3 9.45l-7.72 7.72c-.78.78-.78 2.05 0 2.83L4 21.41c.39.39.9.59 1.41.59.51 0 1.02-.2 1.41-.59l7.78-7.78 2.81-2.81c.8-.78.8-2.07 0-2.86zM5.41 20L4 18.59l7.72-7.72 1.47 1.35L5.41 20z\"/>\n",
              "  </svg>\n",
              "      </button>\n",
              "\n",
              "\n",
              "\n",
              "    <div id=\"df-f3190b02-1245-4f18-a366-9b772e82317b\">\n",
              "      <button class=\"colab-df-quickchart\" onclick=\"quickchart('df-f3190b02-1245-4f18-a366-9b772e82317b')\"\n",
              "              title=\"Suggest charts.\"\n",
              "              style=\"display:none;\">\n",
              "\n",
              "<svg xmlns=\"http://www.w3.org/2000/svg\" height=\"24px\"viewBox=\"0 0 24 24\"\n",
              "     width=\"24px\">\n",
              "    <g>\n",
              "        <path d=\"M19 3H5c-1.1 0-2 .9-2 2v14c0 1.1.9 2 2 2h14c1.1 0 2-.9 2-2V5c0-1.1-.9-2-2-2zM9 17H7v-7h2v7zm4 0h-2V7h2v10zm4 0h-2v-4h2v4z\"/>\n",
              "    </g>\n",
              "</svg>\n",
              "      </button>\n",
              "    </div>\n",
              "\n",
              "<style>\n",
              "  .colab-df-quickchart {\n",
              "    background-color: #E8F0FE;\n",
              "    border: none;\n",
              "    border-radius: 50%;\n",
              "    cursor: pointer;\n",
              "    display: none;\n",
              "    fill: #1967D2;\n",
              "    height: 32px;\n",
              "    padding: 0 0 0 0;\n",
              "    width: 32px;\n",
              "  }\n",
              "\n",
              "  .colab-df-quickchart:hover {\n",
              "    background-color: #E2EBFA;\n",
              "    box-shadow: 0px 1px 2px rgba(60, 64, 67, 0.3), 0px 1px 3px 1px rgba(60, 64, 67, 0.15);\n",
              "    fill: #174EA6;\n",
              "  }\n",
              "\n",
              "  [theme=dark] .colab-df-quickchart {\n",
              "    background-color: #3B4455;\n",
              "    fill: #D2E3FC;\n",
              "  }\n",
              "\n",
              "  [theme=dark] .colab-df-quickchart:hover {\n",
              "    background-color: #434B5C;\n",
              "    box-shadow: 0px 1px 3px 1px rgba(0, 0, 0, 0.15);\n",
              "    filter: drop-shadow(0px 1px 2px rgba(0, 0, 0, 0.3));\n",
              "    fill: #FFFFFF;\n",
              "  }\n",
              "</style>\n",
              "\n",
              "    <script>\n",
              "      async function quickchart(key) {\n",
              "        const containerElement = document.querySelector('#' + key);\n",
              "        const charts = await google.colab.kernel.invokeFunction(\n",
              "            'suggestCharts', [key], {});\n",
              "      }\n",
              "    </script>\n",
              "\n",
              "      <script>\n",
              "\n",
              "function displayQuickchartButton(domScope) {\n",
              "  let quickchartButtonEl =\n",
              "    domScope.querySelector('#df-f3190b02-1245-4f18-a366-9b772e82317b button.colab-df-quickchart');\n",
              "  quickchartButtonEl.style.display =\n",
              "    google.colab.kernel.accessAllowed ? 'block' : 'none';\n",
              "}\n",
              "\n",
              "        displayQuickchartButton(document);\n",
              "      </script>\n",
              "      <style>\n",
              "    .colab-df-container {\n",
              "      display:flex;\n",
              "      flex-wrap:wrap;\n",
              "      gap: 12px;\n",
              "    }\n",
              "\n",
              "    .colab-df-convert {\n",
              "      background-color: #E8F0FE;\n",
              "      border: none;\n",
              "      border-radius: 50%;\n",
              "      cursor: pointer;\n",
              "      display: none;\n",
              "      fill: #1967D2;\n",
              "      height: 32px;\n",
              "      padding: 0 0 0 0;\n",
              "      width: 32px;\n",
              "    }\n",
              "\n",
              "    .colab-df-convert:hover {\n",
              "      background-color: #E2EBFA;\n",
              "      box-shadow: 0px 1px 2px rgba(60, 64, 67, 0.3), 0px 1px 3px 1px rgba(60, 64, 67, 0.15);\n",
              "      fill: #174EA6;\n",
              "    }\n",
              "\n",
              "    [theme=dark] .colab-df-convert {\n",
              "      background-color: #3B4455;\n",
              "      fill: #D2E3FC;\n",
              "    }\n",
              "\n",
              "    [theme=dark] .colab-df-convert:hover {\n",
              "      background-color: #434B5C;\n",
              "      box-shadow: 0px 1px 3px 1px rgba(0, 0, 0, 0.15);\n",
              "      filter: drop-shadow(0px 1px 2px rgba(0, 0, 0, 0.3));\n",
              "      fill: #FFFFFF;\n",
              "    }\n",
              "  </style>\n",
              "\n",
              "      <script>\n",
              "        const buttonEl =\n",
              "          document.querySelector('#df-386942a5-df66-414f-8c94-25b8e832e425 button.colab-df-convert');\n",
              "        buttonEl.style.display =\n",
              "          google.colab.kernel.accessAllowed ? 'block' : 'none';\n",
              "\n",
              "        async function convertToInteractive(key) {\n",
              "          const element = document.querySelector('#df-386942a5-df66-414f-8c94-25b8e832e425');\n",
              "          const dataTable =\n",
              "            await google.colab.kernel.invokeFunction('convertToInteractive',\n",
              "                                                     [key], {});\n",
              "          if (!dataTable) return;\n",
              "\n",
              "          const docLinkHtml = 'Like what you see? Visit the ' +\n",
              "            '<a target=\"_blank\" href=https://colab.research.google.com/notebooks/data_table.ipynb>data table notebook</a>'\n",
              "            + ' to learn more about interactive tables.';\n",
              "          element.innerHTML = '';\n",
              "          dataTable['output_type'] = 'display_data';\n",
              "          await google.colab.output.renderOutput(dataTable, element);\n",
              "          const docLink = document.createElement('div');\n",
              "          docLink.innerHTML = docLinkHtml;\n",
              "          element.appendChild(docLink);\n",
              "        }\n",
              "      </script>\n",
              "    </div>\n",
              "  </div>\n"
            ],
            "text/plain": [
              "                status  duration                               credit_history  \\\n",
              "0  no checking account        18      all credits at this bank paid back duly   \n",
              "1  no checking account         9      all credits at this bank paid back duly   \n",
              "2           ... < 0 DM        12  no credits taken/all credits paid back duly   \n",
              "3  no checking account        12      all credits at this bank paid back duly   \n",
              "4  no checking account        12      all credits at this bank paid back duly   \n",
              "\n",
              "      purpose  amount                     savings employment_duration  \\\n",
              "0  car (used)    1049  unknown/no savings account              < 1 yr   \n",
              "1      others    2799  unknown/no savings account    1 <= ... < 4 yrs   \n",
              "2  retraining     841               ... <  100 DM    4 <= ... < 7 yrs   \n",
              "3      others    2122  unknown/no savings account    1 <= ... < 4 yrs   \n",
              "4      others    2171  unknown/no savings account    1 <= ... < 4 yrs   \n",
              "\n",
              "  installment_rate                   personal_status_sex other_debtors  ...  \\\n",
              "0             < 20  female : non-single or male : single          none  ...   \n",
              "1   25 <= ... < 35                male : married/widowed          none  ...   \n",
              "2   25 <= ... < 35  female : non-single or male : single          none  ...   \n",
              "3   20 <= ... < 25                male : married/widowed          none  ...   \n",
              "4             < 20                male : married/widowed          none  ...   \n",
              "\n",
              "                property age  other_installment_plans   housing  \\\n",
              "0           car or other  21                     none  for free   \n",
              "1  unknown / no property  36                     none  for free   \n",
              "2  unknown / no property  23                     none  for free   \n",
              "3  unknown / no property  39                     none  for free   \n",
              "4           car or other  38                     bank      rent   \n",
              "\n",
              "  number_credits                        job people_liable telephone  \\\n",
              "0              1  skilled employee/official        0 to 2        no   \n",
              "1          3-Feb  skilled employee/official     3 or more        no   \n",
              "2              1       unskilled - resident        0 to 2        no   \n",
              "3          3-Feb       unskilled - resident     3 or more        no   \n",
              "4          3-Feb       unskilled - resident        0 to 2        no   \n",
              "\n",
              "  foreign_worker credit_risk  \n",
              "0             no        good  \n",
              "1             no        good  \n",
              "2             no        good  \n",
              "3            yes        good  \n",
              "4            yes        good  \n",
              "\n",
              "[5 rows x 21 columns]"
            ]
          },
          "execution_count": 6,
          "metadata": {},
          "output_type": "execute_result"
        }
      ],
      "source": [
        "df = pd.read_csv(\"/content/dataset.csv\")\n",
        "\n",
        "df.head()"
      ]
    },
    {
      "cell_type": "code",
      "execution_count": 7,
      "metadata": {
        "colab": {
          "base_uri": "https://localhost:8080/"
        },
        "id": "ZjcmWQhPP6Za",
        "outputId": "45277729-133f-49cd-a805-f8ef8c8e049a"
      },
      "outputs": [
        {
          "name": "stdout",
          "output_type": "stream",
          "text": [
            "Shape of the data:  (1000, 21)\n"
          ]
        }
      ],
      "source": [
        "print(f\"Shape of the data: \", df.shape)"
      ]
    },
    {
      "cell_type": "code",
      "execution_count": 8,
      "metadata": {
        "colab": {
          "base_uri": "https://localhost:8080/"
        },
        "id": "bPKlO3FUQXac",
        "outputId": "fc1f026c-db9e-4534-8c66-a8edc57ee9f2"
      },
      "outputs": [
        {
          "name": "stdout",
          "output_type": "stream",
          "text": [
            "<class 'pandas.core.frame.DataFrame'>\n",
            "RangeIndex: 1000 entries, 0 to 999\n",
            "Data columns (total 21 columns):\n",
            " #   Column                   Non-Null Count  Dtype \n",
            "---  ------                   --------------  ----- \n",
            " 0   status                   1000 non-null   object\n",
            " 1   duration                 1000 non-null   int64 \n",
            " 2   credit_history           1000 non-null   object\n",
            " 3   purpose                  1000 non-null   object\n",
            " 4   amount                   1000 non-null   int64 \n",
            " 5   savings                  1000 non-null   object\n",
            " 6   employment_duration      1000 non-null   object\n",
            " 7   installment_rate         1000 non-null   object\n",
            " 8   personal_status_sex      1000 non-null   object\n",
            " 9   other_debtors            1000 non-null   object\n",
            " 10  present_residence        1000 non-null   object\n",
            " 11  property                 1000 non-null   object\n",
            " 12  age                      1000 non-null   int64 \n",
            " 13  other_installment_plans  1000 non-null   object\n",
            " 14  housing                  1000 non-null   object\n",
            " 15  number_credits           1000 non-null   object\n",
            " 16  job                      1000 non-null   object\n",
            " 17  people_liable            1000 non-null   object\n",
            " 18  telephone                1000 non-null   object\n",
            " 19  foreign_worker           1000 non-null   object\n",
            " 20  credit_risk              1000 non-null   object\n",
            "dtypes: int64(3), object(18)\n",
            "memory usage: 164.2+ KB\n"
          ]
        }
      ],
      "source": [
        "## Check Metadata\n",
        "\n",
        "df.info()"
      ]
    },
    {
      "cell_type": "code",
      "execution_count": 9,
      "metadata": {
        "colab": {
          "base_uri": "https://localhost:8080/"
        },
        "id": "QkUb1vOyQ_Xr",
        "outputId": "61df22b5-8640-49b0-c8bc-6e54c6bafd52"
      },
      "outputs": [
        {
          "data": {
            "text/plain": [
              "status                     0\n",
              "duration                   0\n",
              "credit_history             0\n",
              "purpose                    0\n",
              "amount                     0\n",
              "savings                    0\n",
              "employment_duration        0\n",
              "installment_rate           0\n",
              "personal_status_sex        0\n",
              "other_debtors              0\n",
              "present_residence          0\n",
              "property                   0\n",
              "age                        0\n",
              "other_installment_plans    0\n",
              "housing                    0\n",
              "number_credits             0\n",
              "job                        0\n",
              "people_liable              0\n",
              "telephone                  0\n",
              "foreign_worker             0\n",
              "credit_risk                0\n",
              "dtype: int64"
            ]
          },
          "execution_count": 9,
          "metadata": {},
          "output_type": "execute_result"
        }
      ],
      "source": [
        "## Check for missing values\n",
        "\n",
        "df.isnull().sum()"
      ]
    },
    {
      "cell_type": "markdown",
      "metadata": {
        "id": "YD1FmicdSnYz"
      },
      "source": [
        "## There are no missing values"
      ]
    },
    {
      "cell_type": "code",
      "execution_count": 10,
      "metadata": {
        "colab": {
          "base_uri": "https://localhost:8080/"
        },
        "id": "5QXVj8bnRK1Y",
        "outputId": "759ef4e8-53b0-471f-a066-0752da9bb336"
      },
      "outputs": [
        {
          "data": {
            "text/plain": [
              "good    700\n",
              "bad     300\n",
              "Name: credit_risk, dtype: int64"
            ]
          },
          "execution_count": 10,
          "metadata": {},
          "output_type": "execute_result"
        }
      ],
      "source": [
        "df[\"credit_risk\"].value_counts()"
      ]
    },
    {
      "cell_type": "code",
      "execution_count": 11,
      "metadata": {
        "colab": {
          "base_uri": "https://localhost:8080/"
        },
        "id": "Tn89W6rBRp_N",
        "outputId": "5e00d673-13b2-4f9a-d02d-d4325bbbc3e6"
      },
      "outputs": [
        {
          "name": "stdout",
          "output_type": "stream",
          "text": [
            "Rows     :  1000\n",
            "Columns  :  21\n",
            "\n",
            "Features : \n",
            " ['status', 'duration', 'credit_history', 'purpose', 'amount', 'savings', 'employment_duration', 'installment_rate', 'personal_status_sex', 'other_debtors', 'present_residence', 'property', 'age', 'other_installment_plans', 'housing', 'number_credits', 'job', 'people_liable', 'telephone', 'foreign_worker', 'credit_risk']\n",
            "\n",
            "Missing values :   status                     False\n",
            "duration                   False\n",
            "credit_history             False\n",
            "purpose                    False\n",
            "amount                     False\n",
            "savings                    False\n",
            "employment_duration        False\n",
            "installment_rate           False\n",
            "personal_status_sex        False\n",
            "other_debtors              False\n",
            "present_residence          False\n",
            "property                   False\n",
            "age                        False\n",
            "other_installment_plans    False\n",
            "housing                    False\n",
            "number_credits             False\n",
            "job                        False\n",
            "people_liable              False\n",
            "telephone                  False\n",
            "foreign_worker             False\n",
            "credit_risk                False\n",
            "dtype: bool\n",
            "\n",
            "Unique values :  \n",
            " status                       4\n",
            "duration                    33\n",
            "credit_history               5\n",
            "purpose                     10\n",
            "amount                     923\n",
            "savings                      5\n",
            "employment_duration          5\n",
            "installment_rate             4\n",
            "personal_status_sex          4\n",
            "other_debtors                3\n",
            "present_residence            4\n",
            "property                     4\n",
            "age                         53\n",
            "other_installment_plans      3\n",
            "housing                      3\n",
            "number_credits               4\n",
            "job                          4\n",
            "people_liable                2\n",
            "telephone                    2\n",
            "foreign_worker               2\n",
            "credit_risk                  2\n",
            "dtype: int64\n"
          ]
        }
      ],
      "source": [
        "print (\"Rows     : \" ,df.shape[0])\n",
        "print (\"Columns  : \" ,df.shape[1])\n",
        "print (\"\\nFeatures : \\n\" ,df.columns.tolist())\n",
        "print (\"\\nMissing values :  \", df.isnull().any())\n",
        "print (\"\\nUnique values :  \\n\",df.nunique())"
      ]
    },
    {
      "cell_type": "code",
      "execution_count": 12,
      "metadata": {
        "colab": {
          "base_uri": "https://localhost:8080/",
          "height": 467
        },
        "id": "M6ZVd_S1SGH-",
        "outputId": "003c6aee-580c-49d5-e5fc-55f3a0582de0"
      },
      "outputs": [
        {
          "data": {
            "text/plain": [
              "<Axes: xlabel='credit_risk', ylabel='count'>"
            ]
          },
          "execution_count": 12,
          "metadata": {},
          "output_type": "execute_result"
        },
        {
          "data": {
            "image/png": "[encoded data removed]",
            "text/plain": [
              "<Figure size 640x480 with 1 Axes>"
            ]
          },
          "metadata": {},
          "output_type": "display_data"
        }
      ],
      "source": [
        "sns.countplot(x=\"credit_risk\", data=df)"
      ]
    },
    {
      "cell_type": "code",
      "execution_count": 13,
      "metadata": {
        "colab": {
          "base_uri": "https://localhost:8080/"
        },
        "id": "5uPFAUq5STI2",
        "outputId": "c5b34971-aef7-4e08-c6bf-4da01418f951"
      },
      "outputs": [
        {
          "name": "stdout",
          "output_type": "stream",
          "text": [
            "\n",
            "Duplicate rows:\n",
            "Empty DataFrame\n",
            "Columns: [status, duration, credit_history, purpose, amount, savings, employment_duration, installment_rate, personal_status_sex, other_debtors, present_residence, property, age, other_installment_plans, housing, number_credits, job, people_liable, telephone, foreign_worker, credit_risk]\n",
            "Index: []\n",
            "\n",
            "[0 rows x 21 columns]\n"
          ]
        }
      ],
      "source": [
        "\n",
        "# Check for duplicate rows\n",
        "\n",
        "duplicates = df.duplicated()\n",
        "print(\"\\nDuplicate rows:\")\n",
        "print(df[duplicates])"
      ]
    },
    {
      "cell_type": "markdown",
      "metadata": {
        "id": "laDuqV8oSeOO"
      },
      "source": [
        "## There are no duplicated records in the dataset"
      ]
    },
    {
      "cell_type": "code",
      "execution_count": 14,
      "metadata": {
        "colab": {
          "base_uri": "https://localhost:8080/"
        },
        "id": "m1LNj8UuScf8",
        "outputId": "e0c39bb6-97dc-4147-91e7-45b6e0fafd0e"
      },
      "outputs": [
        {
          "data": {
            "text/plain": [
              "Index(['duration', 'amount', 'age'], dtype='object')"
            ]
          },
          "execution_count": 14,
          "metadata": {},
          "output_type": "execute_result"
        }
      ],
      "source": [
        "## numerical columns\n",
        "\n",
        "numerical_columns = df.select_dtypes(exclude=\"object\").columns\n",
        "\n",
        "numerical_columns"
      ]
    },
    {
      "cell_type": "code",
      "execution_count": 15,
      "metadata": {
        "colab": {
          "base_uri": "https://localhost:8080/"
        },
        "id": "wyHRY6OgS3P4",
        "outputId": "fcb865b6-03fe-422c-a407-3b1cf2749db1"
      },
      "outputs": [
        {
          "data": {
            "text/plain": [
              "Index(['status', 'credit_history', 'purpose', 'savings', 'employment_duration',\n",
              "       'installment_rate', 'personal_status_sex', 'other_debtors',\n",
              "       'present_residence', 'property', 'other_installment_plans', 'housing',\n",
              "       'number_credits', 'job', 'people_liable', 'telephone', 'foreign_worker',\n",
              "       'credit_risk'],\n",
              "      dtype='object')"
            ]
          },
          "execution_count": 15,
          "metadata": {},
          "output_type": "execute_result"
        }
      ],
      "source": [
        "## Categorical columns\n",
        "\n",
        "categorical_columns = df.select_dtypes(include=\"object\").columns\n",
        "\n",
        "categorical_columns"
      ]
    },
    {
      "cell_type": "markdown",
      "metadata": {
        "id": "CkzzeYVbTDfQ"
      },
      "source": [
        "## Univariate Analysis of Numerical Columns"
      ]
    },
    {
      "cell_type": "code",
      "execution_count": 16,
      "metadata": {
        "id": "DLicsZ8PTAI8"
      },
      "outputs": [],
      "source": [
        "def visualize_numerical_features(df):\n",
        "    numerical_features = df.select_dtypes(include=['int64', 'float64'])\n",
        "\n",
        "    num_cols = len(numerical_features.columns)\n",
        "    num_rows = (num_cols // 2) + (num_cols % 2)\n",
        "\n",
        "    fig, axes = plt.subplots(num_rows, 2, figsize=(15, 4*num_rows))\n",
        "\n",
        "    for i, feature in enumerate(numerical_features.columns):\n",
        "        row = i // 2\n",
        "        col = i % 2\n",
        "        ax = axes[row, col]\n",
        "\n",
        "        sns.histplot(data=df, x=feature, kde=True, ax=ax)\n",
        "        ax.set_title(f\"Distribution of {feature}\")\n",
        "        ax.set_xlabel(feature)\n",
        "        ax.set_ylabel(\"Frequency\")\n",
        "\n",
        "    # Hide empty subplots if the number of features is odd\n",
        "    if num_cols % 2 != 0:\n",
        "        axes[-1, -1].axis(\"off\")\n",
        "\n",
        "    plt.tight_layout()\n",
        "    plt.show()"
      ]
    },
    {
      "cell_type": "code",
      "execution_count": 17,
      "metadata": {
        "colab": {
          "base_uri": "https://localhost:8080/",
          "height": 621
        },
        "id": "YisbZkJQTLHA",
        "outputId": "efd3788b-6cba-4d91-df71-c16f678d7ac2"
      },
      "outputs": [
        {
          "data": {
            "image/png": "[encoded data removed]",
            "text/plain": [
              "<Figure size 1500x800 with 4 Axes>"
            ]
          },
          "metadata": {},
          "output_type": "display_data"
        }
      ],
      "source": [
        "visualize_numerical_features(df)"
      ]
    },
    {
      "cell_type": "code",
      "execution_count": 18,
      "metadata": {
        "colab": {
          "base_uri": "https://localhost:8080/",
          "height": 368
        },
        "id": "RAb3w95BTaYO",
        "outputId": "b579e5b5-7d44-4963-c551-0892afb72acb"
      },
      "outputs": [
        {
          "data": {
            "image/png": "[encoded data removed]",
            "text/plain": [
              "<Figure size 800x400 with 1 Axes>"
            ]
          },
          "metadata": {},
          "output_type": "display_data"
        }
      ],
      "source": [
        "plt.figure(figsize=(8, 4))\n",
        "sns.boxplot(df)\n",
        "plt.show()"
      ]
    },
    {
      "cell_type": "markdown",
      "metadata": {
        "id": "_OK32JoDTqbU"
      },
      "source": [
        "## There are outliers in the dataset which we will treat later"
      ]
    },
    {
      "cell_type": "markdown",
      "metadata": {
        "id": "0Xw9s1COTx8K"
      },
      "source": [
        "## Univariate analysis of Categorical features"
      ]
    },
    {
      "cell_type": "code",
      "execution_count": 19,
      "metadata": {
        "id": "Q1HFKP0RTmI9"
      },
      "outputs": [],
      "source": [
        "## Categorical features\n",
        "\n",
        "def visualize_categorical_features(df):\n",
        "    categorical_features = df.select_dtypes(include=['object', 'category'])\n",
        "\n",
        "    cat_cols = len(categorical_features.columns)\n",
        "    cat_rows = (cat_cols // 2) + (cat_cols % 2)\n",
        "\n",
        "    fig, axes = plt.subplots(cat_rows, 2, figsize=(12, 4*cat_rows))\n",
        "\n",
        "    for i, feature in enumerate(categorical_features.columns):\n",
        "        row = i // 2\n",
        "        col = i % 2\n",
        "        ax = axes[row, col]\n",
        "\n",
        "        sns.countplot(x=feature, data=df, ax=ax)\n",
        "        ax.set_title(f\"Countplot of {feature}\")\n",
        "        ax.set_xlabel(feature)\n",
        "        ax.set_ylabel(\"Count\")\n",
        "\n",
        "    # Hide empty subplots if the number of features is odd\n",
        "    if cat_cols % 2 != 0:\n",
        "        axes[-1, -1].axis(\"off\")\n",
        "\n",
        "    plt.tight_layout()\n"
      ]
    },
    {
      "cell_type": "code",
      "execution_count": 20,
      "metadata": {
        "colab": {
          "base_uri": "https://localhost:8080/",
          "height": 1000
        },
        "id": "SUbw5VsiT4YZ",
        "outputId": "c62ff633-f8bc-4fa9-a840-5622606329dc"
      },
      "outputs": [
        {
          "data": {
            "image/png": "[encoded data removed]",
            "text/plain": [
              "<Figure size 1200x3600 with 18 Axes>"
            ]
          },
          "metadata": {},
          "output_type": "display_data"
        }
      ],
      "source": [
        "visualize_categorical_features(df)"
      ]
    },
    {
      "cell_type": "markdown",
      "metadata": {
        "id": "yHoODTyPUn1G"
      },
      "source": [
        "## Check Multicollinearity in the dataset"
      ]
    },
    {
      "cell_type": "code",
      "execution_count": 21,
      "metadata": {
        "id": "LTns6HZJT7ZR"
      },
      "outputs": [],
      "source": [
        "def check_multicollinearity(df, threshold=0.8):\n",
        "    df = pd.DataFrame(df)  # Convert dataset to a DataFrame if needed\n",
        "    numeric_cols = df.select_dtypes(include=[np.number]).columns\n",
        "    df_numeric = df[numeric_cols]\n",
        "    corr_matrix = df_numeric.corr().abs()  # Calculate the correlation matrix\n",
        "    cols = corr_matrix.columns\n",
        "    multicollinear_features = set()\n",
        "\n",
        "    for i in range(len(cols)):\n",
        "        for j in range(i+1, len(cols)):\n",
        "            if corr_matrix.iloc[i, j] >= threshold:\n",
        "                multicollinear_features.add(cols[i])\n",
        "                multicollinear_features.add(cols[j])\n",
        "\n",
        "    # Plotting the correlation heatmap\n",
        "    plt.figure(figsize=(15,10))\n",
        "    sns.heatmap(corr_matrix, annot=True, cmap='coolwarm')\n",
        "    plt.title('Correlation Matrix')\n",
        "    plt.show()\n",
        "\n",
        "    return multicollinear_features\n"
      ]
    },
    {
      "cell_type": "code",
      "execution_count": 22,
      "metadata": {
        "colab": {
          "base_uri": "https://localhost:8080/",
          "height": 888
        },
        "id": "kgScJmRnUr1H",
        "outputId": "280b0350-2a07-46db-dcff-321ffa93fc0b"
      },
      "outputs": [
        {
          "data": {
            "image/png": "[encoded data removed]",
            "text/plain": [
              "<Figure size 1500x1000 with 2 Axes>"
            ]
          },
          "metadata": {},
          "output_type": "display_data"
        },
        {
          "name": "stdout",
          "output_type": "stream",
          "text": [
            "-----------------------------------------------\n",
            "Multicollinear columns: set()\n"
          ]
        }
      ],
      "source": [
        "multicollinear_cols = check_multicollinearity(df)\n",
        "\n",
        "print(\"-----------------------------------------------\")\n",
        "\n",
        "print(\"Multicollinear columns:\", multicollinear_cols)"
      ]
    },
    {
      "cell_type": "markdown",
      "metadata": {
        "id": "_zQwa1PEU8k3"
      },
      "source": [
        "## There are no multicollinear features"
      ]
    },
    {
      "cell_type": "code",
      "execution_count": 23,
      "metadata": {
        "colab": {
          "base_uri": "https://localhost:8080/"
        },
        "id": "tluGpeAwVIW2",
        "outputId": "9b62c2ce-9320-413d-9243-5284af857b0f"
      },
      "outputs": [
        {
          "data": {
            "text/plain": [
              "Index(['status', 'duration', 'credit_history', 'purpose', 'amount', 'savings',\n",
              "       'employment_duration', 'installment_rate', 'personal_status_sex',\n",
              "       'other_debtors', 'present_residence', 'property', 'age',\n",
              "       'other_installment_plans', 'housing', 'number_credits', 'job',\n",
              "       'people_liable', 'telephone', 'foreign_worker', 'credit_risk'],\n",
              "      dtype='object')"
            ]
          },
          "execution_count": 23,
          "metadata": {},
          "output_type": "execute_result"
        }
      ],
      "source": [
        "df.columns"
      ]
    },
    {
      "cell_type": "code",
      "execution_count": 24,
      "metadata": {
        "colab": {
          "base_uri": "https://localhost:8080/"
        },
        "id": "02GhoY-FXNdA",
        "outputId": "6962a642-ed6e-4e20-a2e2-943e413bca04"
      },
      "outputs": [
        {
          "data": {
            "text/plain": [
              "(1000, 21)"
            ]
          },
          "execution_count": 24,
          "metadata": {},
          "output_type": "execute_result"
        }
      ],
      "source": [
        "df.shape"
      ]
    },
    {
      "cell_type": "code",
      "execution_count": 25,
      "metadata": {
        "id": "pvtAF0HWXj5y"
      },
      "outputs": [],
      "source": [
        "## Check for Outliers\n",
        "\n",
        "def detect_outliers(df, columns, threshold=3):\n",
        "    columns_with_outliers = []\n",
        "\n",
        "    for column in columns:\n",
        "        q1 = df[column].quantile(0.25)\n",
        "        q3 = df[column].quantile(0.75)\n",
        "        iqr = q3 - q1\n",
        "\n",
        "        lower_bound = q1 - threshold * iqr\n",
        "        upper_bound = q3 + threshold * iqr\n",
        "\n",
        "        column_outliers = df[(df[column] < lower_bound) | (df[column] > upper_bound)]\n",
        "\n",
        "        if not column_outliers.empty:\n",
        "            columns_with_outliers.append(column)\n",
        "            print(f\"Outliers found in column '{column}'.\")\n",
        "\n",
        "    if not columns_with_outliers:\n",
        "        print(\"No outliers found.\")\n",
        "\n",
        "    return columns_with_outliers"
      ]
    },
    {
      "cell_type": "code",
      "execution_count": 26,
      "metadata": {
        "colab": {
          "base_uri": "https://localhost:8080/"
        },
        "id": "pnWn9_-5YNov",
        "outputId": "3e65480d-8c24-4466-d5dc-07a391908d47"
      },
      "outputs": [
        {
          "data": {
            "text/plain": [
              "Index(['duration', 'amount', 'age'], dtype='object')"
            ]
          },
          "execution_count": 26,
          "metadata": {},
          "output_type": "execute_result"
        }
      ],
      "source": [
        "num_features = df.select_dtypes(exclude=\"object\").columns\n",
        "\n",
        "num_features"
      ]
    },
    {
      "cell_type": "code",
      "execution_count": 27,
      "metadata": {
        "colab": {
          "base_uri": "https://localhost:8080/"
        },
        "id": "XowQO88wXsom",
        "outputId": "48e6a059-0335-4a31-fbf8-1329e89d8c74"
      },
      "outputs": [
        {
          "name": "stdout",
          "output_type": "stream",
          "text": [
            "Outliers found in column 'duration'.\n",
            "Outliers found in column 'amount'.\n",
            "Columns with outliers: ['duration', 'amount']\n"
          ]
        }
      ],
      "source": [
        "outlier_columns = detect_outliers(df,  columns = num_features, threshold=3)\n",
        "\n",
        "print(f\"Columns with outliers: {outlier_columns}\")"
      ]
    },
    {
      "cell_type": "code",
      "execution_count": 28,
      "metadata": {
        "colab": {
          "base_uri": "https://localhost:8080/"
        },
        "id": "FWqlqUSSXvSq",
        "outputId": "c2f8b5f5-d8aa-4a8f-f78e-fb7970f78699"
      },
      "outputs": [
        {
          "data": {
            "text/plain": [
              "24    184\n",
              "12    179\n",
              "18    113\n",
              "36     83\n",
              "6      75\n",
              "15     64\n",
              "9      49\n",
              "48     48\n",
              "30     40\n",
              "21     30\n",
              "10     28\n",
              "27     13\n",
              "60     13\n",
              "42     11\n",
              "11      9\n",
              "20      8\n",
              "8       7\n",
              "4       6\n",
              "45      5\n",
              "39      5\n",
              "7       5\n",
              "14      4\n",
              "13      4\n",
              "28      3\n",
              "33      3\n",
              "54      2\n",
              "22      2\n",
              "16      2\n",
              "5       1\n",
              "47      1\n",
              "26      1\n",
              "72      1\n",
              "40      1\n",
              "Name: duration, dtype: int64"
            ]
          },
          "execution_count": 28,
          "metadata": {},
          "output_type": "execute_result"
        }
      ],
      "source": [
        "df[\"duration\"].value_counts()"
      ]
    },
    {
      "cell_type": "code",
      "execution_count": 29,
      "metadata": {
        "colab": {
          "base_uri": "https://localhost:8080/"
        },
        "id": "fcIhhym9aGJZ",
        "outputId": "4a867da7-844d-4b58-cb6e-dc142c79dd1d"
      },
      "outputs": [
        {
          "data": {
            "text/plain": [
              "(1000, 21)"
            ]
          },
          "execution_count": 29,
          "metadata": {},
          "output_type": "execute_result"
        }
      ],
      "source": [
        "df.shape"
      ]
    },
    {
      "cell_type": "code",
      "execution_count": 30,
      "metadata": {
        "colab": {
          "base_uri": "https://localhost:8080/"
        },
        "id": "_FToiZk9ZhwF",
        "outputId": "19e3e9d6-81dd-4583-8acb-ee6a92102510"
      },
      "outputs": [
        {
          "name": "stdout",
          "output_type": "stream",
          "text": [
            "Skipping column 'status' as it contains non-numeric data.\n",
            "Outliers found in column 'duration'.\n",
            "Skipping column 'credit_history' as it contains non-numeric data.\n",
            "Skipping column 'purpose' as it contains non-numeric data.\n",
            "Outliers found in column 'amount'.\n",
            "Skipping column 'savings' as it contains non-numeric data.\n",
            "Skipping column 'employment_duration' as it contains non-numeric data.\n",
            "Skipping column 'installment_rate' as it contains non-numeric data.\n",
            "Skipping column 'personal_status_sex' as it contains non-numeric data.\n",
            "Skipping column 'other_debtors' as it contains non-numeric data.\n",
            "Skipping column 'present_residence' as it contains non-numeric data.\n",
            "Skipping column 'property' as it contains non-numeric data.\n",
            "Skipping column 'other_installment_plans' as it contains non-numeric data.\n",
            "Skipping column 'housing' as it contains non-numeric data.\n",
            "Skipping column 'number_credits' as it contains non-numeric data.\n",
            "Skipping column 'job' as it contains non-numeric data.\n",
            "Skipping column 'people_liable' as it contains non-numeric data.\n",
            "Skipping column 'telephone' as it contains non-numeric data.\n",
            "Skipping column 'foreign_worker' as it contains non-numeric data.\n",
            "Skipping column 'credit_risk' as it contains non-numeric data.\n",
            "Outliers dropped from the DataFrame.\n",
            "Clean DataFrame saved to 'clean_dataframe.csv'.\n",
            "Original DataFrame:\n",
            "                  status  duration  \\\n",
            "0    no checking account        18   \n",
            "1    no checking account         9   \n",
            "2             ... < 0 DM        12   \n",
            "3    no checking account        12   \n",
            "4    no checking account        12   \n",
            "..                   ...       ...   \n",
            "994  no checking account        12   \n",
            "995  no checking account        24   \n",
            "996  no checking account        24   \n",
            "998           ... < 0 DM        12   \n",
            "999  no checking account        30   \n",
            "\n",
            "                                  credit_history              purpose  amount  \\\n",
            "0        all credits at this bank paid back duly           car (used)    1049   \n",
            "1        all credits at this bank paid back duly               others    2799   \n",
            "2    no credits taken/all credits paid back duly           retraining     841   \n",
            "3        all credits at this bank paid back duly               others    2122   \n",
            "4        all credits at this bank paid back duly               others    2171   \n",
            "..                                           ...                  ...     ...   \n",
            "994              delay in paying off in the past  furniture/equipment    6199   \n",
            "995  no credits taken/all credits paid back duly  furniture/equipment    1987   \n",
            "996  no credits taken/all credits paid back duly               others    2303   \n",
            "998  no credits taken/all credits paid back duly  furniture/equipment    6468   \n",
            "999  no credits taken/all credits paid back duly           car (used)    6350   \n",
            "\n",
            "                        savings employment_duration installment_rate  \\\n",
            "0    unknown/no savings account              < 1 yr             < 20   \n",
            "1    unknown/no savings account    1 <= ... < 4 yrs   25 <= ... < 35   \n",
            "2                 ... <  100 DM    4 <= ... < 7 yrs   25 <= ... < 35   \n",
            "3    unknown/no savings account    1 <= ... < 4 yrs   20 <= ... < 25   \n",
            "4    unknown/no savings account    1 <= ... < 4 yrs             < 20   \n",
            "..                          ...                 ...              ...   \n",
            "994  unknown/no savings account    1 <= ... < 4 yrs             < 20   \n",
            "995  unknown/no savings account    1 <= ... < 4 yrs   25 <= ... < 35   \n",
            "996  unknown/no savings account            >= 7 yrs             < 20   \n",
            "998              ... >= 1000 DM          unemployed   25 <= ... < 35   \n",
            "999              ... >= 1000 DM            >= 7 yrs             < 20   \n",
            "\n",
            "                      personal_status_sex other_debtors  ...  \\\n",
            "0    female : non-single or male : single          none  ...   \n",
            "1                  male : married/widowed          none  ...   \n",
            "2    female : non-single or male : single          none  ...   \n",
            "3                  male : married/widowed          none  ...   \n",
            "4                  male : married/widowed          none  ...   \n",
            "..                                    ...           ...  ...   \n",
            "994                male : married/widowed          none  ...   \n",
            "995                male : married/widowed          none  ...   \n",
            "996                male : married/widowed  co-applicant  ...   \n",
            "998                male : married/widowed          none  ...   \n",
            "999                male : married/widowed          none  ...   \n",
            "\n",
            "                  property age  other_installment_plans   housing  \\\n",
            "0             car or other  21                     none  for free   \n",
            "1    unknown / no property  36                     none  for free   \n",
            "2    unknown / no property  23                     none  for free   \n",
            "3    unknown / no property  39                     none  for free   \n",
            "4             car or other  38                     bank      rent   \n",
            "..                     ...  ..                      ...       ...   \n",
            "994           car or other  28                     none  for free   \n",
            "995  unknown / no property  21                     none  for free   \n",
            "996  unknown / no property  45                     none      rent   \n",
            "998            real estate  52                     none      rent   \n",
            "999           car or other  31                     none      rent   \n",
            "\n",
            "    number_credits                                         job people_liable  \\\n",
            "0                1                   skilled employee/official        0 to 2   \n",
            "1            3-Feb                   skilled employee/official     3 or more   \n",
            "2                1                        unskilled - resident        0 to 2   \n",
            "3            3-Feb                        unskilled - resident     3 or more   \n",
            "4            3-Feb                        unskilled - resident        0 to 2   \n",
            "..             ...                                         ...           ...   \n",
            "994          3-Feb                   skilled employee/official        0 to 2   \n",
            "995              1                        unskilled - resident     3 or more   \n",
            "996              1                   skilled employee/official        0 to 2   \n",
            "998              1  manager/self-empl./highly qualif. employee        0 to 2   \n",
            "999              1                   skilled employee/official        0 to 2   \n",
            "\n",
            "                     telephone foreign_worker credit_risk  \n",
            "0                           no             no        good  \n",
            "1                           no             no        good  \n",
            "2                           no             no        good  \n",
            "3                           no            yes        good  \n",
            "4                           no            yes        good  \n",
            "..                         ...            ...         ...  \n",
            "994  yes (under customer name)             no         bad  \n",
            "995                         no             no         bad  \n",
            "996                         no             no         bad  \n",
            "998  yes (under customer name)             no         bad  \n",
            "999                         no             no         bad  \n",
            "\n",
            "[975 rows x 21 columns]\n",
            "\n",
            "DataFrame without outliers:\n",
            "                  status  duration  \\\n",
            "0    no checking account        18   \n",
            "1    no checking account         9   \n",
            "2             ... < 0 DM        12   \n",
            "3    no checking account        12   \n",
            "4    no checking account        12   \n",
            "..                   ...       ...   \n",
            "994  no checking account        12   \n",
            "995  no checking account        24   \n",
            "996  no checking account        24   \n",
            "998           ... < 0 DM        12   \n",
            "999  no checking account        30   \n",
            "\n",
            "                                  credit_history              purpose  amount  \\\n",
            "0        all credits at this bank paid back duly           car (used)    1049   \n",
            "1        all credits at this bank paid back duly               others    2799   \n",
            "2    no credits taken/all credits paid back duly           retraining     841   \n",
            "3        all credits at this bank paid back duly               others    2122   \n",
            "4        all credits at this bank paid back duly               others    2171   \n",
            "..                                           ...                  ...     ...   \n",
            "994              delay in paying off in the past  furniture/equipment    6199   \n",
            "995  no credits taken/all credits paid back duly  furniture/equipment    1987   \n",
            "996  no credits taken/all credits paid back duly               others    2303   \n",
            "998  no credits taken/all credits paid back duly  furniture/equipment    6468   \n",
            "999  no credits taken/all credits paid back duly           car (used)    6350   \n",
            "\n",
            "                        savings employment_duration installment_rate  \\\n",
            "0    unknown/no savings account              < 1 yr             < 20   \n",
            "1    unknown/no savings account    1 <= ... < 4 yrs   25 <= ... < 35   \n",
            "2                 ... <  100 DM    4 <= ... < 7 yrs   25 <= ... < 35   \n",
            "3    unknown/no savings account    1 <= ... < 4 yrs   20 <= ... < 25   \n",
            "4    unknown/no savings account    1 <= ... < 4 yrs             < 20   \n",
            "..                          ...                 ...              ...   \n",
            "994  unknown/no savings account    1 <= ... < 4 yrs             < 20   \n",
            "995  unknown/no savings account    1 <= ... < 4 yrs   25 <= ... < 35   \n",
            "996  unknown/no savings account            >= 7 yrs             < 20   \n",
            "998              ... >= 1000 DM          unemployed   25 <= ... < 35   \n",
            "999              ... >= 1000 DM            >= 7 yrs             < 20   \n",
            "\n",
            "                      personal_status_sex other_debtors  ...  \\\n",
            "0    female : non-single or male : single          none  ...   \n",
            "1                  male : married/widowed          none  ...   \n",
            "2    female : non-single or male : single          none  ...   \n",
            "3                  male : married/widowed          none  ...   \n",
            "4                  male : married/widowed          none  ...   \n",
            "..                                    ...           ...  ...   \n",
            "994                male : married/widowed          none  ...   \n",
            "995                male : married/widowed          none  ...   \n",
            "996                male : married/widowed  co-applicant  ...   \n",
            "998                male : married/widowed          none  ...   \n",
            "999                male : married/widowed          none  ...   \n",
            "\n",
            "                  property age  other_installment_plans   housing  \\\n",
            "0             car or other  21                     none  for free   \n",
            "1    unknown / no property  36                     none  for free   \n",
            "2    unknown / no property  23                     none  for free   \n",
            "3    unknown / no property  39                     none  for free   \n",
            "4             car or other  38                     bank      rent   \n",
            "..                     ...  ..                      ...       ...   \n",
            "994           car or other  28                     none  for free   \n",
            "995  unknown / no property  21                     none  for free   \n",
            "996  unknown / no property  45                     none      rent   \n",
            "998            real estate  52                     none      rent   \n",
            "999           car or other  31                     none      rent   \n",
            "\n",
            "    number_credits                                         job people_liable  \\\n",
            "0                1                   skilled employee/official        0 to 2   \n",
            "1            3-Feb                   skilled employee/official     3 or more   \n",
            "2                1                        unskilled - resident        0 to 2   \n",
            "3            3-Feb                        unskilled - resident     3 or more   \n",
            "4            3-Feb                        unskilled - resident        0 to 2   \n",
            "..             ...                                         ...           ...   \n",
            "994          3-Feb                   skilled employee/official        0 to 2   \n",
            "995              1                        unskilled - resident     3 or more   \n",
            "996              1                   skilled employee/official        0 to 2   \n",
            "998              1  manager/self-empl./highly qualif. employee        0 to 2   \n",
            "999              1                   skilled employee/official        0 to 2   \n",
            "\n",
            "                     telephone foreign_worker credit_risk  \n",
            "0                           no             no        good  \n",
            "1                           no             no        good  \n",
            "2                           no             no        good  \n",
            "3                           no            yes        good  \n",
            "4                           no            yes        good  \n",
            "..                         ...            ...         ...  \n",
            "994  yes (under customer name)             no         bad  \n",
            "995                         no             no         bad  \n",
            "996                         no             no         bad  \n",
            "998  yes (under customer name)             no         bad  \n",
            "999                         no             no         bad  \n",
            "\n",
            "[975 rows x 21 columns]\n"
          ]
        }
      ],
      "source": [
        "## Drop the Outliers\n",
        "\n",
        "def drop_outliers(df, columns, threshold=3, save_clean_df=True):\n",
        "    columns_with_outliers = []\n",
        "\n",
        "    for column in columns:\n",
        "        if pd.api.types.is_numeric_dtype(df[column]):\n",
        "            q1 = df[column].quantile(0.25)\n",
        "            q3 = df[column].quantile(0.75)\n",
        "            iqr = q3 - q1\n",
        "\n",
        "            lower_bound = q1 - threshold * iqr\n",
        "            upper_bound = q3 + threshold * iqr\n",
        "\n",
        "            column_outliers = df[(df[column] < lower_bound) | (df[column] > upper_bound)]\n",
        "\n",
        "            if not column_outliers.empty:\n",
        "                columns_with_outliers.append(column)\n",
        "                print(f\"Outliers found in column '{column}'.\")\n",
        "                # Drop outliers from the DataFrame\n",
        "                df = df[~df.index.isin(column_outliers.index)]\n",
        "        else:\n",
        "            print(f\"Skipping column '{column}' as it contains non-numeric data.\")\n",
        "\n",
        "    if not columns_with_outliers:\n",
        "        print(\"No outliers found.\")\n",
        "    else:\n",
        "        print(\"Outliers dropped from the DataFrame.\")\n",
        "\n",
        "    if save_clean_df:\n",
        "        clean_df_filename = \"clean_dataframe.csv\"  # Change this to your desired filename\n",
        "        df.to_csv(clean_df_filename, index=False)\n",
        "        print(f\"Clean DataFrame saved to '{clean_df_filename}'.\")\n",
        "\n",
        "    raw_data = df.copy()\n",
        "\n",
        "    return df, raw_data\n",
        "\n",
        "\n",
        "\n",
        "columns = df.columns\n",
        "threshold = 3\n",
        "\n",
        "# Call the function to drop outliers from the DataFrame and save the clean DataFrame\n",
        "clean_data, raw_data = drop_outliers(df, columns, threshold)\n",
        "\n",
        "print(\"Original DataFrame:\")\n",
        "print(raw_data)\n",
        "\n",
        "print(\"\\nDataFrame without outliers:\")\n",
        "print(clean_data)"
      ]
    },
    {
      "cell_type": "code",
      "execution_count": 31,
      "metadata": {
        "colab": {
          "base_uri": "https://localhost:8080/",
          "height": 472
        },
        "id": "pGQAIatlZhtf",
        "outputId": "09ba01d0-2b96-4a1f-ccce-97cd7442ebeb"
      },
      "outputs": [
        {
          "data": {
            "text/html": [
              "\n",
              "\n",
              "  <div id=\"df-493a9b64-61c6-4c35-9f22-0efcb6d36060\">\n",
              "    <div class=\"colab-df-container\">\n",
              "      <div>\n",
              "<style scoped>\n",
              "    .dataframe tbody tr th:only-of-type {\n",
              "        vertical-align: middle;\n",
              "    }\n",
              "\n",
              "    .dataframe tbody tr th {\n",
              "        vertical-align: top;\n",
              "    }\n",
              "\n",
              "    .dataframe thead th {\n",
              "        text-align: right;\n",
              "    }\n",
              "</style>\n",
              "<table border=\"1\" class=\"dataframe\">\n",
              "  <thead>\n",
              "    <tr style=\"text-align: right;\">\n",
              "      <th></th>\n",
              "      <th>status</th>\n",
              "      <th>duration</th>\n",
              "      <th>credit_history</th>\n",
              "      <th>purpose</th>\n",
              "      <th>amount</th>\n",
              "      <th>savings</th>\n",
              "      <th>employment_duration</th>\n",
              "      <th>installment_rate</th>\n",
              "      <th>personal_status_sex</th>\n",
              "      <th>other_debtors</th>\n",
              "      <th>...</th>\n",
              "      <th>property</th>\n",
              "      <th>age</th>\n",
              "      <th>other_installment_plans</th>\n",
              "      <th>housing</th>\n",
              "      <th>number_credits</th>\n",
              "      <th>job</th>\n",
              "      <th>people_liable</th>\n",
              "      <th>telephone</th>\n",
              "      <th>foreign_worker</th>\n",
              "      <th>credit_risk</th>\n",
              "    </tr>\n",
              "  </thead>\n",
              "  <tbody>\n",
              "    <tr>\n",
              "      <th>0</th>\n",
              "      <td>no checking account</td>\n",
              "      <td>18</td>\n",
              "      <td>all credits at this bank paid back duly</td>\n",
              "      <td>car (used)</td>\n",
              "      <td>1049</td>\n",
              "      <td>unknown/no savings account</td>\n",
              "      <td>&lt; 1 yr</td>\n",
              "      <td>&lt; 20</td>\n",
              "      <td>female : non-single or male : single</td>\n",
              "      <td>none</td>\n",
              "      <td>...</td>\n",
              "      <td>car or other</td>\n",
              "      <td>21</td>\n",
              "      <td>none</td>\n",
              "      <td>for free</td>\n",
              "      <td>1</td>\n",
              "      <td>skilled employee/official</td>\n",
              "      <td>0 to 2</td>\n",
              "      <td>no</td>\n",
              "      <td>no</td>\n",
              "      <td>good</td>\n",
              "    </tr>\n",
              "    <tr>\n",
              "      <th>1</th>\n",
              "      <td>no checking account</td>\n",
              "      <td>9</td>\n",
              "      <td>all credits at this bank paid back duly</td>\n",
              "      <td>others</td>\n",
              "      <td>2799</td>\n",
              "      <td>unknown/no savings account</td>\n",
              "      <td>1 &lt;= ... &lt; 4 yrs</td>\n",
              "      <td>25 &lt;= ... &lt; 35</td>\n",
              "      <td>male : married/widowed</td>\n",
              "      <td>none</td>\n",
              "      <td>...</td>\n",
              "      <td>unknown / no property</td>\n",
              "      <td>36</td>\n",
              "      <td>none</td>\n",
              "      <td>for free</td>\n",
              "      <td>3-Feb</td>\n",
              "      <td>skilled employee/official</td>\n",
              "      <td>3 or more</td>\n",
              "      <td>no</td>\n",
              "      <td>no</td>\n",
              "      <td>good</td>\n",
              "    </tr>\n",
              "    <tr>\n",
              "      <th>2</th>\n",
              "      <td>... &lt; 0 DM</td>\n",
              "      <td>12</td>\n",
              "      <td>no credits taken/all credits paid back duly</td>\n",
              "      <td>retraining</td>\n",
              "      <td>841</td>\n",
              "      <td>... &lt;  100 DM</td>\n",
              "      <td>4 &lt;= ... &lt; 7 yrs</td>\n",
              "      <td>25 &lt;= ... &lt; 35</td>\n",
              "      <td>female : non-single or male : single</td>\n",
              "      <td>none</td>\n",
              "      <td>...</td>\n",
              "      <td>unknown / no property</td>\n",
              "      <td>23</td>\n",
              "      <td>none</td>\n",
              "      <td>for free</td>\n",
              "      <td>1</td>\n",
              "      <td>unskilled - resident</td>\n",
              "      <td>0 to 2</td>\n",
              "      <td>no</td>\n",
              "      <td>no</td>\n",
              "      <td>good</td>\n",
              "    </tr>\n",
              "    <tr>\n",
              "      <th>3</th>\n",
              "      <td>no checking account</td>\n",
              "      <td>12</td>\n",
              "      <td>all credits at this bank paid back duly</td>\n",
              "      <td>others</td>\n",
              "      <td>2122</td>\n",
              "      <td>unknown/no savings account</td>\n",
              "      <td>1 &lt;= ... &lt; 4 yrs</td>\n",
              "      <td>20 &lt;= ... &lt; 25</td>\n",
              "      <td>male : married/widowed</td>\n",
              "      <td>none</td>\n",
              "      <td>...</td>\n",
              "      <td>unknown / no property</td>\n",
              "      <td>39</td>\n",
              "      <td>none</td>\n",
              "      <td>for free</td>\n",
              "      <td>3-Feb</td>\n",
              "      <td>unskilled - resident</td>\n",
              "      <td>3 or more</td>\n",
              "      <td>no</td>\n",
              "      <td>yes</td>\n",
              "      <td>good</td>\n",
              "    </tr>\n",
              "    <tr>\n",
              "      <th>4</th>\n",
              "      <td>no checking account</td>\n",
              "      <td>12</td>\n",
              "      <td>all credits at this bank paid back duly</td>\n",
              "      <td>others</td>\n",
              "      <td>2171</td>\n",
              "      <td>unknown/no savings account</td>\n",
              "      <td>1 &lt;= ... &lt; 4 yrs</td>\n",
              "      <td>&lt; 20</td>\n",
              "      <td>male : married/widowed</td>\n",
              "      <td>none</td>\n",
              "      <td>...</td>\n",
              "      <td>car or other</td>\n",
              "      <td>38</td>\n",
              "      <td>bank</td>\n",
              "      <td>rent</td>\n",
              "      <td>3-Feb</td>\n",
              "      <td>unskilled - resident</td>\n",
              "      <td>0 to 2</td>\n",
              "      <td>no</td>\n",
              "      <td>yes</td>\n",
              "      <td>good</td>\n",
              "    </tr>\n",
              "  </tbody>\n",
              "</table>\n",
              "<p>5 rows × 21 columns</p>\n",
              "</div>\n",
              "      <button class=\"colab-df-convert\" onclick=\"convertToInteractive('df-493a9b64-61c6-4c35-9f22-0efcb6d36060')\"\n",
              "              title=\"Convert this dataframe to an interactive table.\"\n",
              "              style=\"display:none;\">\n",
              "\n",
              "  <svg xmlns=\"http://www.w3.org/2000/svg\" height=\"24px\"viewBox=\"0 0 24 24\"\n",
              "       width=\"24px\">\n",
              "    <path d=\"M0 0h24v24H0V0z\" fill=\"none\"/>\n",
              "    <path d=\"M18.56 5.44l.94 2.06.94-2.06 2.06-.94-2.06-.94-.94-2.06-.94 2.06-2.06.94zm-11 1L8.5 8.5l.94-2.06 2.06-.94-2.06-.94L8.5 2.5l-.94 2.06-2.06.94zm10 10l.94 2.06.94-2.06 2.06-.94-2.06-.94-.94-2.06-.94 2.06-2.06.94z\"/><path d=\"M17.41 7.96l-1.37-1.37c-.4-.4-.92-.59-1.43-.59-.52 0-1.04.2-1.43.59L10.3 9.45l-7.72 7.72c-.78.78-.78 2.05 0 2.83L4 21.41c.39.39.9.59 1.41.59.51 0 1.02-.2 1.41-.59l7.78-7.78 2.81-2.81c.8-.78.8-2.07 0-2.86zM5.41 20L4 18.59l7.72-7.72 1.47 1.35L5.41 20z\"/>\n",
              "  </svg>\n",
              "      </button>\n",
              "\n",
              "\n",
              "\n",
              "    <div id=\"df-6e5e9367-e4df-4a9d-8c4d-30746961ed89\">\n",
              "      <button class=\"colab-df-quickchart\" onclick=\"quickchart('df-6e5e9367-e4df-4a9d-8c4d-30746961ed89')\"\n",
              "              title=\"Suggest charts.\"\n",
              "              style=\"display:none;\">\n",
              "\n",
              "<svg xmlns=\"http://www.w3.org/2000/svg\" height=\"24px\"viewBox=\"0 0 24 24\"\n",
              "     width=\"24px\">\n",
              "    <g>\n",
              "        <path d=\"M19 3H5c-1.1 0-2 .9-2 2v14c0 1.1.9 2 2 2h14c1.1 0 2-.9 2-2V5c0-1.1-.9-2-2-2zM9 17H7v-7h2v7zm4 0h-2V7h2v10zm4 0h-2v-4h2v4z\"/>\n",
              "    </g>\n",
              "</svg>\n",
              "      </button>\n",
              "    </div>\n",
              "\n",
              "<style>\n",
              "  .colab-df-quickchart {\n",
              "    background-color: #E8F0FE;\n",
              "    border: none;\n",
              "    border-radius: 50%;\n",
              "    cursor: pointer;\n",
              "    display: none;\n",
              "    fill: #1967D2;\n",
              "    height: 32px;\n",
              "    padding: 0 0 0 0;\n",
              "    width: 32px;\n",
              "  }\n",
              "\n",
              "  .colab-df-quickchart:hover {\n",
              "    background-color: #E2EBFA;\n",
              "    box-shadow: 0px 1px 2px rgba(60, 64, 67, 0.3), 0px 1px 3px 1px rgba(60, 64, 67, 0.15);\n",
              "    fill: #174EA6;\n",
              "  }\n",
              "\n",
              "  [theme=dark] .colab-df-quickchart {\n",
              "    background-color: #3B4455;\n",
              "    fill: #D2E3FC;\n",
              "  }\n",
              "\n",
              "  [theme=dark] .colab-df-quickchart:hover {\n",
              "    background-color: #434B5C;\n",
              "    box-shadow: 0px 1px 3px 1px rgba(0, 0, 0, 0.15);\n",
              "    filter: drop-shadow(0px 1px 2px rgba(0, 0, 0, 0.3));\n",
              "    fill: #FFFFFF;\n",
              "  }\n",
              "</style>\n",
              "\n",
              "    <script>\n",
              "      async function quickchart(key) {\n",
              "        const containerElement = document.querySelector('#' + key);\n",
              "        const charts = await google.colab.kernel.invokeFunction(\n",
              "            'suggestCharts', [key], {});\n",
              "      }\n",
              "    </script>\n",
              "\n",
              "      <script>\n",
              "\n",
              "function displayQuickchartButton(domScope) {\n",
              "  let quickchartButtonEl =\n",
              "    domScope.querySelector('#df-6e5e9367-e4df-4a9d-8c4d-30746961ed89 button.colab-df-quickchart');\n",
              "  quickchartButtonEl.style.display =\n",
              "    google.colab.kernel.accessAllowed ? 'block' : 'none';\n",
              "}\n",
              "\n",
              "        displayQuickchartButton(document);\n",
              "      </script>\n",
              "      <style>\n",
              "    .colab-df-container {\n",
              "      display:flex;\n",
              "      flex-wrap:wrap;\n",
              "      gap: 12px;\n",
              "    }\n",
              "\n",
              "    .colab-df-convert {\n",
              "      background-color: #E8F0FE;\n",
              "      border: none;\n",
              "      border-radius: 50%;\n",
              "      cursor: pointer;\n",
              "      display: none;\n",
              "      fill: #1967D2;\n",
              "      height: 32px;\n",
              "      padding: 0 0 0 0;\n",
              "      width: 32px;\n",
              "    }\n",
              "\n",
              "    .colab-df-convert:hover {\n",
              "      background-color: #E2EBFA;\n",
              "      box-shadow: 0px 1px 2px rgba(60, 64, 67, 0.3), 0px 1px 3px 1px rgba(60, 64, 67, 0.15);\n",
              "      fill: #174EA6;\n",
              "    }\n",
              "\n",
              "    [theme=dark] .colab-df-convert {\n",
              "      background-color: #3B4455;\n",
              "      fill: #D2E3FC;\n",
              "    }\n",
              "\n",
              "    [theme=dark] .colab-df-convert:hover {\n",
              "      background-color: #434B5C;\n",
              "      box-shadow: 0px 1px 3px 1px rgba(0, 0, 0, 0.15);\n",
              "      filter: drop-shadow(0px 1px 2px rgba(0, 0, 0, 0.3));\n",
              "      fill: #FFFFFF;\n",
              "    }\n",
              "  </style>\n",
              "\n",
              "      <script>\n",
              "        const buttonEl =\n",
              "          document.querySelector('#df-493a9b64-61c6-4c35-9f22-0efcb6d36060 button.colab-df-convert');\n",
              "        buttonEl.style.display =\n",
              "          google.colab.kernel.accessAllowed ? 'block' : 'none';\n",
              "\n",
              "        async function convertToInteractive(key) {\n",
              "          const element = document.querySelector('#df-493a9b64-61c6-4c35-9f22-0efcb6d36060');\n",
              "          const dataTable =\n",
              "            await google.colab.kernel.invokeFunction('convertToInteractive',\n",
              "                                                     [key], {});\n",
              "          if (!dataTable) return;\n",
              "\n",
              "          const docLinkHtml = 'Like what you see? Visit the ' +\n",
              "            '<a target=\"_blank\" href=https://colab.research.google.com/notebooks/data_table.ipynb>data table notebook</a>'\n",
              "            + ' to learn more about interactive tables.';\n",
              "          element.innerHTML = '';\n",
              "          dataTable['output_type'] = 'display_data';\n",
              "          await google.colab.output.renderOutput(dataTable, element);\n",
              "          const docLink = document.createElement('div');\n",
              "          docLink.innerHTML = docLinkHtml;\n",
              "          element.appendChild(docLink);\n",
              "        }\n",
              "      </script>\n",
              "    </div>\n",
              "  </div>\n"
            ],
            "text/plain": [
              "                status  duration                               credit_history  \\\n",
              "0  no checking account        18      all credits at this bank paid back duly   \n",
              "1  no checking account         9      all credits at this bank paid back duly   \n",
              "2           ... < 0 DM        12  no credits taken/all credits paid back duly   \n",
              "3  no checking account        12      all credits at this bank paid back duly   \n",
              "4  no checking account        12      all credits at this bank paid back duly   \n",
              "\n",
              "      purpose  amount                     savings employment_duration  \\\n",
              "0  car (used)    1049  unknown/no savings account              < 1 yr   \n",
              "1      others    2799  unknown/no savings account    1 <= ... < 4 yrs   \n",
              "2  retraining     841               ... <  100 DM    4 <= ... < 7 yrs   \n",
              "3      others    2122  unknown/no savings account    1 <= ... < 4 yrs   \n",
              "4      others    2171  unknown/no savings account    1 <= ... < 4 yrs   \n",
              "\n",
              "  installment_rate                   personal_status_sex other_debtors  ...  \\\n",
              "0             < 20  female : non-single or male : single          none  ...   \n",
              "1   25 <= ... < 35                male : married/widowed          none  ...   \n",
              "2   25 <= ... < 35  female : non-single or male : single          none  ...   \n",
              "3   20 <= ... < 25                male : married/widowed          none  ...   \n",
              "4             < 20                male : married/widowed          none  ...   \n",
              "\n",
              "                property age  other_installment_plans   housing  \\\n",
              "0           car or other  21                     none  for free   \n",
              "1  unknown / no property  36                     none  for free   \n",
              "2  unknown / no property  23                     none  for free   \n",
              "3  unknown / no property  39                     none  for free   \n",
              "4           car or other  38                     bank      rent   \n",
              "\n",
              "  number_credits                        job people_liable telephone  \\\n",
              "0              1  skilled employee/official        0 to 2        no   \n",
              "1          3-Feb  skilled employee/official     3 or more        no   \n",
              "2              1       unskilled - resident        0 to 2        no   \n",
              "3          3-Feb       unskilled - resident     3 or more        no   \n",
              "4          3-Feb       unskilled - resident        0 to 2        no   \n",
              "\n",
              "  foreign_worker credit_risk  \n",
              "0             no        good  \n",
              "1             no        good  \n",
              "2             no        good  \n",
              "3            yes        good  \n",
              "4            yes        good  \n",
              "\n",
              "[5 rows x 21 columns]"
            ]
          },
          "execution_count": 31,
          "metadata": {},
          "output_type": "execute_result"
        }
      ],
      "source": [
        "clean_data.head()"
      ]
    },
    {
      "cell_type": "code",
      "execution_count": 32,
      "metadata": {
        "colab": {
          "base_uri": "https://localhost:8080/"
        },
        "id": "ftCsL9pdZhqk",
        "outputId": "6ffc6e9d-3233-4e93-db4a-ed71419a99c2"
      },
      "outputs": [
        {
          "data": {
            "text/plain": [
              "(975, 21)"
            ]
          },
          "execution_count": 32,
          "metadata": {},
          "output_type": "execute_result"
        }
      ],
      "source": [
        "clean_data.shape"
      ]
    },
    {
      "cell_type": "code",
      "execution_count": 33,
      "metadata": {
        "colab": {
          "base_uri": "https://localhost:8080/"
        },
        "id": "MD_aj5nobExr",
        "outputId": "bca24782-821a-4542-fc7e-fc3d98a1a58a"
      },
      "outputs": [
        {
          "name": "stdout",
          "output_type": "stream",
          "text": [
            "<class 'pandas.core.frame.DataFrame'>\n",
            "Int64Index: 975 entries, 0 to 999\n",
            "Data columns (total 21 columns):\n",
            " #   Column                   Non-Null Count  Dtype \n",
            "---  ------                   --------------  ----- \n",
            " 0   status                   975 non-null    object\n",
            " 1   duration                 975 non-null    int64 \n",
            " 2   credit_history           975 non-null    object\n",
            " 3   purpose                  975 non-null    object\n",
            " 4   amount                   975 non-null    int64 \n",
            " 5   savings                  975 non-null    object\n",
            " 6   employment_duration      975 non-null    object\n",
            " 7   installment_rate         975 non-null    object\n",
            " 8   personal_status_sex      975 non-null    object\n",
            " 9   other_debtors            975 non-null    object\n",
            " 10  present_residence        975 non-null    object\n",
            " 11  property                 975 non-null    object\n",
            " 12  age                      975 non-null    int64 \n",
            " 13  other_installment_plans  975 non-null    object\n",
            " 14  housing                  975 non-null    object\n",
            " 15  number_credits           975 non-null    object\n",
            " 16  job                      975 non-null    object\n",
            " 17  people_liable            975 non-null    object\n",
            " 18  telephone                975 non-null    object\n",
            " 19  foreign_worker           975 non-null    object\n",
            " 20  credit_risk              975 non-null    object\n",
            "dtypes: int64(3), object(18)\n",
            "memory usage: 167.6+ KB\n"
          ]
        }
      ],
      "source": [
        "clean_data.info()"
      ]
    },
    {
      "cell_type": "code",
      "execution_count": 34,
      "metadata": {
        "colab": {
          "base_uri": "https://localhost:8080/"
        },
        "id": "PPU0GMQgbSi9",
        "outputId": "76bb2f61-e900-4cbd-d451-d6ff2476a73f"
      },
      "outputs": [
        {
          "name": "stdout",
          "output_type": "stream",
          "text": [
            "We have 3 numerical features: ['duration', 'amount', 'age']\n",
            "----------------------------------------------------------------------------------\n",
            "We have 18 categorical features: ['status', 'credit_history', 'purpose', 'savings', 'employment_duration', 'installment_rate', 'personal_status_sex', 'other_debtors', 'present_residence', 'property', 'other_installment_plans', 'housing', 'number_credits', 'job', 'people_liable', 'telephone', 'foreign_worker', 'credit_risk']\n"
          ]
        }
      ],
      "source": [
        "## define numerical and categorical columns\n",
        "\n",
        "numeric_features = [feature for feature in df.columns if df[feature].dtype != \"O\"]\n",
        "\n",
        "categorical_features = [feature for feature in df.columns if df[feature].dtypes == \"O\"]\n",
        "\n",
        "print(\"We have {} numerical features: {}\".format(len(numeric_features), numeric_features))\n",
        "\n",
        "print(\"----------------------------------------------------------------------------------\")\n",
        "\n",
        "print(\"We have {} categorical features: {}\".format(len(categorical_features), categorical_features))"
      ]
    },
    {
      "cell_type": "code",
      "execution_count": 35,
      "metadata": {
        "colab": {
          "base_uri": "https://localhost:8080/"
        },
        "id": "ofOZuizkboqz",
        "outputId": "a6bb1747-2d83-4a77-c544-4f9d7ec70c2e"
      },
      "outputs": [
        {
          "name": "stdout",
          "output_type": "stream",
          "text": [
            "Number of duplicates:  0\n",
            "Unique values per column:\n"
          ]
        },
        {
          "data": {
            "text/plain": [
              "status                       4\n",
              "duration                    32\n",
              "credit_history               5\n",
              "purpose                     10\n",
              "amount                     898\n",
              "savings                      5\n",
              "employment_duration          5\n",
              "installment_rate             4\n",
              "personal_status_sex          4\n",
              "other_debtors                3\n",
              "present_residence            4\n",
              "property                     4\n",
              "age                         53\n",
              "other_installment_plans      3\n",
              "housing                      3\n",
              "number_credits               4\n",
              "job                          4\n",
              "people_liable                2\n",
              "telephone                    2\n",
              "foreign_worker               2\n",
              "credit_risk                  2\n",
              "dtype: int64"
            ]
          },
          "execution_count": 35,
          "metadata": {},
          "output_type": "execute_result"
        }
      ],
      "source": [
        "## Checking the duplicate columns\n",
        "print(\"Number of duplicates: \", clean_data.duplicated().sum())\n",
        "print(\"Unique values per column:\")\n",
        "clean_data.nunique()"
      ]
    },
    {
      "cell_type": "code",
      "execution_count": 36,
      "metadata": {
        "colab": {
          "base_uri": "https://localhost:8080/",
          "height": 472
        },
        "id": "9H70WtMIb9Wc",
        "outputId": "be6fc29a-460a-4e6e-c325-7bd3741f7733"
      },
      "outputs": [
        {
          "data": {
            "text/html": [
              "\n",
              "\n",
              "  <div id=\"df-9041943c-77ce-424e-b569-192ab3d0628e\">\n",
              "    <div class=\"colab-df-container\">\n",
              "      <div>\n",
              "<style scoped>\n",
              "    .dataframe tbody tr th:only-of-type {\n",
              "        vertical-align: middle;\n",
              "    }\n",
              "\n",
              "    .dataframe tbody tr th {\n",
              "        vertical-align: top;\n",
              "    }\n",
              "\n",
              "    .dataframe thead th {\n",
              "        text-align: right;\n",
              "    }\n",
              "</style>\n",
              "<table border=\"1\" class=\"dataframe\">\n",
              "  <thead>\n",
              "    <tr style=\"text-align: right;\">\n",
              "      <th></th>\n",
              "      <th>status</th>\n",
              "      <th>duration</th>\n",
              "      <th>credit_history</th>\n",
              "      <th>purpose</th>\n",
              "      <th>amount</th>\n",
              "      <th>savings</th>\n",
              "      <th>employment_duration</th>\n",
              "      <th>installment_rate</th>\n",
              "      <th>personal_status_sex</th>\n",
              "      <th>other_debtors</th>\n",
              "      <th>...</th>\n",
              "      <th>property</th>\n",
              "      <th>age</th>\n",
              "      <th>other_installment_plans</th>\n",
              "      <th>housing</th>\n",
              "      <th>number_credits</th>\n",
              "      <th>job</th>\n",
              "      <th>people_liable</th>\n",
              "      <th>telephone</th>\n",
              "      <th>foreign_worker</th>\n",
              "      <th>credit_risk</th>\n",
              "    </tr>\n",
              "  </thead>\n",
              "  <tbody>\n",
              "    <tr>\n",
              "      <th>0</th>\n",
              "      <td>no checking account</td>\n",
              "      <td>18</td>\n",
              "      <td>all credits at this bank paid back duly</td>\n",
              "      <td>car (used)</td>\n",
              "      <td>1049</td>\n",
              "      <td>unknown/no savings account</td>\n",
              "      <td>&lt; 1 yr</td>\n",
              "      <td>&lt; 20</td>\n",
              "      <td>female : non-single or male : single</td>\n",
              "      <td>none</td>\n",
              "      <td>...</td>\n",
              "      <td>car or other</td>\n",
              "      <td>21</td>\n",
              "      <td>none</td>\n",
              "      <td>for free</td>\n",
              "      <td>1</td>\n",
              "      <td>skilled employee/official</td>\n",
              "      <td>0 to 2</td>\n",
              "      <td>no</td>\n",
              "      <td>no</td>\n",
              "      <td>good</td>\n",
              "    </tr>\n",
              "    <tr>\n",
              "      <th>1</th>\n",
              "      <td>no checking account</td>\n",
              "      <td>9</td>\n",
              "      <td>all credits at this bank paid back duly</td>\n",
              "      <td>others</td>\n",
              "      <td>2799</td>\n",
              "      <td>unknown/no savings account</td>\n",
              "      <td>1 &lt;= ... &lt; 4 yrs</td>\n",
              "      <td>25 &lt;= ... &lt; 35</td>\n",
              "      <td>male : married/widowed</td>\n",
              "      <td>none</td>\n",
              "      <td>...</td>\n",
              "      <td>unknown / no property</td>\n",
              "      <td>36</td>\n",
              "      <td>none</td>\n",
              "      <td>for free</td>\n",
              "      <td>3-Feb</td>\n",
              "      <td>skilled employee/official</td>\n",
              "      <td>3 or more</td>\n",
              "      <td>no</td>\n",
              "      <td>no</td>\n",
              "      <td>good</td>\n",
              "    </tr>\n",
              "    <tr>\n",
              "      <th>2</th>\n",
              "      <td>... &lt; 0 DM</td>\n",
              "      <td>12</td>\n",
              "      <td>no credits taken/all credits paid back duly</td>\n",
              "      <td>retraining</td>\n",
              "      <td>841</td>\n",
              "      <td>... &lt;  100 DM</td>\n",
              "      <td>4 &lt;= ... &lt; 7 yrs</td>\n",
              "      <td>25 &lt;= ... &lt; 35</td>\n",
              "      <td>female : non-single or male : single</td>\n",
              "      <td>none</td>\n",
              "      <td>...</td>\n",
              "      <td>unknown / no property</td>\n",
              "      <td>23</td>\n",
              "      <td>none</td>\n",
              "      <td>for free</td>\n",
              "      <td>1</td>\n",
              "      <td>unskilled - resident</td>\n",
              "      <td>0 to 2</td>\n",
              "      <td>no</td>\n",
              "      <td>no</td>\n",
              "      <td>good</td>\n",
              "    </tr>\n",
              "    <tr>\n",
              "      <th>3</th>\n",
              "      <td>no checking account</td>\n",
              "      <td>12</td>\n",
              "      <td>all credits at this bank paid back duly</td>\n",
              "      <td>others</td>\n",
              "      <td>2122</td>\n",
              "      <td>unknown/no savings account</td>\n",
              "      <td>1 &lt;= ... &lt; 4 yrs</td>\n",
              "      <td>20 &lt;= ... &lt; 25</td>\n",
              "      <td>male : married/widowed</td>\n",
              "      <td>none</td>\n",
              "      <td>...</td>\n",
              "      <td>unknown / no property</td>\n",
              "      <td>39</td>\n",
              "      <td>none</td>\n",
              "      <td>for free</td>\n",
              "      <td>3-Feb</td>\n",
              "      <td>unskilled - resident</td>\n",
              "      <td>3 or more</td>\n",
              "      <td>no</td>\n",
              "      <td>yes</td>\n",
              "      <td>good</td>\n",
              "    </tr>\n",
              "    <tr>\n",
              "      <th>4</th>\n",
              "      <td>no checking account</td>\n",
              "      <td>12</td>\n",
              "      <td>all credits at this bank paid back duly</td>\n",
              "      <td>others</td>\n",
              "      <td>2171</td>\n",
              "      <td>unknown/no savings account</td>\n",
              "      <td>1 &lt;= ... &lt; 4 yrs</td>\n",
              "      <td>&lt; 20</td>\n",
              "      <td>male : married/widowed</td>\n",
              "      <td>none</td>\n",
              "      <td>...</td>\n",
              "      <td>car or other</td>\n",
              "      <td>38</td>\n",
              "      <td>bank</td>\n",
              "      <td>rent</td>\n",
              "      <td>3-Feb</td>\n",
              "      <td>unskilled - resident</td>\n",
              "      <td>0 to 2</td>\n",
              "      <td>no</td>\n",
              "      <td>yes</td>\n",
              "      <td>good</td>\n",
              "    </tr>\n",
              "  </tbody>\n",
              "</table>\n",
              "<p>5 rows × 21 columns</p>\n",
              "</div>\n",
              "      <button class=\"colab-df-convert\" onclick=\"convertToInteractive('df-9041943c-77ce-424e-b569-192ab3d0628e')\"\n",
              "              title=\"Convert this dataframe to an interactive table.\"\n",
              "              style=\"display:none;\">\n",
              "\n",
              "  <svg xmlns=\"http://www.w3.org/2000/svg\" height=\"24px\"viewBox=\"0 0 24 24\"\n",
              "       width=\"24px\">\n",
              "    <path d=\"M0 0h24v24H0V0z\" fill=\"none\"/>\n",
              "    <path d=\"M18.56 5.44l.94 2.06.94-2.06 2.06-.94-2.06-.94-.94-2.06-.94 2.06-2.06.94zm-11 1L8.5 8.5l.94-2.06 2.06-.94-2.06-.94L8.5 2.5l-.94 2.06-2.06.94zm10 10l.94 2.06.94-2.06 2.06-.94-2.06-.94-.94-2.06-.94 2.06-2.06.94z\"/><path d=\"M17.41 7.96l-1.37-1.37c-.4-.4-.92-.59-1.43-.59-.52 0-1.04.2-1.43.59L10.3 9.45l-7.72 7.72c-.78.78-.78 2.05 0 2.83L4 21.41c.39.39.9.59 1.41.59.51 0 1.02-.2 1.41-.59l7.78-7.78 2.81-2.81c.8-.78.8-2.07 0-2.86zM5.41 20L4 18.59l7.72-7.72 1.47 1.35L5.41 20z\"/>\n",
              "  </svg>\n",
              "      </button>\n",
              "\n",
              "\n",
              "\n",
              "    <div id=\"df-b9e677d1-2560-4513-bae5-cd2f70d327ac\">\n",
              "      <button class=\"colab-df-quickchart\" onclick=\"quickchart('df-b9e677d1-2560-4513-bae5-cd2f70d327ac')\"\n",
              "              title=\"Suggest charts.\"\n",
              "              style=\"display:none;\">\n",
              "\n",
              "<svg xmlns=\"http://www.w3.org/2000/svg\" height=\"24px\"viewBox=\"0 0 24 24\"\n",
              "     width=\"24px\">\n",
              "    <g>\n",
              "        <path d=\"M19 3H5c-1.1 0-2 .9-2 2v14c0 1.1.9 2 2 2h14c1.1 0 2-.9 2-2V5c0-1.1-.9-2-2-2zM9 17H7v-7h2v7zm4 0h-2V7h2v10zm4 0h-2v-4h2v4z\"/>\n",
              "    </g>\n",
              "</svg>\n",
              "      </button>\n",
              "    </div>\n",
              "\n",
              "<style>\n",
              "  .colab-df-quickchart {\n",
              "    background-color: #E8F0FE;\n",
              "    border: none;\n",
              "    border-radius: 50%;\n",
              "    cursor: pointer;\n",
              "    display: none;\n",
              "    fill: #1967D2;\n",
              "    height: 32px;\n",
              "    padding: 0 0 0 0;\n",
              "    width: 32px;\n",
              "  }\n",
              "\n",
              "  .colab-df-quickchart:hover {\n",
              "    background-color: #E2EBFA;\n",
              "    box-shadow: 0px 1px 2px rgba(60, 64, 67, 0.3), 0px 1px 3px 1px rgba(60, 64, 67, 0.15);\n",
              "    fill: #174EA6;\n",
              "  }\n",
              "\n",
              "  [theme=dark] .colab-df-quickchart {\n",
              "    background-color: #3B4455;\n",
              "    fill: #D2E3FC;\n",
              "  }\n",
              "\n",
              "  [theme=dark] .colab-df-quickchart:hover {\n",
              "    background-color: #434B5C;\n",
              "    box-shadow: 0px 1px 3px 1px rgba(0, 0, 0, 0.15);\n",
              "    filter: drop-shadow(0px 1px 2px rgba(0, 0, 0, 0.3));\n",
              "    fill: #FFFFFF;\n",
              "  }\n",
              "</style>\n",
              "\n",
              "    <script>\n",
              "      async function quickchart(key) {\n",
              "        const containerElement = document.querySelector('#' + key);\n",
              "        const charts = await google.colab.kernel.invokeFunction(\n",
              "            'suggestCharts', [key], {});\n",
              "      }\n",
              "    </script>\n",
              "\n",
              "      <script>\n",
              "\n",
              "function displayQuickchartButton(domScope) {\n",
              "  let quickchartButtonEl =\n",
              "    domScope.querySelector('#df-b9e677d1-2560-4513-bae5-cd2f70d327ac button.colab-df-quickchart');\n",
              "  quickchartButtonEl.style.display =\n",
              "    google.colab.kernel.accessAllowed ? 'block' : 'none';\n",
              "}\n",
              "\n",
              "        displayQuickchartButton(document);\n",
              "      </script>\n",
              "      <style>\n",
              "    .colab-df-container {\n",
              "      display:flex;\n",
              "      flex-wrap:wrap;\n",
              "      gap: 12px;\n",
              "    }\n",
              "\n",
              "    .colab-df-convert {\n",
              "      background-color: #E8F0FE;\n",
              "      border: none;\n",
              "      border-radius: 50%;\n",
              "      cursor: pointer;\n",
              "      display: none;\n",
              "      fill: #1967D2;\n",
              "      height: 32px;\n",
              "      padding: 0 0 0 0;\n",
              "      width: 32px;\n",
              "    }\n",
              "\n",
              "    .colab-df-convert:hover {\n",
              "      background-color: #E2EBFA;\n",
              "      box-shadow: 0px 1px 2px rgba(60, 64, 67, 0.3), 0px 1px 3px 1px rgba(60, 64, 67, 0.15);\n",
              "      fill: #174EA6;\n",
              "    }\n",
              "\n",
              "    [theme=dark] .colab-df-convert {\n",
              "      background-color: #3B4455;\n",
              "      fill: #D2E3FC;\n",
              "    }\n",
              "\n",
              "    [theme=dark] .colab-df-convert:hover {\n",
              "      background-color: #434B5C;\n",
              "      box-shadow: 0px 1px 3px 1px rgba(0, 0, 0, 0.15);\n",
              "      filter: drop-shadow(0px 1px 2px rgba(0, 0, 0, 0.3));\n",
              "      fill: #FFFFFF;\n",
              "    }\n",
              "  </style>\n",
              "\n",
              "      <script>\n",
              "        const buttonEl =\n",
              "          document.querySelector('#df-9041943c-77ce-424e-b569-192ab3d0628e button.colab-df-convert');\n",
              "        buttonEl.style.display =\n",
              "          google.colab.kernel.accessAllowed ? 'block' : 'none';\n",
              "\n",
              "        async function convertToInteractive(key) {\n",
              "          const element = document.querySelector('#df-9041943c-77ce-424e-b569-192ab3d0628e');\n",
              "          const dataTable =\n",
              "            await google.colab.kernel.invokeFunction('convertToInteractive',\n",
              "                                                     [key], {});\n",
              "          if (!dataTable) return;\n",
              "\n",
              "          const docLinkHtml = 'Like what you see? Visit the ' +\n",
              "            '<a target=\"_blank\" href=https://colab.research.google.com/notebooks/data_table.ipynb>data table notebook</a>'\n",
              "            + ' to learn more about interactive tables.';\n",
              "          element.innerHTML = '';\n",
              "          dataTable['output_type'] = 'display_data';\n",
              "          await google.colab.output.renderOutput(dataTable, element);\n",
              "          const docLink = document.createElement('div');\n",
              "          docLink.innerHTML = docLinkHtml;\n",
              "          element.appendChild(docLink);\n",
              "        }\n",
              "      </script>\n",
              "    </div>\n",
              "  </div>\n"
            ],
            "text/plain": [
              "                status  duration                               credit_history  \\\n",
              "0  no checking account        18      all credits at this bank paid back duly   \n",
              "1  no checking account         9      all credits at this bank paid back duly   \n",
              "2           ... < 0 DM        12  no credits taken/all credits paid back duly   \n",
              "3  no checking account        12      all credits at this bank paid back duly   \n",
              "4  no checking account        12      all credits at this bank paid back duly   \n",
              "\n",
              "      purpose  amount                     savings employment_duration  \\\n",
              "0  car (used)    1049  unknown/no savings account              < 1 yr   \n",
              "1      others    2799  unknown/no savings account    1 <= ... < 4 yrs   \n",
              "2  retraining     841               ... <  100 DM    4 <= ... < 7 yrs   \n",
              "3      others    2122  unknown/no savings account    1 <= ... < 4 yrs   \n",
              "4      others    2171  unknown/no savings account    1 <= ... < 4 yrs   \n",
              "\n",
              "  installment_rate                   personal_status_sex other_debtors  ...  \\\n",
              "0             < 20  female : non-single or male : single          none  ...   \n",
              "1   25 <= ... < 35                male : married/widowed          none  ...   \n",
              "2   25 <= ... < 35  female : non-single or male : single          none  ...   \n",
              "3   20 <= ... < 25                male : married/widowed          none  ...   \n",
              "4             < 20                male : married/widowed          none  ...   \n",
              "\n",
              "                property age  other_installment_plans   housing  \\\n",
              "0           car or other  21                     none  for free   \n",
              "1  unknown / no property  36                     none  for free   \n",
              "2  unknown / no property  23                     none  for free   \n",
              "3  unknown / no property  39                     none  for free   \n",
              "4           car or other  38                     bank      rent   \n",
              "\n",
              "  number_credits                        job people_liable telephone  \\\n",
              "0              1  skilled employee/official        0 to 2        no   \n",
              "1          3-Feb  skilled employee/official     3 or more        no   \n",
              "2              1       unskilled - resident        0 to 2        no   \n",
              "3          3-Feb       unskilled - resident     3 or more        no   \n",
              "4          3-Feb       unskilled - resident        0 to 2        no   \n",
              "\n",
              "  foreign_worker credit_risk  \n",
              "0             no        good  \n",
              "1             no        good  \n",
              "2             no        good  \n",
              "3            yes        good  \n",
              "4            yes        good  \n",
              "\n",
              "[5 rows x 21 columns]"
            ]
          },
          "execution_count": 36,
          "metadata": {},
          "output_type": "execute_result"
        }
      ],
      "source": [
        "df = clean_data.copy()\n",
        "\n",
        "df.head()"
      ]
    },
    {
      "cell_type": "code",
      "execution_count": 37,
      "metadata": {
        "colab": {
          "base_uri": "https://localhost:8080/"
        },
        "id": "TlVueNtcb47D",
        "outputId": "568d85d1-50b1-4e25-f372-335a3a83b771"
      },
      "outputs": [
        {
          "data": {
            "text/plain": [
              "status                     0\n",
              "duration                   0\n",
              "credit_history             0\n",
              "purpose                    0\n",
              "amount                     0\n",
              "savings                    0\n",
              "employment_duration        0\n",
              "installment_rate           0\n",
              "personal_status_sex        0\n",
              "other_debtors              0\n",
              "present_residence          0\n",
              "property                   0\n",
              "age                        0\n",
              "other_installment_plans    0\n",
              "housing                    0\n",
              "number_credits             0\n",
              "job                        0\n",
              "people_liable              0\n",
              "telephone                  0\n",
              "foreign_worker             0\n",
              "credit_risk                0\n",
              "dtype: int64"
            ]
          },
          "execution_count": 37,
          "metadata": {},
          "output_type": "execute_result"
        }
      ],
      "source": [
        "## Checking for null values\n",
        "\n",
        "df.isnull().sum()"
      ]
    },
    {
      "cell_type": "code",
      "execution_count": 38,
      "metadata": {
        "colab": {
          "base_uri": "https://localhost:8080/"
        },
        "id": "O7evvPMhcPQm",
        "outputId": "c8891024-8bb8-4ad6-ee76-adb08b381632"
      },
      "outputs": [
        {
          "data": {
            "text/plain": [
              "Index(['status', 'duration', 'credit_history', 'purpose', 'amount', 'savings',\n",
              "       'employment_duration', 'installment_rate', 'personal_status_sex',\n",
              "       'other_debtors', 'present_residence', 'property', 'age',\n",
              "       'other_installment_plans', 'housing', 'number_credits', 'job',\n",
              "       'people_liable', 'telephone', 'foreign_worker', 'credit_risk'],\n",
              "      dtype='object')"
            ]
          },
          "execution_count": 38,
          "metadata": {},
          "output_type": "execute_result"
        }
      ],
      "source": [
        "df.columns"
      ]
    },
    {
      "cell_type": "code",
      "execution_count": 39,
      "metadata": {
        "colab": {
          "base_uri": "https://localhost:8080/"
        },
        "id": "QuycwRRSc_9E",
        "outputId": "b8b409f9-c432-4507-8e2b-7eb0faba63a4"
      },
      "outputs": [
        {
          "data": {
            "text/plain": [
              "1 <= ... < 4 yrs    331\n",
              ">= 7 yrs            246\n",
              "< 1 yr              170\n",
              "4 <= ... < 7 yrs    170\n",
              "unemployed           58\n",
              "Name: employment_duration, dtype: int64"
            ]
          },
          "execution_count": 39,
          "metadata": {},
          "output_type": "execute_result"
        }
      ],
      "source": [
        "df[\"employment_duration\"].value_counts()"
      ]
    },
    {
      "cell_type": "code",
      "execution_count": 40,
      "metadata": {
        "colab": {
          "base_uri": "https://localhost:8080/"
        },
        "id": "47Y_ebRDdFGT",
        "outputId": "068f5436-9881-4939-e512-323444cacfe8"
      },
      "outputs": [
        {
          "data": {
            "text/plain": [
              "< 20              469\n",
              "25 <= ... < 35    222\n",
              "20 <= ... < 25    154\n",
              ">= 35             130\n",
              "Name: installment_rate, dtype: int64"
            ]
          },
          "execution_count": 40,
          "metadata": {},
          "output_type": "execute_result"
        }
      ],
      "source": [
        "df[\"installment_rate\"].value_counts()"
      ]
    },
    {
      "cell_type": "code",
      "execution_count": 41,
      "metadata": {
        "colab": {
          "base_uri": "https://localhost:8080/",
          "height": 472
        },
        "id": "gRPQl778dKAZ",
        "outputId": "fa61ee16-4dbf-447a-ade6-85c3ca510cc6"
      },
      "outputs": [
        {
          "data": {
            "text/html": [
              "\n",
              "\n",
              "  <div id=\"df-1ac3b731-e850-4fd8-a20d-da1e005bfb46\">\n",
              "    <div class=\"colab-df-container\">\n",
              "      <div>\n",
              "<style scoped>\n",
              "    .dataframe tbody tr th:only-of-type {\n",
              "        vertical-align: middle;\n",
              "    }\n",
              "\n",
              "    .dataframe tbody tr th {\n",
              "        vertical-align: top;\n",
              "    }\n",
              "\n",
              "    .dataframe thead th {\n",
              "        text-align: right;\n",
              "    }\n",
              "</style>\n",
              "<table border=\"1\" class=\"dataframe\">\n",
              "  <thead>\n",
              "    <tr style=\"text-align: right;\">\n",
              "      <th></th>\n",
              "      <th>status</th>\n",
              "      <th>duration</th>\n",
              "      <th>credit_history</th>\n",
              "      <th>purpose</th>\n",
              "      <th>amount</th>\n",
              "      <th>savings</th>\n",
              "      <th>employment_duration</th>\n",
              "      <th>installment_rate</th>\n",
              "      <th>personal_status_sex</th>\n",
              "      <th>other_debtors</th>\n",
              "      <th>...</th>\n",
              "      <th>property</th>\n",
              "      <th>age</th>\n",
              "      <th>other_installment_plans</th>\n",
              "      <th>housing</th>\n",
              "      <th>number_credits</th>\n",
              "      <th>job</th>\n",
              "      <th>people_liable</th>\n",
              "      <th>telephone</th>\n",
              "      <th>foreign_worker</th>\n",
              "      <th>credit_risk</th>\n",
              "    </tr>\n",
              "  </thead>\n",
              "  <tbody>\n",
              "    <tr>\n",
              "      <th>0</th>\n",
              "      <td>no checking account</td>\n",
              "      <td>18</td>\n",
              "      <td>all credits at this bank paid back duly</td>\n",
              "      <td>car (used)</td>\n",
              "      <td>1049</td>\n",
              "      <td>unknown/no savings account</td>\n",
              "      <td>&lt; 1 yr</td>\n",
              "      <td>&lt; 20</td>\n",
              "      <td>female : non-single or male : single</td>\n",
              "      <td>none</td>\n",
              "      <td>...</td>\n",
              "      <td>car or other</td>\n",
              "      <td>21</td>\n",
              "      <td>none</td>\n",
              "      <td>for free</td>\n",
              "      <td>1</td>\n",
              "      <td>skilled employee/official</td>\n",
              "      <td>0 to 2</td>\n",
              "      <td>no</td>\n",
              "      <td>no</td>\n",
              "      <td>good</td>\n",
              "    </tr>\n",
              "    <tr>\n",
              "      <th>1</th>\n",
              "      <td>no checking account</td>\n",
              "      <td>9</td>\n",
              "      <td>all credits at this bank paid back duly</td>\n",
              "      <td>others</td>\n",
              "      <td>2799</td>\n",
              "      <td>unknown/no savings account</td>\n",
              "      <td>1 &lt;= ... &lt; 4 yrs</td>\n",
              "      <td>25 &lt;= ... &lt; 35</td>\n",
              "      <td>male : married/widowed</td>\n",
              "      <td>none</td>\n",
              "      <td>...</td>\n",
              "      <td>unknown / no property</td>\n",
              "      <td>36</td>\n",
              "      <td>none</td>\n",
              "      <td>for free</td>\n",
              "      <td>3-Feb</td>\n",
              "      <td>skilled employee/official</td>\n",
              "      <td>3 or more</td>\n",
              "      <td>no</td>\n",
              "      <td>no</td>\n",
              "      <td>good</td>\n",
              "    </tr>\n",
              "    <tr>\n",
              "      <th>2</th>\n",
              "      <td>... &lt; 0 DM</td>\n",
              "      <td>12</td>\n",
              "      <td>no credits taken/all credits paid back duly</td>\n",
              "      <td>retraining</td>\n",
              "      <td>841</td>\n",
              "      <td>... &lt;  100 DM</td>\n",
              "      <td>4 &lt;= ... &lt; 7 yrs</td>\n",
              "      <td>25 &lt;= ... &lt; 35</td>\n",
              "      <td>female : non-single or male : single</td>\n",
              "      <td>none</td>\n",
              "      <td>...</td>\n",
              "      <td>unknown / no property</td>\n",
              "      <td>23</td>\n",
              "      <td>none</td>\n",
              "      <td>for free</td>\n",
              "      <td>1</td>\n",
              "      <td>unskilled - resident</td>\n",
              "      <td>0 to 2</td>\n",
              "      <td>no</td>\n",
              "      <td>no</td>\n",
              "      <td>good</td>\n",
              "    </tr>\n",
              "    <tr>\n",
              "      <th>3</th>\n",
              "      <td>no checking account</td>\n",
              "      <td>12</td>\n",
              "      <td>all credits at this bank paid back duly</td>\n",
              "      <td>others</td>\n",
              "      <td>2122</td>\n",
              "      <td>unknown/no savings account</td>\n",
              "      <td>1 &lt;= ... &lt; 4 yrs</td>\n",
              "      <td>20 &lt;= ... &lt; 25</td>\n",
              "      <td>male : married/widowed</td>\n",
              "      <td>none</td>\n",
              "      <td>...</td>\n",
              "      <td>unknown / no property</td>\n",
              "      <td>39</td>\n",
              "      <td>none</td>\n",
              "      <td>for free</td>\n",
              "      <td>3-Feb</td>\n",
              "      <td>unskilled - resident</td>\n",
              "      <td>3 or more</td>\n",
              "      <td>no</td>\n",
              "      <td>yes</td>\n",
              "      <td>good</td>\n",
              "    </tr>\n",
              "    <tr>\n",
              "      <th>4</th>\n",
              "      <td>no checking account</td>\n",
              "      <td>12</td>\n",
              "      <td>all credits at this bank paid back duly</td>\n",
              "      <td>others</td>\n",
              "      <td>2171</td>\n",
              "      <td>unknown/no savings account</td>\n",
              "      <td>1 &lt;= ... &lt; 4 yrs</td>\n",
              "      <td>&lt; 20</td>\n",
              "      <td>male : married/widowed</td>\n",
              "      <td>none</td>\n",
              "      <td>...</td>\n",
              "      <td>car or other</td>\n",
              "      <td>38</td>\n",
              "      <td>bank</td>\n",
              "      <td>rent</td>\n",
              "      <td>3-Feb</td>\n",
              "      <td>unskilled - resident</td>\n",
              "      <td>0 to 2</td>\n",
              "      <td>no</td>\n",
              "      <td>yes</td>\n",
              "      <td>good</td>\n",
              "    </tr>\n",
              "  </tbody>\n",
              "</table>\n",
              "<p>5 rows × 21 columns</p>\n",
              "</div>\n",
              "      <button class=\"colab-df-convert\" onclick=\"convertToInteractive('df-1ac3b731-e850-4fd8-a20d-da1e005bfb46')\"\n",
              "              title=\"Convert this dataframe to an interactive table.\"\n",
              "              style=\"display:none;\">\n",
              "\n",
              "  <svg xmlns=\"http://www.w3.org/2000/svg\" height=\"24px\"viewBox=\"0 0 24 24\"\n",
              "       width=\"24px\">\n",
              "    <path d=\"M0 0h24v24H0V0z\" fill=\"none\"/>\n",
              "    <path d=\"M18.56 5.44l.94 2.06.94-2.06 2.06-.94-2.06-.94-.94-2.06-.94 2.06-2.06.94zm-11 1L8.5 8.5l.94-2.06 2.06-.94-2.06-.94L8.5 2.5l-.94 2.06-2.06.94zm10 10l.94 2.06.94-2.06 2.06-.94-2.06-.94-.94-2.06-.94 2.06-2.06.94z\"/><path d=\"M17.41 7.96l-1.37-1.37c-.4-.4-.92-.59-1.43-.59-.52 0-1.04.2-1.43.59L10.3 9.45l-7.72 7.72c-.78.78-.78 2.05 0 2.83L4 21.41c.39.39.9.59 1.41.59.51 0 1.02-.2 1.41-.59l7.78-7.78 2.81-2.81c.8-.78.8-2.07 0-2.86zM5.41 20L4 18.59l7.72-7.72 1.47 1.35L5.41 20z\"/>\n",
              "  </svg>\n",
              "      </button>\n",
              "\n",
              "\n",
              "\n",
              "    <div id=\"df-c10238ca-161b-4bd2-a5db-a018c29c82bf\">\n",
              "      <button class=\"colab-df-quickchart\" onclick=\"quickchart('df-c10238ca-161b-4bd2-a5db-a018c29c82bf')\"\n",
              "              title=\"Suggest charts.\"\n",
              "              style=\"display:none;\">\n",
              "\n",
              "<svg xmlns=\"http://www.w3.org/2000/svg\" height=\"24px\"viewBox=\"0 0 24 24\"\n",
              "     width=\"24px\">\n",
              "    <g>\n",
              "        <path d=\"M19 3H5c-1.1 0-2 .9-2 2v14c0 1.1.9 2 2 2h14c1.1 0 2-.9 2-2V5c0-1.1-.9-2-2-2zM9 17H7v-7h2v7zm4 0h-2V7h2v10zm4 0h-2v-4h2v4z\"/>\n",
              "    </g>\n",
              "</svg>\n",
              "      </button>\n",
              "    </div>\n",
              "\n",
              "<style>\n",
              "  .colab-df-quickchart {\n",
              "    background-color: #E8F0FE;\n",
              "    border: none;\n",
              "    border-radius: 50%;\n",
              "    cursor: pointer;\n",
              "    display: none;\n",
              "    fill: #1967D2;\n",
              "    height: 32px;\n",
              "    padding: 0 0 0 0;\n",
              "    width: 32px;\n",
              "  }\n",
              "\n",
              "  .colab-df-quickchart:hover {\n",
              "    background-color: #E2EBFA;\n",
              "    box-shadow: 0px 1px 2px rgba(60, 64, 67, 0.3), 0px 1px 3px 1px rgba(60, 64, 67, 0.15);\n",
              "    fill: #174EA6;\n",
              "  }\n",
              "\n",
              "  [theme=dark] .colab-df-quickchart {\n",
              "    background-color: #3B4455;\n",
              "    fill: #D2E3FC;\n",
              "  }\n",
              "\n",
              "  [theme=dark] .colab-df-quickchart:hover {\n",
              "    background-color: #434B5C;\n",
              "    box-shadow: 0px 1px 3px 1px rgba(0, 0, 0, 0.15);\n",
              "    filter: drop-shadow(0px 1px 2px rgba(0, 0, 0, 0.3));\n",
              "    fill: #FFFFFF;\n",
              "  }\n",
              "</style>\n",
              "\n",
              "    <script>\n",
              "      async function quickchart(key) {\n",
              "        const containerElement = document.querySelector('#' + key);\n",
              "        const charts = await google.colab.kernel.invokeFunction(\n",
              "            'suggestCharts', [key], {});\n",
              "      }\n",
              "    </script>\n",
              "\n",
              "      <script>\n",
              "\n",
              "function displayQuickchartButton(domScope) {\n",
              "  let quickchartButtonEl =\n",
              "    domScope.querySelector('#df-c10238ca-161b-4bd2-a5db-a018c29c82bf button.colab-df-quickchart');\n",
              "  quickchartButtonEl.style.display =\n",
              "    google.colab.kernel.accessAllowed ? 'block' : 'none';\n",
              "}\n",
              "\n",
              "        displayQuickchartButton(document);\n",
              "      </script>\n",
              "      <style>\n",
              "    .colab-df-container {\n",
              "      display:flex;\n",
              "      flex-wrap:wrap;\n",
              "      gap: 12px;\n",
              "    }\n",
              "\n",
              "    .colab-df-convert {\n",
              "      background-color: #E8F0FE;\n",
              "      border: none;\n",
              "      border-radius: 50%;\n",
              "      cursor: pointer;\n",
              "      display: none;\n",
              "      fill: #1967D2;\n",
              "      height: 32px;\n",
              "      padding: 0 0 0 0;\n",
              "      width: 32px;\n",
              "    }\n",
              "\n",
              "    .colab-df-convert:hover {\n",
              "      background-color: #E2EBFA;\n",
              "      box-shadow: 0px 1px 2px rgba(60, 64, 67, 0.3), 0px 1px 3px 1px rgba(60, 64, 67, 0.15);\n",
              "      fill: #174EA6;\n",
              "    }\n",
              "\n",
              "    [theme=dark] .colab-df-convert {\n",
              "      background-color: #3B4455;\n",
              "      fill: #D2E3FC;\n",
              "    }\n",
              "\n",
              "    [theme=dark] .colab-df-convert:hover {\n",
              "      background-color: #434B5C;\n",
              "      box-shadow: 0px 1px 3px 1px rgba(0, 0, 0, 0.15);\n",
              "      filter: drop-shadow(0px 1px 2px rgba(0, 0, 0, 0.3));\n",
              "      fill: #FFFFFF;\n",
              "    }\n",
              "  </style>\n",
              "\n",
              "      <script>\n",
              "        const buttonEl =\n",
              "          document.querySelector('#df-1ac3b731-e850-4fd8-a20d-da1e005bfb46 button.colab-df-convert');\n",
              "        buttonEl.style.display =\n",
              "          google.colab.kernel.accessAllowed ? 'block' : 'none';\n",
              "\n",
              "        async function convertToInteractive(key) {\n",
              "          const element = document.querySelector('#df-1ac3b731-e850-4fd8-a20d-da1e005bfb46');\n",
              "          const dataTable =\n",
              "            await google.colab.kernel.invokeFunction('convertToInteractive',\n",
              "                                                     [key], {});\n",
              "          if (!dataTable) return;\n",
              "\n",
              "          const docLinkHtml = 'Like what you see? Visit the ' +\n",
              "            '<a target=\"_blank\" href=https://colab.research.google.com/notebooks/data_table.ipynb>data table notebook</a>'\n",
              "            + ' to learn more about interactive tables.';\n",
              "          element.innerHTML = '';\n",
              "          dataTable['output_type'] = 'display_data';\n",
              "          await google.colab.output.renderOutput(dataTable, element);\n",
              "          const docLink = document.createElement('div');\n",
              "          docLink.innerHTML = docLinkHtml;\n",
              "          element.appendChild(docLink);\n",
              "        }\n",
              "      </script>\n",
              "    </div>\n",
              "  </div>\n"
            ],
            "text/plain": [
              "                status  duration                               credit_history  \\\n",
              "0  no checking account        18      all credits at this bank paid back duly   \n",
              "1  no checking account         9      all credits at this bank paid back duly   \n",
              "2           ... < 0 DM        12  no credits taken/all credits paid back duly   \n",
              "3  no checking account        12      all credits at this bank paid back duly   \n",
              "4  no checking account        12      all credits at this bank paid back duly   \n",
              "\n",
              "      purpose  amount                     savings employment_duration  \\\n",
              "0  car (used)    1049  unknown/no savings account              < 1 yr   \n",
              "1      others    2799  unknown/no savings account    1 <= ... < 4 yrs   \n",
              "2  retraining     841               ... <  100 DM    4 <= ... < 7 yrs   \n",
              "3      others    2122  unknown/no savings account    1 <= ... < 4 yrs   \n",
              "4      others    2171  unknown/no savings account    1 <= ... < 4 yrs   \n",
              "\n",
              "  installment_rate                   personal_status_sex other_debtors  ...  \\\n",
              "0             < 20  female : non-single or male : single          none  ...   \n",
              "1   25 <= ... < 35                male : married/widowed          none  ...   \n",
              "2   25 <= ... < 35  female : non-single or male : single          none  ...   \n",
              "3   20 <= ... < 25                male : married/widowed          none  ...   \n",
              "4             < 20                male : married/widowed          none  ...   \n",
              "\n",
              "                property age  other_installment_plans   housing  \\\n",
              "0           car or other  21                     none  for free   \n",
              "1  unknown / no property  36                     none  for free   \n",
              "2  unknown / no property  23                     none  for free   \n",
              "3  unknown / no property  39                     none  for free   \n",
              "4           car or other  38                     bank      rent   \n",
              "\n",
              "  number_credits                        job people_liable telephone  \\\n",
              "0              1  skilled employee/official        0 to 2        no   \n",
              "1          3-Feb  skilled employee/official     3 or more        no   \n",
              "2              1       unskilled - resident        0 to 2        no   \n",
              "3          3-Feb       unskilled - resident     3 or more        no   \n",
              "4          3-Feb       unskilled - resident        0 to 2        no   \n",
              "\n",
              "  foreign_worker credit_risk  \n",
              "0             no        good  \n",
              "1             no        good  \n",
              "2             no        good  \n",
              "3            yes        good  \n",
              "4            yes        good  \n",
              "\n",
              "[5 rows x 21 columns]"
            ]
          },
          "execution_count": 41,
          "metadata": {},
          "output_type": "execute_result"
        }
      ],
      "source": [
        "df.head()"
      ]
    },
    {
      "cell_type": "markdown",
      "metadata": {
        "id": "x4UmIEGfduGb"
      },
      "source": [
        "### Data Preprocessing using Pipeline anc ColumnTransformers"
      ]
    },
    {
      "cell_type": "code",
      "execution_count": 42,
      "metadata": {
        "id": "MGCxk_Updrcf"
      },
      "outputs": [],
      "source": [
        "import pandas as pd\n",
        "import numpy as np\n",
        "from sklearn.compose import ColumnTransformer\n",
        "from sklearn.impute import SimpleImputer\n",
        "from sklearn.pipeline import Pipeline\n",
        "from sklearn.preprocessing import OneHotEncoder,StandardScaler, OrdinalEncoder, LabelEncoder, RobustScaler"
      ]
    },
    {
      "cell_type": "code",
      "execution_count": 43,
      "metadata": {
        "colab": {
          "base_uri": "https://localhost:8080/"
        },
        "id": "6ldi9Dbdd3qa",
        "outputId": "9298d650-0ea1-4fd4-aafb-eda9dca20723"
      },
      "outputs": [
        {
          "data": {
            "text/plain": [
              "Index(['duration', 'amount', 'age'], dtype='object')"
            ]
          },
          "execution_count": 43,
          "metadata": {},
          "output_type": "execute_result"
        }
      ],
      "source": [
        "numerical_columns = df.select_dtypes(exclude=\"object\").columns\n",
        "\n",
        "numerical_columns"
      ]
    },
    {
      "cell_type": "code",
      "execution_count": 44,
      "metadata": {
        "colab": {
          "base_uri": "https://localhost:8080/"
        },
        "id": "VJwVWyZ_d6kG",
        "outputId": "28cf1479-5950-4047-bcf7-21ad76791f55"
      },
      "outputs": [
        {
          "data": {
            "text/plain": [
              "Index(['status', 'credit_history', 'purpose', 'savings', 'employment_duration',\n",
              "       'installment_rate', 'personal_status_sex', 'other_debtors',\n",
              "       'present_residence', 'property', 'other_installment_plans', 'housing',\n",
              "       'number_credits', 'job', 'people_liable', 'telephone', 'foreign_worker',\n",
              "       'credit_risk'],\n",
              "      dtype='object')"
            ]
          },
          "execution_count": 44,
          "metadata": {},
          "output_type": "execute_result"
        }
      ],
      "source": [
        "categorical_columns = df.select_dtypes(include=\"object\").columns\n",
        "\n",
        "\n",
        "categorical_columns"
      ]
    },
    {
      "cell_type": "markdown",
      "metadata": {
        "id": "6Rik5JumeieY"
      },
      "source": [
        "### Divide the dataset into Independent and Dependent features"
      ]
    },
    {
      "cell_type": "code",
      "execution_count": 45,
      "metadata": {
        "id": "bB4-Pah0ehc8"
      },
      "outputs": [],
      "source": [
        "X = df.drop(columns=[\"credit_risk\"], axis=1)\n",
        "\n",
        "y = df[\"credit_risk\"]"
      ]
    },
    {
      "cell_type": "code",
      "execution_count": 46,
      "metadata": {
        "colab": {
          "base_uri": "https://localhost:8080/",
          "height": 443
        },
        "id": "YN4QFgHXew7J",
        "outputId": "c299c540-1283-4717-e416-912a758023d2"
      },
      "outputs": [
        {
          "data": {
            "text/html": [
              "\n",
              "\n",
              "  <div id=\"df-0407ae28-d0c6-4d3f-a25f-8add8c3e920b\">\n",
              "    <div class=\"colab-df-container\">\n",
              "      <div>\n",
              "<style scoped>\n",
              "    .dataframe tbody tr th:only-of-type {\n",
              "        vertical-align: middle;\n",
              "    }\n",
              "\n",
              "    .dataframe tbody tr th {\n",
              "        vertical-align: top;\n",
              "    }\n",
              "\n",
              "    .dataframe thead th {\n",
              "        text-align: right;\n",
              "    }\n",
              "</style>\n",
              "<table border=\"1\" class=\"dataframe\">\n",
              "  <thead>\n",
              "    <tr style=\"text-align: right;\">\n",
              "      <th></th>\n",
              "      <th>status</th>\n",
              "      <th>duration</th>\n",
              "      <th>credit_history</th>\n",
              "      <th>purpose</th>\n",
              "      <th>amount</th>\n",
              "      <th>savings</th>\n",
              "      <th>employment_duration</th>\n",
              "      <th>installment_rate</th>\n",
              "      <th>personal_status_sex</th>\n",
              "      <th>other_debtors</th>\n",
              "      <th>present_residence</th>\n",
              "      <th>property</th>\n",
              "      <th>age</th>\n",
              "      <th>other_installment_plans</th>\n",
              "      <th>housing</th>\n",
              "      <th>number_credits</th>\n",
              "      <th>job</th>\n",
              "      <th>people_liable</th>\n",
              "      <th>telephone</th>\n",
              "      <th>foreign_worker</th>\n",
              "    </tr>\n",
              "  </thead>\n",
              "  <tbody>\n",
              "    <tr>\n",
              "      <th>0</th>\n",
              "      <td>no checking account</td>\n",
              "      <td>18</td>\n",
              "      <td>all credits at this bank paid back duly</td>\n",
              "      <td>car (used)</td>\n",
              "      <td>1049</td>\n",
              "      <td>unknown/no savings account</td>\n",
              "      <td>&lt; 1 yr</td>\n",
              "      <td>&lt; 20</td>\n",
              "      <td>female : non-single or male : single</td>\n",
              "      <td>none</td>\n",
              "      <td>&gt;= 7 yrs</td>\n",
              "      <td>car or other</td>\n",
              "      <td>21</td>\n",
              "      <td>none</td>\n",
              "      <td>for free</td>\n",
              "      <td>1</td>\n",
              "      <td>skilled employee/official</td>\n",
              "      <td>0 to 2</td>\n",
              "      <td>no</td>\n",
              "      <td>no</td>\n",
              "    </tr>\n",
              "    <tr>\n",
              "      <th>1</th>\n",
              "      <td>no checking account</td>\n",
              "      <td>9</td>\n",
              "      <td>all credits at this bank paid back duly</td>\n",
              "      <td>others</td>\n",
              "      <td>2799</td>\n",
              "      <td>unknown/no savings account</td>\n",
              "      <td>1 &lt;= ... &lt; 4 yrs</td>\n",
              "      <td>25 &lt;= ... &lt; 35</td>\n",
              "      <td>male : married/widowed</td>\n",
              "      <td>none</td>\n",
              "      <td>1 &lt;= ... &lt; 4 yrs</td>\n",
              "      <td>unknown / no property</td>\n",
              "      <td>36</td>\n",
              "      <td>none</td>\n",
              "      <td>for free</td>\n",
              "      <td>3-Feb</td>\n",
              "      <td>skilled employee/official</td>\n",
              "      <td>3 or more</td>\n",
              "      <td>no</td>\n",
              "      <td>no</td>\n",
              "    </tr>\n",
              "    <tr>\n",
              "      <th>2</th>\n",
              "      <td>... &lt; 0 DM</td>\n",
              "      <td>12</td>\n",
              "      <td>no credits taken/all credits paid back duly</td>\n",
              "      <td>retraining</td>\n",
              "      <td>841</td>\n",
              "      <td>... &lt;  100 DM</td>\n",
              "      <td>4 &lt;= ... &lt; 7 yrs</td>\n",
              "      <td>25 &lt;= ... &lt; 35</td>\n",
              "      <td>female : non-single or male : single</td>\n",
              "      <td>none</td>\n",
              "      <td>&gt;= 7 yrs</td>\n",
              "      <td>unknown / no property</td>\n",
              "      <td>23</td>\n",
              "      <td>none</td>\n",
              "      <td>for free</td>\n",
              "      <td>1</td>\n",
              "      <td>unskilled - resident</td>\n",
              "      <td>0 to 2</td>\n",
              "      <td>no</td>\n",
              "      <td>no</td>\n",
              "    </tr>\n",
              "    <tr>\n",
              "      <th>3</th>\n",
              "      <td>no checking account</td>\n",
              "      <td>12</td>\n",
              "      <td>all credits at this bank paid back duly</td>\n",
              "      <td>others</td>\n",
              "      <td>2122</td>\n",
              "      <td>unknown/no savings account</td>\n",
              "      <td>1 &lt;= ... &lt; 4 yrs</td>\n",
              "      <td>20 &lt;= ... &lt; 25</td>\n",
              "      <td>male : married/widowed</td>\n",
              "      <td>none</td>\n",
              "      <td>1 &lt;= ... &lt; 4 yrs</td>\n",
              "      <td>unknown / no property</td>\n",
              "      <td>39</td>\n",
              "      <td>none</td>\n",
              "      <td>for free</td>\n",
              "      <td>3-Feb</td>\n",
              "      <td>unskilled - resident</td>\n",
              "      <td>3 or more</td>\n",
              "      <td>no</td>\n",
              "      <td>yes</td>\n",
              "    </tr>\n",
              "    <tr>\n",
              "      <th>4</th>\n",
              "      <td>no checking account</td>\n",
              "      <td>12</td>\n",
              "      <td>all credits at this bank paid back duly</td>\n",
              "      <td>others</td>\n",
              "      <td>2171</td>\n",
              "      <td>unknown/no savings account</td>\n",
              "      <td>1 &lt;= ... &lt; 4 yrs</td>\n",
              "      <td>&lt; 20</td>\n",
              "      <td>male : married/widowed</td>\n",
              "      <td>none</td>\n",
              "      <td>&gt;= 7 yrs</td>\n",
              "      <td>car or other</td>\n",
              "      <td>38</td>\n",
              "      <td>bank</td>\n",
              "      <td>rent</td>\n",
              "      <td>3-Feb</td>\n",
              "      <td>unskilled - resident</td>\n",
              "      <td>0 to 2</td>\n",
              "      <td>no</td>\n",
              "      <td>yes</td>\n",
              "    </tr>\n",
              "  </tbody>\n",
              "</table>\n",
              "</div>\n",
              "      <button class=\"colab-df-convert\" onclick=\"convertToInteractive('df-0407ae28-d0c6-4d3f-a25f-8add8c3e920b')\"\n",
              "              title=\"Convert this dataframe to an interactive table.\"\n",
              "              style=\"display:none;\">\n",
              "\n",
              "  <svg xmlns=\"http://www.w3.org/2000/svg\" height=\"24px\"viewBox=\"0 0 24 24\"\n",
              "       width=\"24px\">\n",
              "    <path d=\"M0 0h24v24H0V0z\" fill=\"none\"/>\n",
              "    <path d=\"M18.56 5.44l.94 2.06.94-2.06 2.06-.94-2.06-.94-.94-2.06-.94 2.06-2.06.94zm-11 1L8.5 8.5l.94-2.06 2.06-.94-2.06-.94L8.5 2.5l-.94 2.06-2.06.94zm10 10l.94 2.06.94-2.06 2.06-.94-2.06-.94-.94-2.06-.94 2.06-2.06.94z\"/><path d=\"M17.41 7.96l-1.37-1.37c-.4-.4-.92-.59-1.43-.59-.52 0-1.04.2-1.43.59L10.3 9.45l-7.72 7.72c-.78.78-.78 2.05 0 2.83L4 21.41c.39.39.9.59 1.41.59.51 0 1.02-.2 1.41-.59l7.78-7.78 2.81-2.81c.8-.78.8-2.07 0-2.86zM5.41 20L4 18.59l7.72-7.72 1.47 1.35L5.41 20z\"/>\n",
              "  </svg>\n",
              "      </button>\n",
              "\n",
              "\n",
              "\n",
              "    <div id=\"df-20714504-1bae-479b-ad45-77acfbeba078\">\n",
              "      <button class=\"colab-df-quickchart\" onclick=\"quickchart('df-20714504-1bae-479b-ad45-77acfbeba078')\"\n",
              "              title=\"Suggest charts.\"\n",
              "              style=\"display:none;\">\n",
              "\n",
              "<svg xmlns=\"http://www.w3.org/2000/svg\" height=\"24px\"viewBox=\"0 0 24 24\"\n",
              "     width=\"24px\">\n",
              "    <g>\n",
              "        <path d=\"M19 3H5c-1.1 0-2 .9-2 2v14c0 1.1.9 2 2 2h14c1.1 0 2-.9 2-2V5c0-1.1-.9-2-2-2zM9 17H7v-7h2v7zm4 0h-2V7h2v10zm4 0h-2v-4h2v4z\"/>\n",
              "    </g>\n",
              "</svg>\n",
              "      </button>\n",
              "    </div>\n",
              "\n",
              "<style>\n",
              "  .colab-df-quickchart {\n",
              "    background-color: #E8F0FE;\n",
              "    border: none;\n",
              "    border-radius: 50%;\n",
              "    cursor: pointer;\n",
              "    display: none;\n",
              "    fill: #1967D2;\n",
              "    height: 32px;\n",
              "    padding: 0 0 0 0;\n",
              "    width: 32px;\n",
              "  }\n",
              "\n",
              "  .colab-df-quickchart:hover {\n",
              "    background-color: #E2EBFA;\n",
              "    box-shadow: 0px 1px 2px rgba(60, 64, 67, 0.3), 0px 1px 3px 1px rgba(60, 64, 67, 0.15);\n",
              "    fill: #174EA6;\n",
              "  }\n",
              "\n",
              "  [theme=dark] .colab-df-quickchart {\n",
              "    background-color: #3B4455;\n",
              "    fill: #D2E3FC;\n",
              "  }\n",
              "\n",
              "  [theme=dark] .colab-df-quickchart:hover {\n",
              "    background-color: #434B5C;\n",
              "    box-shadow: 0px 1px 3px 1px rgba(0, 0, 0, 0.15);\n",
              "    filter: drop-shadow(0px 1px 2px rgba(0, 0, 0, 0.3));\n",
              "    fill: #FFFFFF;\n",
              "  }\n",
              "</style>\n",
              "\n",
              "    <script>\n",
              "      async function quickchart(key) {\n",
              "        const containerElement = document.querySelector('#' + key);\n",
              "        const charts = await google.colab.kernel.invokeFunction(\n",
              "            'suggestCharts', [key], {});\n",
              "      }\n",
              "    </script>\n",
              "\n",
              "      <script>\n",
              "\n",
              "function displayQuickchartButton(domScope) {\n",
              "  let quickchartButtonEl =\n",
              "    domScope.querySelector('#df-20714504-1bae-479b-ad45-77acfbeba078 button.colab-df-quickchart');\n",
              "  quickchartButtonEl.style.display =\n",
              "    google.colab.kernel.accessAllowed ? 'block' : 'none';\n",
              "}\n",
              "\n",
              "        displayQuickchartButton(document);\n",
              "      </script>\n",
              "      <style>\n",
              "    .colab-df-container {\n",
              "      display:flex;\n",
              "      flex-wrap:wrap;\n",
              "      gap: 12px;\n",
              "    }\n",
              "\n",
              "    .colab-df-convert {\n",
              "      background-color: #E8F0FE;\n",
              "      border: none;\n",
              "      border-radius: 50%;\n",
              "      cursor: pointer;\n",
              "      display: none;\n",
              "      fill: #1967D2;\n",
              "      height: 32px;\n",
              "      padding: 0 0 0 0;\n",
              "      width: 32px;\n",
              "    }\n",
              "\n",
              "    .colab-df-convert:hover {\n",
              "      background-color: #E2EBFA;\n",
              "      box-shadow: 0px 1px 2px rgba(60, 64, 67, 0.3), 0px 1px 3px 1px rgba(60, 64, 67, 0.15);\n",
              "      fill: #174EA6;\n",
              "    }\n",
              "\n",
              "    [theme=dark] .colab-df-convert {\n",
              "      background-color: #3B4455;\n",
              "      fill: #D2E3FC;\n",
              "    }\n",
              "\n",
              "    [theme=dark] .colab-df-convert:hover {\n",
              "      background-color: #434B5C;\n",
              "      box-shadow: 0px 1px 3px 1px rgba(0, 0, 0, 0.15);\n",
              "      filter: drop-shadow(0px 1px 2px rgba(0, 0, 0, 0.3));\n",
              "      fill: #FFFFFF;\n",
              "    }\n",
              "  </style>\n",
              "\n",
              "      <script>\n",
              "        const buttonEl =\n",
              "          document.querySelector('#df-0407ae28-d0c6-4d3f-a25f-8add8c3e920b button.colab-df-convert');\n",
              "        buttonEl.style.display =\n",
              "          google.colab.kernel.accessAllowed ? 'block' : 'none';\n",
              "\n",
              "        async function convertToInteractive(key) {\n",
              "          const element = document.querySelector('#df-0407ae28-d0c6-4d3f-a25f-8add8c3e920b');\n",
              "          const dataTable =\n",
              "            await google.colab.kernel.invokeFunction('convertToInteractive',\n",
              "                                                     [key], {});\n",
              "          if (!dataTable) return;\n",
              "\n",
              "          const docLinkHtml = 'Like what you see? Visit the ' +\n",
              "            '<a target=\"_blank\" href=https://colab.research.google.com/notebooks/data_table.ipynb>data table notebook</a>'\n",
              "            + ' to learn more about interactive tables.';\n",
              "          element.innerHTML = '';\n",
              "          dataTable['output_type'] = 'display_data';\n",
              "          await google.colab.output.renderOutput(dataTable, element);\n",
              "          const docLink = document.createElement('div');\n",
              "          docLink.innerHTML = docLinkHtml;\n",
              "          element.appendChild(docLink);\n",
              "        }\n",
              "      </script>\n",
              "    </div>\n",
              "  </div>\n"
            ],
            "text/plain": [
              "                status  duration                               credit_history  \\\n",
              "0  no checking account        18      all credits at this bank paid back duly   \n",
              "1  no checking account         9      all credits at this bank paid back duly   \n",
              "2           ... < 0 DM        12  no credits taken/all credits paid back duly   \n",
              "3  no checking account        12      all credits at this bank paid back duly   \n",
              "4  no checking account        12      all credits at this bank paid back duly   \n",
              "\n",
              "      purpose  amount                     savings employment_duration  \\\n",
              "0  car (used)    1049  unknown/no savings account              < 1 yr   \n",
              "1      others    2799  unknown/no savings account    1 <= ... < 4 yrs   \n",
              "2  retraining     841               ... <  100 DM    4 <= ... < 7 yrs   \n",
              "3      others    2122  unknown/no savings account    1 <= ... < 4 yrs   \n",
              "4      others    2171  unknown/no savings account    1 <= ... < 4 yrs   \n",
              "\n",
              "  installment_rate                   personal_status_sex other_debtors  \\\n",
              "0             < 20  female : non-single or male : single          none   \n",
              "1   25 <= ... < 35                male : married/widowed          none   \n",
              "2   25 <= ... < 35  female : non-single or male : single          none   \n",
              "3   20 <= ... < 25                male : married/widowed          none   \n",
              "4             < 20                male : married/widowed          none   \n",
              "\n",
              "  present_residence               property  age other_installment_plans  \\\n",
              "0          >= 7 yrs           car or other   21                    none   \n",
              "1  1 <= ... < 4 yrs  unknown / no property   36                    none   \n",
              "2          >= 7 yrs  unknown / no property   23                    none   \n",
              "3  1 <= ... < 4 yrs  unknown / no property   39                    none   \n",
              "4          >= 7 yrs           car or other   38                    bank   \n",
              "\n",
              "    housing number_credits                        job people_liable telephone  \\\n",
              "0  for free              1  skilled employee/official        0 to 2        no   \n",
              "1  for free          3-Feb  skilled employee/official     3 or more        no   \n",
              "2  for free              1       unskilled - resident        0 to 2        no   \n",
              "3  for free          3-Feb       unskilled - resident     3 or more        no   \n",
              "4      rent          3-Feb       unskilled - resident        0 to 2        no   \n",
              "\n",
              "  foreign_worker  \n",
              "0             no  \n",
              "1             no  \n",
              "2             no  \n",
              "3            yes  \n",
              "4            yes  "
            ]
          },
          "execution_count": 46,
          "metadata": {},
          "output_type": "execute_result"
        }
      ],
      "source": [
        "X.head()"
      ]
    },
    {
      "cell_type": "code",
      "execution_count": 47,
      "metadata": {
        "colab": {
          "base_uri": "https://localhost:8080/"
        },
        "id": "lgmXlczlewSq",
        "outputId": "a87eb37b-857d-4b3f-8b6b-8b0e0a7b191d"
      },
      "outputs": [
        {
          "data": {
            "text/plain": [
              "0    good\n",
              "1    good\n",
              "2    good\n",
              "3    good\n",
              "4    good\n",
              "Name: credit_risk, dtype: object"
            ]
          },
          "execution_count": 47,
          "metadata": {},
          "output_type": "execute_result"
        }
      ],
      "source": [
        "y.head()"
      ]
    },
    {
      "cell_type": "code",
      "execution_count": 48,
      "metadata": {
        "colab": {
          "base_uri": "https://localhost:8080/"
        },
        "id": "WVA5TuPPeUhg",
        "outputId": "495e0561-8885-4911-ff76-0cadd9ba5303"
      },
      "outputs": [
        {
          "data": {
            "text/plain": [
              "good    693\n",
              "bad     282\n",
              "Name: credit_risk, dtype: int64"
            ]
          },
          "execution_count": 48,
          "metadata": {},
          "output_type": "execute_result"
        }
      ],
      "source": [
        "y.value_counts()"
      ]
    },
    {
      "cell_type": "code",
      "execution_count": 49,
      "metadata": {
        "id": "_vEOkZjIfc2C"
      },
      "outputs": [],
      "source": [
        "## Mannually encoding the Target variable\n",
        "\n",
        "y= y.replace({'good': 1, 'bad': 0})"
      ]
    },
    {
      "cell_type": "code",
      "execution_count": 50,
      "metadata": {
        "colab": {
          "base_uri": "https://localhost:8080/"
        },
        "id": "-OREismHfmtU",
        "outputId": "5a40f812-42fe-4e36-d8d4-1a762c9bc685"
      },
      "outputs": [
        {
          "data": {
            "text/plain": [
              "1    693\n",
              "0    282\n",
              "Name: credit_risk, dtype: int64"
            ]
          },
          "execution_count": 50,
          "metadata": {},
          "output_type": "execute_result"
        }
      ],
      "source": [
        "y.value_counts()"
      ]
    },
    {
      "cell_type": "code",
      "execution_count": 51,
      "metadata": {
        "colab": {
          "base_uri": "https://localhost:8080/"
        },
        "id": "TDgTedTcfofi",
        "outputId": "aa7d058b-e942-4ee1-c251-8faf1783fcac"
      },
      "outputs": [
        {
          "data": {
            "text/plain": [
              "Index(['duration', 'amount', 'age'], dtype='object')"
            ]
          },
          "execution_count": 51,
          "metadata": {},
          "output_type": "execute_result"
        }
      ],
      "source": [
        "## Define numerical and categorical features\n",
        "\n",
        "## Numerical features\n",
        "\n",
        "numeric_features = X.select_dtypes(exclude=\"object\").columns\n",
        "numeric_features"
      ]
    },
    {
      "cell_type": "code",
      "execution_count": 52,
      "metadata": {
        "colab": {
          "base_uri": "https://localhost:8080/"
        },
        "id": "VendDIfXgYgC",
        "outputId": "4478b4da-e630-4449-805d-9ce620e5559a"
      },
      "outputs": [
        {
          "data": {
            "text/plain": [
              "Index(['status', 'credit_history', 'purpose', 'savings', 'employment_duration',\n",
              "       'installment_rate', 'personal_status_sex', 'other_debtors',\n",
              "       'present_residence', 'property', 'other_installment_plans', 'housing',\n",
              "       'number_credits', 'job', 'people_liable', 'telephone',\n",
              "       'foreign_worker'],\n",
              "      dtype='object')"
            ]
          },
          "execution_count": 52,
          "metadata": {},
          "output_type": "execute_result"
        }
      ],
      "source": [
        "## Categorical features\n",
        "\n",
        "categorical_features = X.select_dtypes(include=\"object\").columns\n",
        "categorical_features"
      ]
    },
    {
      "cell_type": "code",
      "execution_count": 53,
      "metadata": {
        "id": "FWD427MLgb3Y"
      },
      "outputs": [],
      "source": [
        "## Encode the categorical features\n",
        "\n",
        "from sklearn.compose import ColumnTransformer\n",
        "\n",
        "transformer = ColumnTransformer(transformers=[\n",
        "    (\"OrdinalEncoder\", OrdinalEncoder(), categorical_features),\n",
        "    (\"RobustScaler\", RobustScaler(), numeric_features)\n",
        "], remainder=\"drop\")"
      ]
    },
    {
      "cell_type": "code",
      "execution_count": 54,
      "metadata": {
        "id": "uTiuiy5zglCP"
      },
      "outputs": [],
      "source": [
        "from sklearn.model_selection import train_test_split\n",
        "\n",
        "X_train, X_test, y_train, y_test = train_test_split(X, y, test_size=0.2, random_state=42)"
      ]
    },
    {
      "cell_type": "code",
      "execution_count": 55,
      "metadata": {
        "id": "eKzj_j9Wgovn"
      },
      "outputs": [],
      "source": [
        "X_train = transformer.fit_transform(X_train)"
      ]
    },
    {
      "cell_type": "code",
      "execution_count": 56,
      "metadata": {
        "id": "ZS9_DhE2gvJR"
      },
      "outputs": [],
      "source": [
        "X_test = transformer.transform(X_test)"
      ]
    },
    {
      "cell_type": "code",
      "execution_count": 57,
      "metadata": {
        "colab": {
          "base_uri": "https://localhost:8080/"
        },
        "id": "TGX1XDzPgwJ3",
        "outputId": "0e69cb06-8eec-4df2-f100-3ee9f833b476"
      },
      "outputs": [
        {
          "data": {
            "text/plain": [
              "((780, 20), (195, 20))"
            ]
          },
          "execution_count": 57,
          "metadata": {},
          "output_type": "execute_result"
        }
      ],
      "source": [
        "X_train.shape, X_test.shape"
      ]
    },
    {
      "cell_type": "code",
      "execution_count": 58,
      "metadata": {
        "colab": {
          "base_uri": "https://localhost:8080/"
        },
        "id": "jWtKJ6SjgwHc",
        "outputId": "6e576a19-6e23-4638-8db0-eeb0a43968ab"
      },
      "outputs": [
        {
          "data": {
            "text/plain": [
              "array([[ 1.        ,  4.        ,  4.        , ...,  1.        ,\n",
              "         0.01955799, -0.21428571],\n",
              "       [ 2.        ,  4.        ,  5.        , ...,  0.5       ,\n",
              "        -0.52258948,  0.35714286],\n",
              "       [ 1.        ,  4.        ,  4.        , ..., -0.5       ,\n",
              "        -0.12517113, -0.14285714],\n",
              "       ...,\n",
              "       [ 1.        ,  3.        ,  8.        , ...,  0.25      ,\n",
              "         0.11617446,  0.57142857],\n",
              "       [ 3.        ,  4.        ,  4.        , ..., -0.5       ,\n",
              "        -0.61881479,  0.5       ],\n",
              "       [ 3.        ,  0.        ,  4.        , ...,  0.        ,\n",
              "        -0.15763739, -0.07142857]])"
            ]
          },
          "execution_count": 58,
          "metadata": {},
          "output_type": "execute_result"
        }
      ],
      "source": [
        "X_test"
      ]
    },
    {
      "cell_type": "code",
      "execution_count": 59,
      "metadata": {
        "colab": {
          "base_uri": "https://localhost:8080/"
        },
        "id": "_beBS6ZogwD1",
        "outputId": "ea07696e-dea6-4c49-dcb0-0840d2807abe"
      },
      "outputs": [
        {
          "data": {
            "text/plain": [
              "array([[ 3.        ,  0.        ,  5.        , ...,  0.        ,\n",
              "         0.65832192,  0.        ],\n",
              "       [ 3.        ,  4.        ,  4.        , ..., -0.5       ,\n",
              "        -0.02699003, -0.64285714],\n",
              "       [ 3.        ,  3.        ,  5.        , ...,  0.5       ,\n",
              "         1.01193037,  1.42857143],\n",
              "       ...,\n",
              "       [ 0.        ,  1.        ,  7.        , ...,  0.5       ,\n",
              "        -0.17445727,  0.07142857],\n",
              "       [ 3.        ,  0.        ,  8.        , ...,  0.75      ,\n",
              "         0.06219441,  0.71428571],\n",
              "       [ 0.        ,  3.        ,  8.        , ...,  0.5       ,\n",
              "         0.95012713,  0.07142857]])"
            ]
          },
          "execution_count": 59,
          "metadata": {},
          "output_type": "execute_result"
        }
      ],
      "source": [
        "X_train"
      ]
    },
    {
      "cell_type": "markdown",
      "metadata": {
        "id": "gQobFwe5hDXT"
      },
      "source": [
        "### Initialize the Default models in a dictionary"
      ]
    },
    {
      "cell_type": "code",
      "execution_count": 60,
      "metadata": {
        "colab": {
          "base_uri": "https://localhost:8080/"
        },
        "id": "TfRAqXpMhnxc",
        "outputId": "22f6d908-6152-455c-90ae-738ddc39c87d"
      },
      "outputs": [
        {
          "name": "stdout",
          "output_type": "stream",
          "text": [
            "Collecting catboost\n",
            "  Downloading catboost-1.2-cp310-cp310-manylinux2014_x86_64.whl (98.6 MB)\n",
            "\u001b[2K     \u001b[90m━━━━━━━━━━━━━━━━━━━━━━━━━━━━━━━━━━━━━━━━\u001b[0m \u001b[32m98.6/98.6 MB\u001b[0m \u001b[31m7.5 MB/s\u001b[0m eta \u001b[36m0:00:00\u001b[0m\n",
            "\u001b[?25hRequirement already satisfied: graphviz in /usr/local/lib/python3.10/dist-packages (from catboost) (0.20.1)\n",
            "Requirement already satisfied: matplotlib in /usr/local/lib/python3.10/dist-packages (from catboost) (3.7.1)\n",
            "Requirement already satisfied: numpy>=1.16.0 in /usr/local/lib/python3.10/dist-packages (from catboost) (1.22.4)\n",
            "Requirement already satisfied: pandas>=0.24 in /usr/local/lib/python3.10/dist-packages (from catboost) (1.5.3)\n",
            "Requirement already satisfied: scipy in /usr/local/lib/python3.10/dist-packages (from catboost) (1.10.1)\n",
            "Requirement already satisfied: plotly in /usr/local/lib/python3.10/dist-packages (from catboost) (5.13.1)\n",
            "Requirement already satisfied: six in /usr/local/lib/python3.10/dist-packages (from catboost) (1.16.0)\n",
            "Requirement already satisfied: python-dateutil>=2.8.1 in /usr/local/lib/python3.10/dist-packages (from pandas>=0.24->catboost) (2.8.2)\n",
            "Requirement already satisfied: pytz>=2020.1 in /usr/local/lib/python3.10/dist-packages (from pandas>=0.24->catboost) (2022.7.1)\n",
            "Requirement already satisfied: contourpy>=1.0.1 in /usr/local/lib/python3.10/dist-packages (from matplotlib->catboost) (1.1.0)\n",
            "Requirement already satisfied: cycler>=0.10 in /usr/local/lib/python3.10/dist-packages (from matplotlib->catboost) (0.11.0)\n",
            "Requirement already satisfied: fonttools>=4.22.0 in /usr/local/lib/python3.10/dist-packages (from matplotlib->catboost) (4.41.1)\n",
            "Requirement already satisfied: kiwisolver>=1.0.1 in /usr/local/lib/python3.10/dist-packages (from matplotlib->catboost) (1.4.4)\n",
            "Requirement already satisfied: packaging>=20.0 in /usr/local/lib/python3.10/dist-packages (from matplotlib->catboost) (23.1)\n",
            "Requirement already satisfied: pillow>=6.2.0 in /usr/local/lib/python3.10/dist-packages (from matplotlib->catboost) (9.4.0)\n",
            "Requirement already satisfied: pyparsing>=2.3.1 in /usr/local/lib/python3.10/dist-packages (from matplotlib->catboost) (3.1.0)\n",
            "Requirement already satisfied: tenacity>=6.2.0 in /usr/local/lib/python3.10/dist-packages (from plotly->catboost) (8.2.2)\n",
            "Installing collected packages: catboost\n",
            "Successfully installed catboost-1.2\n"
          ]
        }
      ],
      "source": [
        "!pip install catboost"
      ]
    },
    {
      "cell_type": "code",
      "execution_count": 61,
      "metadata": {
        "id": "kKKEEPPbhKyt"
      },
      "outputs": [],
      "source": [
        "from sklearn.ensemble import RandomForestClassifier, GradientBoostingClassifier, AdaBoostClassifier\n",
        "from xgboost import XGBClassifier\n",
        "from sklearn.tree import DecisionTreeClassifier\n",
        "from sklearn.linear_model import LogisticRegression\n",
        "from sklearn.neighbors import KNeighborsClassifier\n",
        "from catboost import CatBoostClassifier"
      ]
    },
    {
      "cell_type": "code",
      "execution_count": 62,
      "metadata": {
        "id": "NqavWp46gwAh"
      },
      "outputs": [],
      "source": [
        "# Dictionary which contains models for experiment\n",
        "models = {\n",
        "    \"Random Forest\": RandomForestClassifier(),\n",
        "    \"Decision Tree\": DecisionTreeClassifier(),\n",
        "    \"Gradient Boosting\": GradientBoostingClassifier(),\n",
        "    \"Logistic Regression\": LogisticRegression(),\n",
        "     \"K-Neighbors Classifier\": KNeighborsClassifier(),\n",
        "    \"XGBClassifier\": XGBClassifier(),\n",
        "     \"CatBoosting Classifier\": CatBoostClassifier(verbose=False),\n",
        "    \"AdaBoost Classifier\": AdaBoostClassifier()\n",
        "}"
      ]
    },
    {
      "cell_type": "markdown",
      "metadata": {
        "id": "oTbtcoteiCdL"
      },
      "source": [
        "### Create function for Model Training and Evaluation"
      ]
    },
    {
      "cell_type": "code",
      "execution_count": 63,
      "metadata": {
        "id": "VVLloNxEiJX5"
      },
      "outputs": [],
      "source": [
        "from sklearn.metrics import (accuracy_score,\n",
        "                             f1_score, precision_score, recall_score,\n",
        "                             roc_auc_score)"
      ]
    },
    {
      "cell_type": "code",
      "execution_count": 64,
      "metadata": {
        "id": "urSiASpYiB59"
      },
      "outputs": [],
      "source": [
        "def evaluate_clf(true, predicted):\n",
        "    '''\n",
        "    This function takes in true values and predicted values\n",
        "    Returns: Accuracy, F1-Score, Precision, Recall, Roc-auc Score\n",
        "    '''\n",
        "    acc = accuracy_score(true, predicted) # Calculate Accuracy\n",
        "    f1 = f1_score(true, predicted) # Calculate F1-score\n",
        "    precision = precision_score(true, predicted) # Calculate Precision\n",
        "    recall = recall_score(true, predicted)  # Calculate Recall\n",
        "    roc_auc = roc_auc_score(true, predicted) #Calculate Roc\n",
        "    return acc, f1 , precision, recall, roc_auc"
      ]
    },
    {
      "cell_type": "code",
      "execution_count": 65,
      "metadata": {
        "id": "ypaep2fhgv90"
      },
      "outputs": [],
      "source": [
        "def evaluate_models(X, y, models):\n",
        "    '''\n",
        "    This function takes in X and y and models dictionary as input\n",
        "    It splits the data into Train Test split\n",
        "    Iterates through the given model dictionary and evaluates the metrics\n",
        "    Returns: DataFrame which contains a report of all models metrics with cost\n",
        "    '''\n",
        "    # Separate dataset into train and test\n",
        "    X_train, X_test, y_train, y_test = train_test_split(X, y, test_size=0.2, random_state=42)\n",
        "\n",
        "    models_list = []\n",
        "    accuracy_list = []\n",
        "    f1_score_list = []\n",
        "    precision_list = []\n",
        "    recall_list = []\n",
        "    rocauc_score_list = []\n",
        "\n",
        "    for model_name, model in models.items():\n",
        "        model.fit(X_train, y_train) # Train model\n",
        "\n",
        "        # Make predictions\n",
        "        y_train_pred = model.predict(X_train)\n",
        "        y_test_pred = model.predict(X_test)\n",
        "\n",
        "        # Training set performance\n",
        "        model_train_accuracy, model_train_f1, model_train_precision, \\\n",
        "        model_train_recall, model_train_rocauc_score = evaluate_clf(y_train, y_train_pred)\n",
        "\n",
        "        # Test set performance\n",
        "        model_test_accuracy, model_test_f1, model_test_precision, \\\n",
        "        model_test_recall, model_test_rocauc_score = evaluate_clf(y_test, y_test_pred)\n",
        "\n",
        "        print(model_name)\n",
        "        models_list.append(model_name)\n",
        "\n",
        "        print('Model performance for Training set')\n",
        "        print(\"- Accuracy: {:.4f}\".format(model_train_accuracy))\n",
        "        print('- F1 score: {:.4f}'.format(model_train_f1))\n",
        "        print('- Precision: {:.4f}'.format(model_train_precision))\n",
        "        print('- Recall: {:.4f}'.format(model_train_recall))\n",
        "        print('- ROC AUC Score: {:.4f}'.format(model_train_rocauc_score))\n",
        "\n",
        "        print('----------------------------------')\n",
        "\n",
        "        print('Model performance for Test set')\n",
        "        print('- Accuracy: {:.4f}'.format(model_test_accuracy))\n",
        "        print('- F1 score: {:.4f}'.format(model_test_f1))\n",
        "        print('- Precision: {:.4f}'.format(model_test_precision))\n",
        "        print('- Recall: {:.4f}'.format(model_test_recall))\n",
        "        print('- ROC AUC Score: {:.4f}'.format(model_test_rocauc_score))\n",
        "\n",
        "        print('=' * 35)\n",
        "        print('\\n')\n",
        "\n",
        "        accuracy_list.append(model_test_accuracy)\n",
        "        f1_score_list.append(model_test_f1)\n",
        "        precision_list.append(model_test_precision)\n",
        "        recall_list.append(model_test_recall)\n",
        "        rocauc_score_list.append(model_test_rocauc_score)\n",
        "\n",
        "    report = pd.DataFrame({\n",
        "        'Model Name': models_list,\n",
        "        'Accuracy': accuracy_list,\n",
        "        'F1 Score': f1_score_list,\n",
        "        'Precision': precision_list,\n",
        "        'Recall': recall_list,\n",
        "        'ROC AUC Score': rocauc_score_list\n",
        "    }).sort_values(by='Precision', ascending=False)\n",
        "\n",
        "    return report"
      ]
    },
    {
      "cell_type": "code",
      "execution_count": 66,
      "metadata": {
        "colab": {
          "base_uri": "https://localhost:8080/"
        },
        "id": "zCigUaJxgv68",
        "outputId": "5572c5ec-9383-4503-b7f7-bc3bbdac70dc"
      },
      "outputs": [
        {
          "name": "stdout",
          "output_type": "stream",
          "text": [
            "Random Forest\n",
            "Model performance for Training set\n",
            "- Accuracy: 1.0000\n",
            "- F1 score: 1.0000\n",
            "- Precision: 1.0000\n",
            "- Recall: 1.0000\n",
            "- ROC AUC Score: 1.0000\n",
            "----------------------------------\n",
            "Model performance for Test set\n",
            "- Accuracy: 0.7628\n",
            "- F1 score: 0.8549\n",
            "- Precision: 0.7842\n",
            "- Recall: 0.9397\n",
            "- ROC AUC Score: 0.5948\n",
            "===================================\n",
            "\n",
            "\n",
            "Decision Tree\n",
            "Model performance for Training set\n",
            "- Accuracy: 1.0000\n",
            "- F1 score: 1.0000\n",
            "- Precision: 1.0000\n",
            "- Recall: 1.0000\n",
            "- ROC AUC Score: 1.0000\n",
            "----------------------------------\n",
            "Model performance for Test set\n",
            "- Accuracy: 0.6603\n",
            "- F1 score: 0.7623\n",
            "- Precision: 0.7944\n",
            "- Recall: 0.7328\n",
            "- ROC AUC Score: 0.5914\n",
            "===================================\n",
            "\n",
            "\n",
            "Gradient Boosting\n",
            "Model performance for Training set\n",
            "- Accuracy: 0.9311\n",
            "- F1 score: 0.9527\n",
            "- Precision: 0.9213\n",
            "- Recall: 0.9863\n",
            "- ROC AUC Score: 0.8932\n",
            "----------------------------------\n",
            "Model performance for Test set\n",
            "- Accuracy: 0.7692\n",
            "- F1 score: 0.8512\n",
            "- Precision: 0.8175\n",
            "- Recall: 0.8879\n",
            "- ROC AUC Score: 0.6565\n",
            "===================================\n",
            "\n",
            "\n",
            "Logistic Regression\n",
            "Model performance for Training set\n",
            "- Accuracy: 0.7388\n",
            "- F1 score: 0.8314\n",
            "- Precision: 0.7614\n",
            "- Recall: 0.9157\n",
            "- ROC AUC Score: 0.6173\n",
            "----------------------------------\n",
            "Model performance for Test set\n",
            "- Accuracy: 0.7564\n",
            "- F1 score: 0.8468\n",
            "- Precision: 0.7955\n",
            "- Recall: 0.9052\n",
            "- ROC AUC Score: 0.6151\n",
            "===================================\n",
            "\n",
            "\n",
            "K-Neighbors Classifier\n",
            "Model performance for Training set\n",
            "- Accuracy: 0.7804\n",
            "- F1 score: 0.8574\n",
            "- Precision: 0.7893\n",
            "- Recall: 0.9385\n",
            "- ROC AUC Score: 0.6720\n",
            "----------------------------------\n",
            "Model performance for Test set\n",
            "- Accuracy: 0.7308\n",
            "- F1 score: 0.8320\n",
            "- Precision: 0.7761\n",
            "- Recall: 0.8966\n",
            "- ROC AUC Score: 0.5733\n",
            "===================================\n",
            "\n",
            "\n",
            "XGBClassifier\n",
            "Model performance for Training set\n",
            "- Accuracy: 1.0000\n",
            "- F1 score: 1.0000\n",
            "- Precision: 1.0000\n",
            "- Recall: 1.0000\n",
            "- ROC AUC Score: 1.0000\n",
            "----------------------------------\n",
            "Model performance for Test set\n",
            "- Accuracy: 0.7949\n",
            "- F1 score: 0.8655\n",
            "- Precision: 0.8443\n",
            "- Recall: 0.8879\n",
            "- ROC AUC Score: 0.7065\n",
            "===================================\n",
            "\n",
            "\n",
            "CatBoosting Classifier\n",
            "Model performance for Training set\n",
            "- Accuracy: 0.9824\n",
            "- F1 score: 0.9876\n",
            "- Precision: 0.9756\n",
            "- Recall: 1.0000\n",
            "- ROC AUC Score: 0.9703\n",
            "----------------------------------\n",
            "Model performance for Test set\n",
            "- Accuracy: 0.7692\n",
            "- F1 score: 0.8537\n",
            "- Precision: 0.8077\n",
            "- Recall: 0.9052\n",
            "- ROC AUC Score: 0.6401\n",
            "===================================\n",
            "\n",
            "\n",
            "AdaBoost Classifier\n",
            "Model performance for Training set\n",
            "- Accuracy: 0.8237\n",
            "- F1 score: 0.8799\n",
            "- Precision: 0.8449\n",
            "- Recall: 0.9180\n",
            "- ROC AUC Score: 0.7590\n",
            "----------------------------------\n",
            "Model performance for Test set\n",
            "- Accuracy: 0.7949\n",
            "- F1 score: 0.8678\n",
            "- Precision: 0.8333\n",
            "- Recall: 0.9052\n",
            "- ROC AUC Score: 0.6901\n",
            "===================================\n",
            "\n",
            "\n"
          ]
        }
      ],
      "source": [
        "report = evaluate_models(X_train, y_train, models)"
      ]
    },
    {
      "cell_type": "code",
      "execution_count": 67,
      "metadata": {
        "colab": {
          "base_uri": "https://localhost:8080/",
          "height": 300
        },
        "id": "q-nY07VAirkE",
        "outputId": "e9ad761e-66f0-41af-b65a-d822c8f7bb4f"
      },
      "outputs": [
        {
          "data": {
            "text/html": [
              "\n",
              "\n",
              "  <div id=\"df-e791baf0-8f22-4836-b721-ce685b82fef5\">\n",
              "    <div class=\"colab-df-container\">\n",
              "      <div>\n",
              "<style scoped>\n",
              "    .dataframe tbody tr th:only-of-type {\n",
              "        vertical-align: middle;\n",
              "    }\n",
              "\n",
              "    .dataframe tbody tr th {\n",
              "        vertical-align: top;\n",
              "    }\n",
              "\n",
              "    .dataframe thead th {\n",
              "        text-align: right;\n",
              "    }\n",
              "</style>\n",
              "<table border=\"1\" class=\"dataframe\">\n",
              "  <thead>\n",
              "    <tr style=\"text-align: right;\">\n",
              "      <th></th>\n",
              "      <th>Model Name</th>\n",
              "      <th>Accuracy</th>\n",
              "      <th>F1 Score</th>\n",
              "      <th>Precision</th>\n",
              "      <th>Recall</th>\n",
              "      <th>ROC AUC Score</th>\n",
              "    </tr>\n",
              "  </thead>\n",
              "  <tbody>\n",
              "    <tr>\n",
              "      <th>5</th>\n",
              "      <td>XGBClassifier</td>\n",
              "      <td>0.794872</td>\n",
              "      <td>0.865546</td>\n",
              "      <td>0.844262</td>\n",
              "      <td>0.887931</td>\n",
              "      <td>0.706466</td>\n",
              "    </tr>\n",
              "    <tr>\n",
              "      <th>7</th>\n",
              "      <td>AdaBoost Classifier</td>\n",
              "      <td>0.794872</td>\n",
              "      <td>0.867769</td>\n",
              "      <td>0.833333</td>\n",
              "      <td>0.905172</td>\n",
              "      <td>0.690086</td>\n",
              "    </tr>\n",
              "    <tr>\n",
              "      <th>2</th>\n",
              "      <td>Gradient Boosting</td>\n",
              "      <td>0.769231</td>\n",
              "      <td>0.851240</td>\n",
              "      <td>0.817460</td>\n",
              "      <td>0.887931</td>\n",
              "      <td>0.656466</td>\n",
              "    </tr>\n",
              "    <tr>\n",
              "      <th>6</th>\n",
              "      <td>CatBoosting Classifier</td>\n",
              "      <td>0.769231</td>\n",
              "      <td>0.853659</td>\n",
              "      <td>0.807692</td>\n",
              "      <td>0.905172</td>\n",
              "      <td>0.640086</td>\n",
              "    </tr>\n",
              "    <tr>\n",
              "      <th>3</th>\n",
              "      <td>Logistic Regression</td>\n",
              "      <td>0.756410</td>\n",
              "      <td>0.846774</td>\n",
              "      <td>0.795455</td>\n",
              "      <td>0.905172</td>\n",
              "      <td>0.615086</td>\n",
              "    </tr>\n",
              "    <tr>\n",
              "      <th>1</th>\n",
              "      <td>Decision Tree</td>\n",
              "      <td>0.660256</td>\n",
              "      <td>0.762332</td>\n",
              "      <td>0.794393</td>\n",
              "      <td>0.732759</td>\n",
              "      <td>0.591379</td>\n",
              "    </tr>\n",
              "    <tr>\n",
              "      <th>0</th>\n",
              "      <td>Random Forest</td>\n",
              "      <td>0.762821</td>\n",
              "      <td>0.854902</td>\n",
              "      <td>0.784173</td>\n",
              "      <td>0.939655</td>\n",
              "      <td>0.594828</td>\n",
              "    </tr>\n",
              "    <tr>\n",
              "      <th>4</th>\n",
              "      <td>K-Neighbors Classifier</td>\n",
              "      <td>0.730769</td>\n",
              "      <td>0.832000</td>\n",
              "      <td>0.776119</td>\n",
              "      <td>0.896552</td>\n",
              "      <td>0.573276</td>\n",
              "    </tr>\n",
              "  </tbody>\n",
              "</table>\n",
              "</div>\n",
              "      <button class=\"colab-df-convert\" onclick=\"convertToInteractive('df-e791baf0-8f22-4836-b721-ce685b82fef5')\"\n",
              "              title=\"Convert this dataframe to an interactive table.\"\n",
              "              style=\"display:none;\">\n",
              "\n",
              "  <svg xmlns=\"http://www.w3.org/2000/svg\" height=\"24px\"viewBox=\"0 0 24 24\"\n",
              "       width=\"24px\">\n",
              "    <path d=\"M0 0h24v24H0V0z\" fill=\"none\"/>\n",
              "    <path d=\"M18.56 5.44l.94 2.06.94-2.06 2.06-.94-2.06-.94-.94-2.06-.94 2.06-2.06.94zm-11 1L8.5 8.5l.94-2.06 2.06-.94-2.06-.94L8.5 2.5l-.94 2.06-2.06.94zm10 10l.94 2.06.94-2.06 2.06-.94-2.06-.94-.94-2.06-.94 2.06-2.06.94z\"/><path d=\"M17.41 7.96l-1.37-1.37c-.4-.4-.92-.59-1.43-.59-.52 0-1.04.2-1.43.59L10.3 9.45l-7.72 7.72c-.78.78-.78 2.05 0 2.83L4 21.41c.39.39.9.59 1.41.59.51 0 1.02-.2 1.41-.59l7.78-7.78 2.81-2.81c.8-.78.8-2.07 0-2.86zM5.41 20L4 18.59l7.72-7.72 1.47 1.35L5.41 20z\"/>\n",
              "  </svg>\n",
              "      </button>\n",
              "\n",
              "\n",
              "\n",
              "    <div id=\"df-c9c391ac-e603-46cb-a826-64d837cbd89e\">\n",
              "      <button class=\"colab-df-quickchart\" onclick=\"quickchart('df-c9c391ac-e603-46cb-a826-64d837cbd89e')\"\n",
              "              title=\"Suggest charts.\"\n",
              "              style=\"display:none;\">\n",
              "\n",
              "<svg xmlns=\"http://www.w3.org/2000/svg\" height=\"24px\"viewBox=\"0 0 24 24\"\n",
              "     width=\"24px\">\n",
              "    <g>\n",
              "        <path d=\"M19 3H5c-1.1 0-2 .9-2 2v14c0 1.1.9 2 2 2h14c1.1 0 2-.9 2-2V5c0-1.1-.9-2-2-2zM9 17H7v-7h2v7zm4 0h-2V7h2v10zm4 0h-2v-4h2v4z\"/>\n",
              "    </g>\n",
              "</svg>\n",
              "      </button>\n",
              "    </div>\n",
              "\n",
              "<style>\n",
              "  .colab-df-quickchart {\n",
              "    background-color: #E8F0FE;\n",
              "    border: none;\n",
              "    border-radius: 50%;\n",
              "    cursor: pointer;\n",
              "    display: none;\n",
              "    fill: #1967D2;\n",
              "    height: 32px;\n",
              "    padding: 0 0 0 0;\n",
              "    width: 32px;\n",
              "  }\n",
              "\n",
              "  .colab-df-quickchart:hover {\n",
              "    background-color: #E2EBFA;\n",
              "    box-shadow: 0px 1px 2px rgba(60, 64, 67, 0.3), 0px 1px 3px 1px rgba(60, 64, 67, 0.15);\n",
              "    fill: #174EA6;\n",
              "  }\n",
              "\n",
              "  [theme=dark] .colab-df-quickchart {\n",
              "    background-color: #3B4455;\n",
              "    fill: #D2E3FC;\n",
              "  }\n",
              "\n",
              "  [theme=dark] .colab-df-quickchart:hover {\n",
              "    background-color: #434B5C;\n",
              "    box-shadow: 0px 1px 3px 1px rgba(0, 0, 0, 0.15);\n",
              "    filter: drop-shadow(0px 1px 2px rgba(0, 0, 0, 0.3));\n",
              "    fill: #FFFFFF;\n",
              "  }\n",
              "</style>\n",
              "\n",
              "    <script>\n",
              "      async function quickchart(key) {\n",
              "        const containerElement = document.querySelector('#' + key);\n",
              "        const charts = await google.colab.kernel.invokeFunction(\n",
              "            'suggestCharts', [key], {});\n",
              "      }\n",
              "    </script>\n",
              "\n",
              "      <script>\n",
              "\n",
              "function displayQuickchartButton(domScope) {\n",
              "  let quickchartButtonEl =\n",
              "    domScope.querySelector('#df-c9c391ac-e603-46cb-a826-64d837cbd89e button.colab-df-quickchart');\n",
              "  quickchartButtonEl.style.display =\n",
              "    google.colab.kernel.accessAllowed ? 'block' : 'none';\n",
              "}\n",
              "\n",
              "        displayQuickchartButton(document);\n",
              "      </script>\n",
              "      <style>\n",
              "    .colab-df-container {\n",
              "      display:flex;\n",
              "      flex-wrap:wrap;\n",
              "      gap: 12px;\n",
              "    }\n",
              "\n",
              "    .colab-df-convert {\n",
              "      background-color: #E8F0FE;\n",
              "      border: none;\n",
              "      border-radius: 50%;\n",
              "      cursor: pointer;\n",
              "      display: none;\n",
              "      fill: #1967D2;\n",
              "      height: 32px;\n",
              "      padding: 0 0 0 0;\n",
              "      width: 32px;\n",
              "    }\n",
              "\n",
              "    .colab-df-convert:hover {\n",
              "      background-color: #E2EBFA;\n",
              "      box-shadow: 0px 1px 2px rgba(60, 64, 67, 0.3), 0px 1px 3px 1px rgba(60, 64, 67, 0.15);\n",
              "      fill: #174EA6;\n",
              "    }\n",
              "\n",
              "    [theme=dark] .colab-df-convert {\n",
              "      background-color: #3B4455;\n",
              "      fill: #D2E3FC;\n",
              "    }\n",
              "\n",
              "    [theme=dark] .colab-df-convert:hover {\n",
              "      background-color: #434B5C;\n",
              "      box-shadow: 0px 1px 3px 1px rgba(0, 0, 0, 0.15);\n",
              "      filter: drop-shadow(0px 1px 2px rgba(0, 0, 0, 0.3));\n",
              "      fill: #FFFFFF;\n",
              "    }\n",
              "  </style>\n",
              "\n",
              "      <script>\n",
              "        const buttonEl =\n",
              "          document.querySelector('#df-e791baf0-8f22-4836-b721-ce685b82fef5 button.colab-df-convert');\n",
              "        buttonEl.style.display =\n",
              "          google.colab.kernel.accessAllowed ? 'block' : 'none';\n",
              "\n",
              "        async function convertToInteractive(key) {\n",
              "          const element = document.querySelector('#df-e791baf0-8f22-4836-b721-ce685b82fef5');\n",
              "          const dataTable =\n",
              "            await google.colab.kernel.invokeFunction('convertToInteractive',\n",
              "                                                     [key], {});\n",
              "          if (!dataTable) return;\n",
              "\n",
              "          const docLinkHtml = 'Like what you see? Visit the ' +\n",
              "            '<a target=\"_blank\" href=https://colab.research.google.com/notebooks/data_table.ipynb>data table notebook</a>'\n",
              "            + ' to learn more about interactive tables.';\n",
              "          element.innerHTML = '';\n",
              "          dataTable['output_type'] = 'display_data';\n",
              "          await google.colab.output.renderOutput(dataTable, element);\n",
              "          const docLink = document.createElement('div');\n",
              "          docLink.innerHTML = docLinkHtml;\n",
              "          element.appendChild(docLink);\n",
              "        }\n",
              "      </script>\n",
              "    </div>\n",
              "  </div>\n"
            ],
            "text/plain": [
              "               Model Name  Accuracy  F1 Score  Precision    Recall  \\\n",
              "5           XGBClassifier  0.794872  0.865546   0.844262  0.887931   \n",
              "7     AdaBoost Classifier  0.794872  0.867769   0.833333  0.905172   \n",
              "2       Gradient Boosting  0.769231  0.851240   0.817460  0.887931   \n",
              "6  CatBoosting Classifier  0.769231  0.853659   0.807692  0.905172   \n",
              "3     Logistic Regression  0.756410  0.846774   0.795455  0.905172   \n",
              "1           Decision Tree  0.660256  0.762332   0.794393  0.732759   \n",
              "0           Random Forest  0.762821  0.854902   0.784173  0.939655   \n",
              "4  K-Neighbors Classifier  0.730769  0.832000   0.776119  0.896552   \n",
              "\n",
              "   ROC AUC Score  \n",
              "5       0.706466  \n",
              "7       0.690086  \n",
              "2       0.656466  \n",
              "6       0.640086  \n",
              "3       0.615086  \n",
              "1       0.591379  \n",
              "0       0.594828  \n",
              "4       0.573276  "
            ]
          },
          "execution_count": 67,
          "metadata": {},
          "output_type": "execute_result"
        }
      ],
      "source": [
        "report"
      ]
    },
    {
      "cell_type": "markdown",
      "metadata": {
        "id": "GMDJqtajkxdw"
      },
      "source": [
        "### Hyper parameter tuning using Optuna"
      ]
    },
    {
      "cell_type": "code",
      "execution_count": 68,
      "metadata": {
        "colab": {
          "base_uri": "https://localhost:8080/"
        },
        "id": "qhV9hZ7skOb_",
        "outputId": "b236542f-6d27-4622-edc9-d3504c19abbd"
      },
      "outputs": [
        {
          "name": "stdout",
          "output_type": "stream",
          "text": [
            "Collecting optuna\n",
            "  Downloading optuna-3.2.0-py3-none-any.whl (390 kB)\n",
            "\u001b[2K     \u001b[90m━━━━━━━━━━━━━━━━━━━━━━━━━━━━━━━━━━━━━━━\u001b[0m \u001b[32m390.6/390.6 kB\u001b[0m \u001b[31m4.3 MB/s\u001b[0m eta \u001b[36m0:00:00\u001b[0m\n",
            "\u001b[?25hCollecting alembic>=1.5.0 (from optuna)\n",
            "  Downloading alembic-1.11.1-py3-none-any.whl (224 kB)\n",
            "\u001b[2K     \u001b[90m━━━━━━━━━━━━━━━━━━━━━━━━━━━━━━━━━━━━━━━\u001b[0m \u001b[32m224.5/224.5 kB\u001b[0m \u001b[31m7.4 MB/s\u001b[0m eta \u001b[36m0:00:00\u001b[0m\n",
            "\u001b[?25hCollecting cmaes>=0.9.1 (from optuna)\n",
            "  Downloading cmaes-0.10.0-py3-none-any.whl (29 kB)\n",
            "Collecting colorlog (from optuna)\n",
            "  Downloading colorlog-6.7.0-py2.py3-none-any.whl (11 kB)\n",
            "Requirement already satisfied: numpy in /usr/local/lib/python3.10/dist-packages (from optuna) (1.22.4)\n",
            "Requirement already satisfied: packaging>=20.0 in /usr/local/lib/python3.10/dist-packages (from optuna) (23.1)\n",
            "Requirement already satisfied: sqlalchemy>=1.3.0 in /usr/local/lib/python3.10/dist-packages (from optuna) (2.0.19)\n",
            "Requirement already satisfied: tqdm in /usr/local/lib/python3.10/dist-packages (from optuna) (4.65.0)\n",
            "Requirement already satisfied: PyYAML in /usr/local/lib/python3.10/dist-packages (from optuna) (6.0.1)\n",
            "Collecting Mako (from alembic>=1.5.0->optuna)\n",
            "  Downloading Mako-1.2.4-py3-none-any.whl (78 kB)\n",
            "\u001b[2K     \u001b[90m━━━━━━━━━━━━━━━━━━━━━━━━━━━━━━━━━━━━━━━━\u001b[0m \u001b[32m78.7/78.7 kB\u001b[0m \u001b[31m9.9 MB/s\u001b[0m eta \u001b[36m0:00:00\u001b[0m\n",
            "\u001b[?25hRequirement already satisfied: typing-extensions>=4 in /usr/local/lib/python3.10/dist-packages (from alembic>=1.5.0->optuna) (4.7.1)\n",
            "Requirement already satisfied: greenlet!=0.4.17 in /usr/local/lib/python3.10/dist-packages (from sqlalchemy>=1.3.0->optuna) (2.0.2)\n",
            "Requirement already satisfied: MarkupSafe>=0.9.2 in /usr/local/lib/python3.10/dist-packages (from Mako->alembic>=1.5.0->optuna) (2.1.3)\n",
            "Installing collected packages: Mako, colorlog, cmaes, alembic, optuna\n",
            "Successfully installed Mako-1.2.4 alembic-1.11.1 cmaes-0.10.0 colorlog-6.7.0 optuna-3.2.0\n"
          ]
        }
      ],
      "source": [
        "from sklearn.model_selection import KFold\n",
        "\n",
        "!pip install optuna"
      ]
    },
    {
      "cell_type": "code",
      "execution_count": 69,
      "metadata": {
        "id": "zPVT56cFk3WL"
      },
      "outputs": [],
      "source": [
        "import optuna\n",
        "from xgboost import XGBClassifier\n",
        "from sklearn.model_selection import cross_val_score, KFold\n",
        "\n",
        "def xgb_objective(trial):\n",
        "    # Use the trial object to suggest values for the XGBClassifier hyperparameters\n",
        "    n_estimators = trial.suggest_int(\"n_estimators\", 100, 500, step=100)\n",
        "    max_depth = trial.suggest_int(\"max_depth\", 3, 10)\n",
        "    learning_rate = trial.suggest_loguniform(\"learning_rate\", 0.01, 0.1)\n",
        "    min_child_weight = trial.suggest_int(\"min_child_weight\", 1, 10)\n",
        "    subsample = trial.suggest_float(\"subsample\", 0.5, 1.0)\n",
        "    colsample_bytree = trial.suggest_float(\"colsample_bytree\", 0.5, 1.0)\n",
        "\n",
        "    # Define the model with the suggested hyperparameters\n",
        "    xgb = XGBClassifier(\n",
        "        n_estimators=n_estimators,\n",
        "        max_depth=max_depth,\n",
        "        learning_rate=learning_rate,\n",
        "        min_child_weight=min_child_weight,\n",
        "        subsample=subsample,\n",
        "        colsample_bytree=colsample_bytree,\n",
        "        random_state=42,\n",
        "    )\n",
        "\n",
        "    # Calculate the score with 10-fold cross-validation, which returns a list of scores\n",
        "    # Scoring is set to \"accuracy\" for classification tasks\n",
        "    scores = cross_val_score(\n",
        "        xgb,\n",
        "        X_train,\n",
        "        y_train,\n",
        "        cv=KFold(n_splits=10, shuffle=True, random_state=42),\n",
        "        scoring=\"f1\",\n",
        "        error_score=\"raise\"\n",
        "    )\n",
        "\n",
        "    # Return the mean of 10 scores\n",
        "    return scores.mean()"
      ]
    },
    {
      "cell_type": "code",
      "execution_count": 70,
      "metadata": {
        "colab": {
          "base_uri": "https://localhost:8080/"
        },
        "id": "y4weiScEmDQ3",
        "outputId": "59ddb11c-b9d5-4867-bb80-7d8807f592bd"
      },
      "outputs": [
        {
          "name": "stderr",
          "output_type": "stream",
          "text": [
            "[I 2023-07-31 06:46:51,165] A new study created in memory with name: no-name-c7b550d6-1e01-4e1f-9355-75e029e6efc2\n",
            "[I 2023-07-31 06:46:56,247] Trial 0 finished with value: 0.8362122618906913 and parameters: {'n_estimators': 300, 'max_depth': 9, 'learning_rate': 0.05567068297129244, 'min_child_weight': 8, 'subsample': 0.7403212556982007, 'colsample_bytree': 0.9178851773020069}. Best is trial 0 with value: 0.8362122618906913.\n",
            "[I 2023-07-31 06:46:56,988] Trial 1 finished with value: 0.8486977901791404 and parameters: {'n_estimators': 100, 'max_depth': 3, 'learning_rate': 0.04196735551054391, 'min_child_weight': 9, 'subsample': 0.8713989062417402, 'colsample_bytree': 0.798134896464043}. Best is trial 1 with value: 0.8486977901791404.\n",
            "[I 2023-07-31 06:47:00,786] Trial 2 finished with value: 0.8490533655902965 and parameters: {'n_estimators': 100, 'max_depth': 4, 'learning_rate': 0.067904047100982, 'min_child_weight': 3, 'subsample': 0.8527582498462358, 'colsample_bytree': 0.9586346276270101}. Best is trial 2 with value: 0.8490533655902965.\n",
            "[I 2023-07-31 06:47:28,161] Trial 3 finished with value: 0.8456626401412637 and parameters: {'n_estimators': 200, 'max_depth': 3, 'learning_rate': 0.027747534488889877, 'min_child_weight': 6, 'subsample': 0.8566661067771593, 'colsample_bytree': 0.7856291448880623}. Best is trial 2 with value: 0.8490533655902965.\n",
            "[I 2023-07-31 06:47:36,375] Trial 4 finished with value: 0.8492715418977959 and parameters: {'n_estimators': 500, 'max_depth': 7, 'learning_rate': 0.010239866666058962, 'min_child_weight': 10, 'subsample': 0.9985272806794836, 'colsample_bytree': 0.5790312620718818}. Best is trial 4 with value: 0.8492715418977959.\n",
            "[I 2023-07-31 06:47:39,729] Trial 5 finished with value: 0.8555545816191404 and parameters: {'n_estimators': 300, 'max_depth': 8, 'learning_rate': 0.013784587420998924, 'min_child_weight': 9, 'subsample': 0.9908151977086621, 'colsample_bytree': 0.9233107834860663}. Best is trial 5 with value: 0.8555545816191404.\n",
            "[I 2023-07-31 06:47:40,910] Trial 6 finished with value: 0.8410285975179328 and parameters: {'n_estimators': 100, 'max_depth': 10, 'learning_rate': 0.0613532541556705, 'min_child_weight': 5, 'subsample': 0.59718942066272, 'colsample_bytree': 0.8912224335353885}. Best is trial 5 with value: 0.8555545816191404.\n",
            "[I 2023-07-31 06:47:48,301] Trial 7 finished with value: 0.8466751110772103 and parameters: {'n_estimators': 500, 'max_depth': 7, 'learning_rate': 0.02248988105040891, 'min_child_weight': 6, 'subsample': 0.9883382700463177, 'colsample_bytree': 0.7965853685566653}. Best is trial 5 with value: 0.8555545816191404.\n",
            "[I 2023-07-31 06:47:50,056] Trial 8 finished with value: 0.8302929578391346 and parameters: {'n_estimators': 300, 'max_depth': 3, 'learning_rate': 0.057478598795542304, 'min_child_weight': 10, 'subsample': 0.6036070962534765, 'colsample_bytree': 0.6969154435264724}. Best is trial 5 with value: 0.8555545816191404.\n",
            "[I 2023-07-31 06:47:53,363] Trial 9 finished with value: 0.8429139549176174 and parameters: {'n_estimators': 400, 'max_depth': 5, 'learning_rate': 0.030135676013187715, 'min_child_weight': 1, 'subsample': 0.7702022328170266, 'colsample_bytree': 0.5367850244780858}. Best is trial 5 with value: 0.8555545816191404.\n"
          ]
        },
        {
          "name": "stdout",
          "output_type": "stream",
          "text": [
            "Best score: 0.8555545816191404\n",
            "\n",
            "Optimized parameters: {'n_estimators': 300, 'max_depth': 8, 'learning_rate': 0.013784587420998924, 'min_child_weight': 9, 'subsample': 0.9908151977086621, 'colsample_bytree': 0.9233107834860663}\n",
            "\n"
          ]
        }
      ],
      "source": [
        "# Create Study object\n",
        "study = optuna.create_study(direction=\"maximize\")\n",
        "\n",
        "# Optimize the study, use more trials to obtain a better result, use fewer trials to be more cost-efficient\n",
        "study.optimize(xgb_objective, n_trials=10)  # Use more trials for better results\n",
        "\n",
        "# Print the result\n",
        "best_params = study.best_params\n",
        "best_score = study.best_value\n",
        "print(f\"Best score: {best_score}\\n\")\n",
        "print(f\"Optimized parameters: {best_params}\\n\")"
      ]
    },
    {
      "cell_type": "code",
      "execution_count": 71,
      "metadata": {
        "colab": {
          "base_uri": "https://localhost:8080/",
          "height": 247
        },
        "id": "NXtXfGb3mDN3",
        "outputId": "119ba55f-522d-46aa-bc01-0024ad3d1178"
      },
      "outputs": [
        {
          "data": {
            "text/html": [
              "<style>#sk-container-id-1 {color: black;background-color: white;}#sk-container-id-1 pre{padding: 0;}#sk-container-id-1 div.sk-toggleable {background-color: white;}#sk-container-id-1 label.sk-toggleable__label {cursor: pointer;display: block;width: 100%;margin-bottom: 0;padding: 0.3em;box-sizing: border-box;text-align: center;}#sk-container-id-1 label.sk-toggleable__label-arrow:before {content: \"▸\";float: left;margin-right: 0.25em;color: #696969;}#sk-container-id-1 label.sk-toggleable__label-arrow:hover:before {color: black;}#sk-container-id-1 div.sk-estimator:hover label.sk-toggleable__label-arrow:before {color: black;}#sk-container-id-1 div.sk-toggleable__content {max-height: 0;max-width: 0;overflow: hidden;text-align: left;background-color: #f0f8ff;}#sk-container-id-1 div.sk-toggleable__content pre {margin: 0.2em;color: black;border-radius: 0.25em;background-color: #f0f8ff;}#sk-container-id-1 input.sk-toggleable__control:checked~div.sk-toggleable__content {max-height: 200px;max-width: 100%;overflow: auto;}#sk-container-id-1 input.sk-toggleable__control:checked~label.sk-toggleable__label-arrow:before {content: \"▾\";}#sk-container-id-1 div.sk-estimator input.sk-toggleable__control:checked~label.sk-toggleable__label {background-color: #d4ebff;}#sk-container-id-1 div.sk-label input.sk-toggleable__control:checked~label.sk-toggleable__label {background-color: #d4ebff;}#sk-container-id-1 input.sk-hidden--visually {border: 0;clip: rect(1px 1px 1px 1px);clip: rect(1px, 1px, 1px, 1px);height: 1px;margin: -1px;overflow: hidden;padding: 0;position: absolute;width: 1px;}#sk-container-id-1 div.sk-estimator {font-family: monospace;background-color: #f0f8ff;border: 1px dotted black;border-radius: 0.25em;box-sizing: border-box;margin-bottom: 0.5em;}#sk-container-id-1 div.sk-estimator:hover {background-color: #d4ebff;}#sk-container-id-1 div.sk-parallel-item::after {content: \"\";width: 100%;border-bottom: 1px solid gray;flex-grow: 1;}#sk-container-id-1 div.sk-label:hover label.sk-toggleable__label {background-color: #d4ebff;}#sk-container-id-1 div.sk-serial::before {content: \"\";position: absolute;border-left: 1px solid gray;box-sizing: border-box;top: 0;bottom: 0;left: 50%;z-index: 0;}#sk-container-id-1 div.sk-serial {display: flex;flex-direction: column;align-items: center;background-color: white;padding-right: 0.2em;padding-left: 0.2em;position: relative;}#sk-container-id-1 div.sk-item {position: relative;z-index: 1;}#sk-container-id-1 div.sk-parallel {display: flex;align-items: stretch;justify-content: center;background-color: white;position: relative;}#sk-container-id-1 div.sk-item::before, #sk-container-id-1 div.sk-parallel-item::before {content: \"\";position: absolute;border-left: 1px solid gray;box-sizing: border-box;top: 0;bottom: 0;left: 50%;z-index: -1;}#sk-container-id-1 div.sk-parallel-item {display: flex;flex-direction: column;z-index: 1;position: relative;background-color: white;}#sk-container-id-1 div.sk-parallel-item:first-child::after {align-self: flex-end;width: 50%;}#sk-container-id-1 div.sk-parallel-item:last-child::after {align-self: flex-start;width: 50%;}#sk-container-id-1 div.sk-parallel-item:only-child::after {width: 0;}#sk-container-id-1 div.sk-dashed-wrapped {border: 1px dashed gray;margin: 0 0.4em 0.5em 0.4em;box-sizing: border-box;padding-bottom: 0.4em;background-color: white;}#sk-container-id-1 div.sk-label label {font-family: monospace;font-weight: bold;display: inline-block;line-height: 1.2em;}#sk-container-id-1 div.sk-label-container {text-align: center;}#sk-container-id-1 div.sk-container {/* jupyter's `normalize.less` sets `[hidden] { display: none; }` but bootstrap.min.css set `[hidden] { display: none !important; }` so we also need the `!important` here to be able to override the default hidden behavior on the sphinx rendered scikit-learn.org. See: https://github.com/scikit-learn/scikit-learn/issues/21755 */display: inline-block !important;position: relative;}#sk-container-id-1 div.sk-text-repr-fallback {display: none;}</style><div id=\"sk-container-id-1\" class=\"sk-top-container\"><div class=\"sk-text-repr-fallback\"><pre>XGBClassifier(base_score=None, booster=None, callbacks=None,\n",
              "              colsample_bylevel=None, colsample_bynode=None,\n",
              "              colsample_bytree=0.7528377586428419, early_stopping_rounds=None,\n",
              "              enable_categorical=False, eval_metric=None, feature_types=None,\n",
              "              gamma=None, gpu_id=None, grow_policy=None, importance_type=None,\n",
              "              interaction_constraints=None, learning_rate=0.01781869742819414,\n",
              "              max_bin=None, max_cat_threshold=None, max_cat_to_onehot=None,\n",
              "              max_delta_step=None, max_depth=8, max_leaves=None,\n",
              "              min_child_weight=6, missing=nan, monotone_constraints=None,\n",
              "              n_estimators=300, n_jobs=None, num_parallel_tree=None,\n",
              "              predictor=None, random_state=None, ...)</pre><b>In a Jupyter environment, please rerun this cell to show the HTML representation or trust the notebook. <br />On GitHub, the HTML representation is unable to render, please try loading this page with nbviewer.org.</b></div><div class=\"sk-container\" hidden><div class=\"sk-item\"><div class=\"sk-estimator sk-toggleable\"><input class=\"sk-toggleable__control sk-hidden--visually\" id=\"sk-estimator-id-1\" type=\"checkbox\" checked><label for=\"sk-estimator-id-1\" class=\"sk-toggleable__label sk-toggleable__label-arrow\">XGBClassifier</label><div class=\"sk-toggleable__content\"><pre>XGBClassifier(base_score=None, booster=None, callbacks=None,\n",
              "              colsample_bylevel=None, colsample_bynode=None,\n",
              "              colsample_bytree=0.7528377586428419, early_stopping_rounds=None,\n",
              "              enable_categorical=False, eval_metric=None, feature_types=None,\n",
              "              gamma=None, gpu_id=None, grow_policy=None, importance_type=None,\n",
              "              interaction_constraints=None, learning_rate=0.01781869742819414,\n",
              "              max_bin=None, max_cat_threshold=None, max_cat_to_onehot=None,\n",
              "              max_delta_step=None, max_depth=8, max_leaves=None,\n",
              "              min_child_weight=6, missing=nan, monotone_constraints=None,\n",
              "              n_estimators=300, n_jobs=None, num_parallel_tree=None,\n",
              "              predictor=None, random_state=None, ...)</pre></div></div></div></div></div>"
            ],
            "text/plain": [
              "XGBClassifier(base_score=None, booster=None, callbacks=None,\n",
              "              colsample_bylevel=None, colsample_bynode=None,\n",
              "              colsample_bytree=0.7528377586428419, early_stopping_rounds=None,\n",
              "              enable_categorical=False, eval_metric=None, feature_types=None,\n",
              "              gamma=None, gpu_id=None, grow_policy=None, importance_type=None,\n",
              "              interaction_constraints=None, learning_rate=0.01781869742819414,\n",
              "              max_bin=None, max_cat_threshold=None, max_cat_to_onehot=None,\n",
              "              max_delta_step=None, max_depth=8, max_leaves=None,\n",
              "              min_child_weight=6, missing=nan, monotone_constraints=None,\n",
              "              n_estimators=300, n_jobs=None, num_parallel_tree=None,\n",
              "              predictor=None, random_state=None, ...)"
            ]
          },
          "execution_count": 71,
          "metadata": {},
          "output_type": "execute_result"
        }
      ],
      "source": [
        "xgb = XGBClassifier(\n",
        "    n_estimators = 300,\n",
        "    max_depth = 8,\n",
        "    min_child_weight = 6,\n",
        "    learning_rate = 0.01781869742819414,\n",
        "    subsample = 0.8777480785503919,\n",
        "    colsample_bytree = 0.7528377586428419\n",
        "\n",
        ")\n",
        "\n",
        "xgb.fit(X_train, y_train)"
      ]
    },
    {
      "cell_type": "code",
      "execution_count": 72,
      "metadata": {
        "id": "aYEz8mqWmDLf"
      },
      "outputs": [],
      "source": [
        "## Predictions\n",
        "\n",
        "y_preds = xgb.predict(X_test)"
      ]
    },
    {
      "cell_type": "code",
      "execution_count": 73,
      "metadata": {
        "colab": {
          "base_uri": "https://localhost:8080/"
        },
        "id": "brvo3swPmDIs",
        "outputId": "973305b8-6158-4b40-d9e9-c1d1b6c2cee9"
      },
      "outputs": [
        {
          "name": "stdout",
          "output_type": "stream",
          "text": [
            "Accuracy:  0.7282051282051282\n",
            "Precision:  0.7707006369426752\n",
            "Recall:  0.8768115942028986\n",
            "F1 Score:  0.8203389830508476\n",
            "AUC-ROC:  0.6226163234172388\n",
            "AUC-PR:  0.7629387413103836\n"
          ]
        }
      ],
      "source": [
        "from sklearn.metrics import accuracy_score, precision_score, recall_score, f1_score, roc_auc_score, average_precision_score\n",
        "\n",
        "# Assuming you have true labels y_test and predicted labels y_preds\n",
        "print(\"Accuracy: \", accuracy_score(y_test, y_preds))\n",
        "print(\"Precision: \", precision_score(y_test, y_preds))\n",
        "print(\"Recall: \", recall_score(y_test, y_preds))\n",
        "print(\"F1 Score: \", f1_score(y_test, y_preds))\n",
        "print(\"AUC-ROC: \", roc_auc_score(y_test, y_preds))\n",
        "print(\"AUC-PR: \", average_precision_score(y_test, y_preds))\n"
      ]
    },
    {
      "cell_type": "code",
      "execution_count": 74,
      "metadata": {
        "colab": {
          "base_uri": "https://localhost:8080/"
        },
        "id": "o2Ejwsr2ouUl",
        "outputId": "72b63a96-9285-485d-8ead-9cd97a816c79"
      },
      "outputs": [
        {
          "name": "stdout",
          "output_type": "stream",
          "text": [
            "Final XGB Classifier Accuracy Score (Train) : 0.8858974358974359\n",
            "Final XGB Classifier Accuracy Score (Test) : 0.7282051282051282\n",
            "--------------------------------------------------------------------------------------\n",
            "Final XGB Classifier Accuracy Score (Train) : 0.8858974358974359\n",
            "Final XGB Classifier Precision Score (Test) : 0.8768115942028986\n",
            "----------------------------------------------------------------------------------------\n",
            "Final XGB Classifier Accuracy Score (Train) : 0.8858974358974359\n",
            "Final XGB Classifier F1 Score (Test) : 0.7466318991742722\n"
          ]
        }
      ],
      "source": [
        "print(\"Final XGB Classifier Accuracy Score (Train) :\", xgb.score(X_train,y_train))\n",
        "print(\"Final XGB Classifier Accuracy Score (Test) :\", accuracy_score(y_preds,y_test))\n",
        "\n",
        "print(\"--------------------------------------------------------------------------------------\")\n",
        "\n",
        "print(\"Final XGB Classifier Accuracy Score (Train) :\", xgb.score(X_train,y_train))\n",
        "print(\"Final XGB Classifier Precision Score (Test) :\", precision_score(y_preds,y_test))\n",
        "\n",
        "print(\"----------------------------------------------------------------------------------------\")\n",
        "\n",
        "print(\"Final XGB Classifier Accuracy Score (Train) :\", xgb.score(X_train,y_train))\n",
        "print(\"Final XGB Classifier F1 Score (Test) :\", f1_score(y_preds,y_test, average=\"weighted\"))"
      ]
    },
    {
      "cell_type": "code",
      "execution_count": 75,
      "metadata": {
        "id": "d6PaIEfFprJ6"
      },
      "outputs": [],
      "source": [
        "from sklearn.metrics import confusion_matrix\n",
        "\n",
        "# Import the ConfusionMatrixDisplay function\n",
        "from sklearn.metrics import ConfusionMatrixDisplay"
      ]
    },
    {
      "cell_type": "code",
      "execution_count": 76,
      "metadata": {
        "colab": {
          "base_uri": "https://localhost:8080/",
          "height": 468
        },
        "id": "NyVSKod1p2GF",
        "outputId": "33a4c15f-86a6-4188-eb7f-7eb0e476b3e9"
      },
      "outputs": [
        {
          "data": {
            "text/plain": [
              "<sklearn.metrics._plot.confusion_matrix.ConfusionMatrixDisplay at 0x7f897b6f3be0>"
            ]
          },
          "execution_count": 76,
          "metadata": {},
          "output_type": "execute_result"
        },
        {
          "data": {
            "image/png": "[encoded data removed]",
            "text/plain": [
              "<Figure size 640x480 with 2 Axes>"
            ]
          },
          "metadata": {},
          "output_type": "display_data"
        }
      ],
      "source": [
        "#plots Confusion matrix\n",
        "\n",
        "disp = ConfusionMatrixDisplay(confusion_matrix=confusion_matrix(y_test, y_preds))\n",
        "disp.plot(cmap=\"Blues\")"
      ]
    }
  ],
  "metadata": {
    "colab": {
      "provenance": []
    },
    "kernelspec": {
      "display_name": "Python 3",
      "name": "python3"
    },
    "language_info": {
      "name": "python"
    }
  },
  "nbformat": 4,
  "nbformat_minor": 0
}
